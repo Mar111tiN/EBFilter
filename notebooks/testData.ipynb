{
 "cells": [
  {
   "cell_type": "markdown",
   "metadata": {},
   "source": [
    "# Implementation of the EBfilter by genomon"
   ]
  },
  {
   "cell_type": "markdown",
   "metadata": {},
   "source": [
    "* EBrun (originally EBFilter) is an argparse wrapper passing command line arguments to run.py (is not needed for internal use)\n",
    "* passed arguments:\n",
    "    * targetMutationFile: the .vcf or .anno containing the mutations\n",
    "    * targetBamPath: path to the tumor bam file (+.bai)\n",
    "    * controlBamPathList: text list of path to PoN bam files (+ .bai)\n",
    "    * outputPath\n",
    "    * -q option for quality threshold – not needed --> default _q config\n",
    "    * -Q option for base quality threshold - not needed --> default _Q from config\n",
    "    * --region option for restriction of regions on mpileup -l"
   ]
  },
  {
   "cell_type": "markdown",
   "metadata": {},
   "source": [
    "## Setup arguments and state variable"
   ]
  },
  {
   "cell_type": "markdown",
   "metadata": {},
   "source": [
    "### imports"
   ]
  },
  {
   "cell_type": "code",
   "execution_count": null,
   "metadata": {},
   "outputs": [],
   "source": [
    "import os\n",
    "import pandas as pd\n",
    "from code import run"
   ]
  },
  {
   "cell_type": "markdown",
   "metadata": {},
   "source": [
    "### snakemake config"
   ]
  },
  {
   "cell_type": "code",
   "execution_count": null,
   "metadata": {},
   "outputs": [],
   "source": [
    "config = {'EB':{'run': True}}\n",
    "params = {}\n",
    "params['map_quality'] = 20\n",
    "params['base_quality'] = 15\n",
    "params['filter_flags'] = 'UNMAP,SECONDARY,QCFAIL,DUP'\n",
    "params['fitting_penalty'] = .5\n",
    "config['EB']['threads'] = 1\n",
    "# to simulate snakemake behavior\n",
    "config['EB']['params'] = params\n",
    "config['EB']\n",
    "config['annovar'] = {'sep': '\\t'}"
   ]
  },
  {
   "cell_type": "markdown",
   "metadata": {},
   "source": [
    "### load the config and global state"
   ]
  },
  {
   "cell_type": "code",
   "execution_count": null,
   "metadata": {},
   "outputs": [],
   "source": [
    "debug_mode = True\n",
    "args = {}\n",
    "params = config['EB']['params']\n",
    "threads = config['EB']['threads']\n",
    "sep = config['annovar']['sep']\n",
    "_q = str(params['map_quality'])  # mapping quality=20\n",
    "_Q = params['base_quality']      # base quality=15\n",
    "fit_pen = params['fitting_penalty']\n",
    "filter_quals = ''\n",
    "for qual in range( 33, 33 + _Q ): \n",
    "    filter_quals += chr( qual )  # qual asciis for filtering out\n",
    "_ff = params['filter_flags']     # 'UNMAP,SECONDARY,QCFAIL,DUP'\n",
    "state = {'q':_q, 'Q':_Q, 'filter_quals': filter_quals, 'fitting_penalty': fit_pen, 'ff':_ff, 'threads':threads, 'sep': sep}"
   ]
  },
  {
   "cell_type": "markdown",
   "metadata": {},
   "source": [
    "## testing testdata"
   ]
  },
  {
   "cell_type": "code",
   "execution_count": null,
   "metadata": {},
   "outputs": [],
   "source": [
    "args['mut_file'] = 'testdata/input.anno'\n",
    "args['tumor_bam'] = 'testdata/tumor.bam'\n",
    "args['pon_list'] = 'testdata/list_normal_sample.txt'\n",
    "args['output_path'] = 'output/testdata_eb.csv'\n",
    "args['region'] = ''\n",
    "# log_file from out_path and all to state\n",
    "log_file = f\"{os.path.splitext(args['output_path'])[0]}.log\"\n",
    "state['log'] = log_file"
   ]
  },
  {
   "cell_type": "markdown",
   "metadata": {},
   "source": [
    "# Running EBfilter on test data"
   ]
  },
  {
   "cell_type": "code",
   "execution_count": null,
   "metadata": {},
   "outputs": [],
   "source": [
    "##### RUNNIT\n",
    "state['threads'] = 3\n",
    "state['debug_mode'] = True\n",
    "run.main(args, state)\n",
    "!ls output"
   ]
  }
 ],
 "metadata": {
  "kernelspec": {
   "display_name": "Python 3",
   "language": "python",
   "name": "python3"
  },
  "language_info": {
   "codemirror_mode": {
    "name": "ipython",
    "version": 3
   },
   "file_extension": ".py",
   "mimetype": "text/x-python",
   "name": "python",
   "nbconvert_exporter": "python",
   "pygments_lexer": "ipython3",
   "version": "3.7.0"
  }
 },
 "nbformat": 4,
 "nbformat_minor": 2
}
