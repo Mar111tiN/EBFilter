{
 "cells": [
  {
   "cell_type": "code",
   "execution_count": 2,
   "metadata": {},
   "outputs": [],
   "source": [
    "import pandas as pd\n",
    "from multiprocessing import Pool"
   ]
  },
  {
   "cell_type": "code",
   "execution_count": 7,
   "metadata": {},
   "outputs": [
    {
     "name": "stdout",
     "output_type": "stream",
     "text": [
      "\u001b[31mPoN_list.txt\u001b[m\u001b[m*          \u001b[31mnormalreference3.bai\u001b[m\u001b[m*  \u001b[31mnormalreference8.bai\u001b[m\u001b[m*\r\n",
      "\u001b[31minput.anno\u001b[m\u001b[m*            \u001b[31mnormalreference3.bam\u001b[m\u001b[m*  \u001b[31mnormalreference8.bam\u001b[m\u001b[m*\r\n",
      "input.bed              \u001b[31mnormalreference4.bai\u001b[m\u001b[m*  \u001b[31mnormalreference9.bai\u001b[m\u001b[m*\r\n",
      "\u001b[31minput.vcf.gz\u001b[m\u001b[m*          \u001b[31mnormalreference4.bam\u001b[m\u001b[m*  \u001b[31mnormalreference9.bam\u001b[m\u001b[m*\r\n",
      "\u001b[31mnormalreference1.bai\u001b[m\u001b[m*  \u001b[31mnormalreference5.bai\u001b[m\u001b[m*  \u001b[31moutput.golden.anno\u001b[m\u001b[m*\r\n",
      "\u001b[31mnormalreference1.bam\u001b[m\u001b[m*  \u001b[31mnormalreference5.bam\u001b[m\u001b[m*  \u001b[31moutput.golden.vcf\u001b[m\u001b[m*\r\n",
      "\u001b[31mnormalreference10.bai\u001b[m\u001b[m* \u001b[31mnormalreference6.bai\u001b[m\u001b[m*  \u001b[34mtestdata_cache\u001b[m\u001b[m/\r\n",
      "\u001b[31mnormalreference10.bam\u001b[m\u001b[m* \u001b[31mnormalreference6.bam\u001b[m\u001b[m*  \u001b[31mtumor.bai\u001b[m\u001b[m*\r\n",
      "\u001b[31mnormalreference2.bai\u001b[m\u001b[m*  \u001b[31mnormalreference7.bai\u001b[m\u001b[m*  \u001b[31mtumor.bam\u001b[m\u001b[m*\r\n",
      "\u001b[31mnormalreference2.bam\u001b[m\u001b[m*  \u001b[31mnormalreference7.bam\u001b[m\u001b[m*\r\n"
     ]
    }
   ],
   "source": [
    "cd ../testdata/"
   ]
  },
  {
   "cell_type": "code",
   "execution_count": 6,
   "metadata": {},
   "outputs": [
    {
     "name": "stdout",
     "output_type": "stream",
     "text": [
      "/Users/martinscience/Sites/Python/EBFilter/testdata\n"
     ]
    }
   ],
   "source": []
  },
  {
   "cell_type": "code",
   "execution_count": null,
   "metadata": {},
   "outputs": [],
   "source": []
  }
 ],
 "metadata": {
  "kernelspec": {
   "display_name": "Python 3",
   "language": "python",
   "name": "python3"
  },
  "language_info": {
   "codemirror_mode": {
    "name": "ipython",
    "version": 3
   },
   "file_extension": ".py",
   "mimetype": "text/x-python",
   "name": "python",
   "nbconvert_exporter": "python",
   "pygments_lexer": "ipython3",
   "version": "3.7.3"
  }
 },
 "nbformat": 4,
 "nbformat_minor": 2
}
