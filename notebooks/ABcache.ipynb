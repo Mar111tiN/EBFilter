{
 "cells": [
  {
   "cell_type": "markdown",
   "metadata": {},
   "source": [
    "# Idea: ABcache\n",
    "## getting a precomputed ABcache file containing the parameters for beta-binomial distribution from the PoN-list"
   ]
  },
  {
   "cell_type": "markdown",
   "metadata": {},
   "source": [
    "# Running EBfilter createCache on testdata"
   ]
  },
  {
   "cell_type": "markdown",
   "metadata": {},
   "source": [
    "## setting the config"
   ]
  },
  {
   "cell_type": "code",
   "execution_count": 1,
   "metadata": {},
   "outputs": [
    {
     "name": "stdout",
     "output_type": "stream",
     "text": [
      "/Users/martinscience/Sites/Python/EBFilter\n"
     ]
    }
   ],
   "source": [
    "cd .."
   ]
  },
  {
   "cell_type": "code",
   "execution_count": 2,
   "metadata": {
    "ExecuteTime": {
     "end_time": "2019-04-10T20:45:32.058959Z",
     "start_time": "2019-04-10T20:45:31.563559Z"
    }
   },
   "outputs": [],
   "source": [
    "from codes import run\n",
    "\n",
    "# snakemake config\n",
    "config = {'EB':{'run': True}}\n",
    "params = {}\n",
    "params['map_quality'] = 20\n",
    "params['base_quality'] = 15\n",
    "params['filter_flags'] = 'UNMAP,SECONDARY,QCFAIL,DUP'\n",
    "params['fitting_penalty'] = .5\n",
    "params['caching'] = True\n",
    "# to simulate snakemake behavior\n",
    "config['EB']['threads'] = 1\n",
    "config['EB']['params'] = params\n",
    "config['EB']\n",
    "config['annovar'] = {'sep': '\\t'}\n",
    "config['EB']['log'] = 'output/logfile'\n",
    "\n",
    "\n",
    "params = config['EB']['params']\n",
    "threads = config['EB']['threads']\n",
    "log = config['EB']['log']\n",
    "sep = config['annovar']['sep']\n",
    "_q = str(params['map_quality'])  # mapping quality=20\n",
    "_Q = params['base_quality']      # base quality=15\n",
    "fit_pen = params['fitting_penalty']\n",
    "filter_quals = ''\n",
    "for qual in range( 33, 33 + _Q ): \n",
    "    filter_quals += chr( qual )  # qual asciis for filtering out\n",
    "_ff = params['filter_flags']     # 'UNMAP,SECONDARY,QCFAIL,DUP'\n",
    "config = {'q':_q, 'Q':_Q, 'filter_quals': filter_quals, 'log':log, 'fitting_penalty': fit_pen, 'ff':_ff, 'threads':threads, 'sep': sep}\n"
   ]
  },
  {
   "cell_type": "markdown",
   "metadata": {},
   "source": [
    "## running makeEBcache on testdata (takes ~2h on 3 cores)\n",
    "* is not necessary for testing the cache mode\n",
    "* a precomputed EBcache is stored in testdata/precom_testcache"
   ]
  },
  {
   "cell_type": "code",
   "execution_count": 3,
   "metadata": {
    "ExecuteTime": {
     "end_time": "2019-04-09T19:17:19.038955Z",
     "start_time": "2019-04-09T19:17:19.035507Z"
    }
   },
   "outputs": [],
   "source": [
    "args = {}\n",
    "args['pon_list'] = 'testdata/PoN_list.txt'\n",
    "args['cache_folder'] = 'testdata/testdata_cache' # provide a folder for storing the data (snakemake config)\n",
    "args['force_caching'] = True               # force cache generation although no bed_file is provided\n",
    "args['bed_file'] = None # 'testdata/input.bed'\n",
    "args['generate_cache'] = True\n"
   ]
  },
  {
   "cell_type": "code",
   "execution_count": 4,
   "metadata": {
    "ExecuteTime": {
     "end_time": "2019-04-10T20:45:40.515331Z",
     "start_time": "2019-04-10T20:45:32.899711Z"
    }
   },
   "outputs": [
    {
     "name": "stdout",
     "output_type": "stream",
     "text": [
      "Validating PoN list testdata/PoN_list.txt..\n",
      "2019-05-04 10:55:17 Generating Cache for chromosome chr11.. \n",
      "10:55:17 Splitting bam files of PoN for chromosome chr11..\n",
      "10:55:21 Writing pon list for chromosome chr11..\n",
      "10:55:21 Generating pileup for chromosome chr11..\n",
      "10:55:50: Writing pileup of Chr chr11 to file testdata/testdata_cache/cache_pileups/cache_chr11.pileup\n",
      "[{'file': 'testdata/testdata_cache/cache_pileups/cache_chr11.pileup', 'chr': 'chr11', 'pileup_len': 457702}]\n",
      "10:56:02: Reading pileup testdata/testdata_cache/cache_pileups/cache_chr11.pileup for AB computation\n",
      "Process 13229: 0 lines (0.0%) of Chr chr11.\t|                         |\n",
      "Process 13230: 10000 lines (2.2%) of Chr chr11.\t|.                        |\n",
      "Process 13231: 20000 lines (4.4%) of Chr chr11.\t|..                       |\n",
      "Process 13229: 30000 lines (6.6%) of Chr chr11.\t|..                       |\n",
      "Process 13230: 40000 lines (8.7%) of Chr chr11.\t|...                      |\n",
      "Process 13231: 50000 lines (10.9%) of Chr chr11.\t|...                      |\n",
      "Process 13231: 60000 lines (13.1%) of Chr chr11.\t|....                     |\n",
      "Process 13230: 70000 lines (15.3%) of Chr chr11.\t|....                     |\n",
      "Process 13229: 80000 lines (17.5%) of Chr chr11.\t|.....                    |\n",
      "Process 13231: 90000 lines (19.7%) of Chr chr11.\t|.....                    |\n",
      "Process 13230: 100000 lines (21.8%) of Chr chr11.\t|......                   |\n",
      "Process 13229: 110000 lines (24.0%) of Chr chr11.\t|.......                  |\n",
      "Process 13231: 120000 lines (26.2%) of Chr chr11.\t|.......                  |\n",
      "Process 13230: 130000 lines (28.4%) of Chr chr11.\t|........                 |\n",
      "Process 13229: 140000 lines (30.6%) of Chr chr11.\t|........                 |\n",
      "Process 13231: 150000 lines (32.8%) of Chr chr11.\t|.........                |\n",
      "Process 13230: 160000 lines (35.0%) of Chr chr11.\t|.........                |\n",
      "Process 13229: 170000 lines (37.1%) of Chr chr11.\t|..........               |\n",
      "Process 13230: 180000 lines (39.3%) of Chr chr11.\t|..........               |\n",
      "Process 13231: 190000 lines (41.5%) of Chr chr11.\t|...........              |\n",
      "Process 13229: 200000 lines (43.7%) of Chr chr11.\t|...........              |\n",
      "Process 13230: 210000 lines (45.9%) of Chr chr11.\t|............             |\n",
      "Process 13231: 220000 lines (48.1%) of Chr chr11.\t|.............            |\n",
      "Process 13229: 230000 lines (50.3%) of Chr chr11.\t|.............            |\n",
      "Process 13230: 240000 lines (52.4%) of Chr chr11.\t|..............           |\n",
      "Process 13231: 250000 lines (54.6%) of Chr chr11.\t|..............           |\n",
      "Process 13229: 260000 lines (56.8%) of Chr chr11.\t|...............          |\n",
      "Process 13230: 270000 lines (59.0%) of Chr chr11.\t|...............          |\n",
      "Process 13231: 280000 lines (61.2%) of Chr chr11.\t|................         |\n",
      "Process 13229: 290000 lines (63.4%) of Chr chr11.\t|................         |\n",
      "Process 13230: 300000 lines (65.5%) of Chr chr11.\t|.................        |\n",
      "Process 13231: 310000 lines (67.7%) of Chr chr11.\t|.................        |\n",
      "Process 13229: 320000 lines (69.9%) of Chr chr11.\t|..................       |\n",
      "Process 13230: 330000 lines (72.1%) of Chr chr11.\t|...................      |\n",
      "Process 13231: 340000 lines (74.3%) of Chr chr11.\t|...................      |\n",
      "Process 13229: 350000 lines (76.5%) of Chr chr11.\t|....................     |\n",
      "Process 13230: 360000 lines (78.7%) of Chr chr11.\t|....................     |\n",
      "Process 13231: 370000 lines (80.8%) of Chr chr11.\t|.....................    |\n",
      "Process 13229: 380000 lines (83.0%) of Chr chr11.\t|.....................    |\n",
      "Process 13230: 390000 lines (85.2%) of Chr chr11.\t|......................   |\n",
      "Process 13231: 400000 lines (87.4%) of Chr chr11.\t|......................   |\n",
      "Process 13229: 410000 lines (89.6%) of Chr chr11.\t|.......................  |\n",
      "Process 13230: 420000 lines (91.8%) of Chr chr11.\t|.......................  |\n",
      "Process 13231: 430000 lines (93.9%) of Chr chr11.\t|........................ |\n",
      "Process 13229: 440000 lines (96.1%) of Chr chr11.\t|.........................|\n",
      "Process 13230: 450000 lines (98.3%) of Chr chr11.\t|.........................|\n",
      "13:11:25: Writing ABcache for Chr chr11 to file testdata/testdata_cache/chr11.cache.\n",
      "13:11:32: Generation of AB file finished.\n",
      "testdata_eb.csv\n"
     ]
    }
   ],
   "source": [
    "config['threads'] = 3\n",
    "config['debug_mode'] = False\n",
    "run.main(args, config)\n",
    "!ls output"
   ]
  },
  {
   "cell_type": "markdown",
   "metadata": {},
   "source": [
    "### using CLI:"
   ]
  },
  {
   "cell_type": "code",
   "execution_count": 5,
   "metadata": {},
   "outputs": [
    {
     "name": "stdout",
     "output_type": "stream",
     "text": [
      "Traceback (most recent call last):\r\n",
      "  File \"./makeEBcache\", line 3, in <module>\r\n",
      "    from ebfilter.run import main\r\n",
      "ModuleNotFoundError: No module named 'ebfilter'\r\n"
     ]
    }
   ],
   "source": [
    "!./makeEBcache -t 3 -force_caching testdata/PoN_list.txt testdata/testdata_cache"
   ]
  },
  {
   "cell_type": "markdown",
   "metadata": {},
   "source": [
    "## running EBscore in cache_mode on testdata\n",
    "* you can use the cache file generated in the last step or the precomputed one\n",
    "* for using precomputed file, just change the args['use_cache'] value"
   ]
  },
  {
   "cell_type": "code",
   "execution_count": 6,
   "metadata": {},
   "outputs": [],
   "source": [
    "args = {}\n",
    "args['mut_file'] = 'testdata/input.anno'\n",
    "args['tumor_bam'] = 'testdata/tumor.bam'\n",
    "args['pon_list'] = 'testdata/PoN_list.txt'\n",
    "args['output_path'] = 'output/testdata_eb.csv'\n",
    "# toggle outcomment in the next two lines for use of precomputed cache file\n",
    "args['use_cache'] = 'testdata/testdata_cache' \n",
    "# args['use_cache'] = 'testdata/precom_testcache'\n",
    "args['chromosome'] = 'chr11'\n",
    "args['generate_cache'] = False"
   ]
  },
  {
   "cell_type": "code",
   "execution_count": 7,
   "metadata": {},
   "outputs": [
    {
     "name": "stdout",
     "output_type": "stream",
     "text": [
      "Validating PoN list testdata/PoN_list.txt..\n",
      "Running EBscore in EBcache mode...\n",
      "Loading annotation file testdata/input.anno..\n",
      "Loading cache testdata/testdata_cache/chr11.cache..\n",
      "Drawing BB parameters from cache and piling up the target bam..\n",
      "Writing annotation file output/testdata_eb.csv with EBscores to disc..\n",
      "EBscore is finished!\n",
      "testdata_eb.csv\n"
     ]
    }
   ],
   "source": [
    "config['threads'] = 3\n",
    "config['debug_mode'] = False\n",
    "run.main(args, config)\n",
    "!ls output"
   ]
  },
  {
   "cell_type": "markdown",
   "metadata": {},
   "source": [
    "### using CLI:"
   ]
  },
  {
   "cell_type": "code",
   "execution_count": null,
   "metadata": {},
   "outputs": [],
   "source": [
    "!EBscore -t 3 -use_cache testdata/testdata_cache testdata/input.anno testdata/tumor.bam testdata/PoN_list.txt output/testdata_EB.csv"
   ]
  },
  {
   "cell_type": "markdown",
   "metadata": {},
   "source": [
    "## Running EBfilter createCache on my data (takes ~5h on 3 cores)"
   ]
  },
  {
   "cell_type": "code",
   "execution_count": null,
   "metadata": {
    "ExecuteTime": {
     "end_time": "2019-04-09T19:17:19.038955Z",
     "start_time": "2019-04-09T19:17:19.035507Z"
    }
   },
   "outputs": [],
   "source": [
    "import os\n",
    "HOME = os.environ['HOME'] # set HOME to run on different Macs\n",
    "args = {}\n",
    "args['pon_list'] = f'{HOME}/Dropbox/Icke/Work/somVar/tools/EBFilter/mytestdata/aml_pon.list'\n",
    "args['cache_folder'] = f'{HOME}/Dropbox/Icke/Work/somVar/tools/EBFilter/mytestdata/aml_cache'\n",
    "args['force_caching'] = False\n",
    "args['bed_file'] = f'{HOME}/Dropbox/Icke/Work/somVar/tools/EBFilter/mytestdata/HAEv7.bed'\n",
    "args['chrom'] = '22'\n",
    "args['generate_cache'] = True"
   ]
  },
  {
   "cell_type": "code",
   "execution_count": null,
   "metadata": {},
   "outputs": [],
   "source": [
    "config['threads'] = 3\n",
    "config['debug_mode'] = False\n",
    "run.main(args, config)\n",
    "!ls output"
   ]
  },
  {
   "cell_type": "markdown",
   "metadata": {},
   "source": [
    "### using CLI:"
   ]
  },
  {
   "cell_type": "code",
   "execution_count": null,
   "metadata": {},
   "outputs": [],
   "source": [
    "!makeEBcache -t3 -force_caching ~/Dropbox/Icke/Work/somVar/tools/EBFilter/mytestdata/aml_pon.list ~/Dropbox/Icke/Work/somVar/tools/EBFilter/mytestdata/aml_cache"
   ]
  },
  {
   "cell_type": "markdown",
   "metadata": {},
   "source": [
    "## Running EBscore in cache_mode on my data"
   ]
  },
  {
   "cell_type": "code",
   "execution_count": null,
   "metadata": {},
   "outputs": [],
   "source": [
    "import os\n",
    "HOME = os.environ['HOME'] # set HOME to run on different Macs\n",
    "args = {}\n",
    "args['mut_file'] = f'{HOME}/Dropbox/Icke/Work/somVar/tools/EBFilter/mytestdata/anno/test_rel.csv'\n",
    "args['tumor_bam'] = f'{HOME}/Dropbox/Icke/Work/somVar/tools/EBFilter/mytestdata/bam/test_Rel1.bam'\n",
    "args['pon_list'] = f'{HOME}/Dropbox/Icke/Work/somVar/tools/EBFilter/mytestdata/aml_pon.list'\n",
    "args['use_cache'] = f'{HOME}/Dropbox/Icke/Work/somVar/tools/EBFilter/mytestdata/aml_cache'\n",
    "args['output_path'] = f'{HOME}/Dropbox/Icke/Work/somVar/tools/EBFilter/mytestdata/output/test_eb.csv'\n",
    "args['chromosome'] = 'chr11'\n",
    "args['generate_cache'] = False"
   ]
  },
  {
   "cell_type": "code",
   "execution_count": null,
   "metadata": {},
   "outputs": [],
   "source": [
    "config['threads'] = 40\n",
    "config['debug_mode'] = True\n",
    "run.main(args, config)"
   ]
  },
  {
   "cell_type": "markdown",
   "metadata": {},
   "source": [
    "### using CLI:"
   ]
  },
  {
   "cell_type": "code",
   "execution_count": null,
   "metadata": {},
   "outputs": [],
   "source": [
    "!EBscore -t 3 -use_cache ~/Dropbox/Icke/Work/somVar/tools/EBFilter/mytestdata/aml_cache ~//Dropbox/Icke/Work/somVar/tools/EBFilter/mytestdata/anno/test_rel.csv ~/Dropbox/Icke/Work/somVar/tools/EBFilter/mytestdata/bam/test_Rel1.bam ~/Dropbox/Icke/Work/somVar/tools/EBFilter/mytestdata/aml_pon.list ~/Dropbox/Icke/Work/somVar/tools/EBFilter/mytestdata/output/test_eb.csv\n"
   ]
  },
  {
   "cell_type": "markdown",
   "metadata": {},
   "source": [
    "## Running EBfilter createCache in BIHCluster on real data"
   ]
  },
  {
   "cell_type": "code",
   "execution_count": null,
   "metadata": {},
   "outputs": [],
   "source": [
    "import os\n",
    "HOME = os.environ['HOME'] # set HOME to run on different Macs\n",
    "args = {}\n",
    "args['pon_list'] = f'{HOME}/work/static/ref/PoN/AML_Pon.txt'\n",
    "args['cache_folder'] = f'{HOME}/work/static/ref/PoN/AML_cache'\n",
    "args['force_caching'] = False\n",
    "args['chromosome'] = '22'\n",
    "args['bed_file'] = f'{HOME}/work/static/ref/bed_files/SureSelect/hg19/SS_HAEv6r2_hg19_Padded_nochr.bed'\n",
    "args['generate_cache'] = True\n"
   ]
  },
  {
   "cell_type": "code",
   "execution_count": null,
   "metadata": {},
   "outputs": [],
   "source": [
    "config['threads'] = 40\n",
    "config['debug_mode'] = True\n",
    "run.main(args, config)"
   ]
  },
  {
   "cell_type": "code",
   "execution_count": null,
   "metadata": {},
   "outputs": [],
   "source": [
    "from codes import run\n",
    "\n",
    "# snakemake config\n",
    "config = {'EB':{'run': True}}\n",
    "params = {}\n",
    "params['map_quality'] = 20\n",
    "params['base_quality'] = 15\n",
    "params['filter_flags'] = 'UNMAP,SECONDARY,QCFAIL,DUP'\n",
    "params['fitting_penalty'] = .5\n",
    "params['caching'] = True\n",
    "# to simulate snakemake behavior\n",
    "config['EB']['threads'] = 1\n",
    "config['EB']['params'] = params\n",
    "config['EB']\n",
    "config['annovar'] = {'sep': '\\t'}\n",
    "config['EB']['log'] = 'output/logfile'\n",
    "\n",
    "\n",
    "params = config['EB']['params']\n",
    "threads = config['EB']['threads']\n",
    "log = config['EB']['log']\n",
    "sep = config['annovar']['sep']\n",
    "_q = str(params['map_quality'])  # mapping quality=20\n",
    "_Q = params['base_quality']      # base quality=15\n",
    "fit_pen = params['fitting_penalty']\n",
    "filter_quals = ''\n",
    "for qual in range( 33, 33 + _Q ): \n",
    "    filter_quals += chr( qual )  # qual asciis for filtering out\n",
    "\n",
    "_ff = params['filter_flags']     # 'UNMAP,SECONDARY,QCFAIL,DUP'\n",
    "config = {'q':_q, 'Q':_Q, 'filter_quals': filter_quals, 'log':log, 'fitting_penalty': fit_pen, 'ff':_ff, 'threads':threads, 'sep': sep}\n",
    "\n",
    "import os\n",
    "HOME = os.environ['HOME'] # set HOME to run on different Macs\n",
    "args = {}\n",
    "args['pon_list'] = f'{HOME}/work/static/ref/PoN/AML_Pon.txt'\n",
    "args['cache_folder'] = f'{HOME}/work/static/ref/PoN/AML_cache'\n",
    "args['force_caching'] = False\n",
    "args['chrom'] = '14'\n",
    "args['bed_file'] = f'{HOME}/work/static/ref/bed_files/SureSelect/hg19/SS_HAEv6r2_hg19_Padded_nochr.bed'\n",
    "args['generate_cache'] = True\n",
    "\n",
    "config['threads'] = 20\n",
    "config['debug_mode'] = True\n",
    "run.main(args, config)"
   ]
  },
  {
   "cell_type": "markdown",
   "metadata": {},
   "source": [
    "### using CLI:"
   ]
  },
  {
   "cell_type": "code",
   "execution_count": null,
   "metadata": {},
   "outputs": [],
   "source": [
    "!makeEBcache -t3 -bed_file ~/work/static/ref/bed_files/SureSelect/hg19/SS_HAEv6r2_hg19_Padded_nochr.bed ~/work/static/ref/PoN/AML_Pon.txt ~/work/static/ref/PoN/AML_cache\n"
   ]
  },
  {
   "cell_type": "markdown",
   "metadata": {},
   "source": [
    "## Running EBscore in cache_mode in BIHCluster on real data"
   ]
  },
  {
   "cell_type": "code",
   "execution_count": null,
   "metadata": {
    "ExecuteTime": {
     "end_time": "2019-04-10T18:10:43.733327Z",
     "start_time": "2019-04-10T18:10:43.626705Z"
    }
   },
   "outputs": [],
   "source": [
    "from codes import run\n",
    "\n",
    "# snakemake config\n",
    "config = {'EB':{'run': True}}\n",
    "params = {}\n",
    "params['map_quality'] = 20\n",
    "params['base_quality'] = 15\n",
    "params['filter_flags'] = 'UNMAP,SECONDARY,QCFAIL,DUP'\n",
    "params['fitting_penalty'] = .5\n",
    "params['caching'] = True\n",
    "# to simulate snakemake behavior\n",
    "config['EB']['threads'] = 1\n",
    "config['EB']['params'] = params\n",
    "config['EB']\n",
    "config['annovar'] = {'sep': '\\t'}\n",
    "config['EB']['log'] = 'output/logfile'\n",
    "\n",
    "\n",
    "params = config['EB']['params']\n",
    "threads = config['EB']['threads']\n",
    "log = config['EB']['log']\n",
    "sep = config['annovar']['sep']\n",
    "_q = str(params['map_quality'])  # mapping quality=20\n",
    "_Q = params['base_quality']      # base quality=15\n",
    "fit_pen = params['fitting_penalty']\n",
    "filter_quals = ''\n",
    "for qual in range( 33, 33 + _Q ): \n",
    "    filter_quals += chr( qual )  # qual asciis for filtering out\n",
    "_ff = params['filter_flags']     # 'UNMAP,SECONDARY,QCFAIL,DUP'\n",
    "config = {'q':_q, 'Q':_Q, 'filter_quals': filter_quals, 'log':log, 'fitting_penalty': fit_pen, 'ff':_ff, 'threads':threads, 'sep': sep}\n",
    "\n",
    "\n",
    "import os\n",
    "HOME = os.environ['HOME'] # set HOME to run on different Macs\n",
    "args = {}\n",
    "args['mut_file'] = 'testdata2/anno/test_D-CR1_bull.csv'\n",
    "args['sep'] = ','\n",
    "args['output_path'] = 'output/test_D_EB.csv'\n",
    "args['tumor_bam'] = 'testdata2/bam/test_D.bam'\n",
    "args['pon_list'] = f'{HOME}/work/static/ref/PoN/AML_Pon.txt'\n",
    "args['use_cache'] = f'{HOME}/work/static/ref/PoN/AML_cache'\n",
    "args['chromosome'] = '22'\n",
    "args['generate_cache'] = False\n",
    "\n",
    "\n",
    "config['threads'] = 40\n",
    "config['debug_mode'] = False\n",
    "run.main(args, config)"
   ]
  },
  {
   "cell_type": "code",
   "execution_count": null,
   "metadata": {},
   "outputs": [],
   "source": [
    "config['threads'] = 40\n",
    "config['debug_mode'] = False\n",
    "run.main(args, config)"
   ]
  }
 ],
 "metadata": {
  "kernelspec": {
   "display_name": "Python 3",
   "language": "python",
   "name": "python3"
  },
  "language_info": {
   "codemirror_mode": {
    "name": "ipython",
    "version": 3
   },
   "file_extension": ".py",
   "mimetype": "text/x-python",
   "name": "python",
   "nbconvert_exporter": "python",
   "pygments_lexer": "ipython3",
   "version": "3.7.3"
  },
  "varInspector": {
   "cols": {
    "lenName": 16,
    "lenType": 16,
    "lenVar": 40
   },
   "kernels_config": {
    "python": {
     "delete_cmd_postfix": "",
     "delete_cmd_prefix": "del ",
     "library": "var_list.py",
     "varRefreshCmd": "print(var_dic_list())"
    },
    "r": {
     "delete_cmd_postfix": ") ",
     "delete_cmd_prefix": "rm(",
     "library": "var_list.r",
     "varRefreshCmd": "cat(var_dic_list()) "
    }
   },
   "types_to_exclude": [
    "module",
    "function",
    "builtin_function_or_method",
    "instance",
    "_Feature"
   ],
   "window_display": false
  }
 },
 "nbformat": 4,
 "nbformat_minor": 2
}
