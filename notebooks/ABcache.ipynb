{
 "cells": [
  {
   "cell_type": "markdown",
   "metadata": {},
   "source": [
    "# Idea: ABcache\n",
    "## getting a precomputed ABcache file containing the parameters for beta-binomial distribution from the PoN-list"
   ]
  },
  {
   "cell_type": "markdown",
   "metadata": {},
   "source": [
    "# Running EBfilter createCache on testdata"
   ]
  },
  {
   "cell_type": "markdown",
   "metadata": {},
   "source": [
    "## setting the config"
   ]
  },
  {
   "cell_type": "code",
   "execution_count": 1,
   "metadata": {},
   "outputs": [
    {
     "name": "stdout",
     "output_type": "stream",
     "text": [
      "/Users/martinscience/Sites/Python/EBFilter\n"
     ]
    }
   ],
   "source": [
    "cd .."
   ]
  },
  {
   "cell_type": "code",
   "execution_count": 2,
   "metadata": {
    "ExecuteTime": {
     "end_time": "2019-04-10T20:45:32.058959Z",
     "start_time": "2019-04-10T20:45:31.563559Z"
    }
   },
   "outputs": [],
   "source": [
    "from codes import run\n",
    "\n",
    "# snakemake config\n",
    "config = {'EB':{'run': True}}\n",
    "params = {}\n",
    "params['map_quality'] = 20\n",
    "params['base_quality'] = 15\n",
    "params['filter_flags'] = 'UNMAP,SECONDARY,QCFAIL,DUP'\n",
    "params['fitting_penalty'] = .5\n",
    "params['caching'] = True\n",
    "# to simulate snakemake behavior\n",
    "config['EB']['threads'] = 1\n",
    "config['EB']['params'] = params\n",
    "config['EB']\n",
    "config['annovar'] = {'sep': '\\t'}\n",
    "config['EB']['log'] = 'output/logfile'\n",
    "\n",
    "\n",
    "params = config['EB']['params']\n",
    "threads = config['EB']['threads']\n",
    "log = config['EB']['log']\n",
    "sep = config['annovar']['sep']\n",
    "_q = str(params['map_quality'])  # mapping quality=20\n",
    "_Q = params['base_quality']      # base quality=15\n",
    "fit_pen = params['fitting_penalty']\n",
    "filter_quals = ''\n",
    "for qual in range( 33, 33 + _Q ): \n",
    "    filter_quals += chr( qual )  # qual asciis for filtering out\n",
    "_ff = params['filter_flags']     # 'UNMAP,SECONDARY,QCFAIL,DUP'\n",
    "config = {'q':_q, 'Q':_Q, 'filter_quals': filter_quals, 'log':log, 'fitting_penalty': fit_pen, 'ff':_ff, 'threads':threads, 'sep': sep}\n"
   ]
  },
  {
   "cell_type": "markdown",
   "metadata": {},
   "source": [
    "## running makeEBcache on testdata"
   ]
  },
  {
   "cell_type": "code",
   "execution_count": 3,
   "metadata": {
    "ExecuteTime": {
     "end_time": "2019-04-09T19:17:19.038955Z",
     "start_time": "2019-04-09T19:17:19.035507Z"
    }
   },
   "outputs": [],
   "source": [
    "args = {}\n",
    "args['pon_list'] = 'testdata/PoN_list.txt'\n",
    "args['cache_folder'] = 'testdata/testdata_cache' # provide a folder for storing the data (snakemake config)\n",
    "args['force_caching'] = True                 # force cache generation although no bed_file is provided\n",
    "args['bed_file'] = None # 'testdata/input.bed'\n",
    "args['generate_cache'] = True"
   ]
  },
  {
   "cell_type": "code",
   "execution_count": null,
   "metadata": {
    "ExecuteTime": {
     "end_time": "2019-04-10T20:45:40.515331Z",
     "start_time": "2019-04-10T20:45:32.899711Z"
    }
   },
   "outputs": [
    {
     "name": "stdout",
     "output_type": "stream",
     "text": [
      "Generating Cache...\n",
      "Generating  pileup for chromosome chr11..\n",
      "Splitting bam files for chromosome chr11..\n",
      "Writing pileup of Chr chr11 to file testdata/testdata_cache/cache_pileups/cache_chr11.pileup\n",
      "Reading pileup testdata/testdata_cache/cache_pileups/cache_chr11.pileup for AB computation\n",
      "Splitting the 457702 lines of chr11.pileup into 3 chunks for multithreaded computation..\n",
      "Process 7973: Computing ABs for Chr chr11 \t(lines 0\t to \t152568)\n",
      "Process 7974: Computing ABs for Chr chr11 \t(lines 152568\t to \t305135)\n",
      "Process 7975: Computing ABs for Chr chr11 \t(lines 305135\t to \t457702)\n"
     ]
    }
   ],
   "source": [
    "config['threads'] = 3\n",
    "config['debug_mode'] = False\n",
    "run.main(args, config)\n",
    "!ls output"
   ]
  },
  {
   "cell_type": "markdown",
   "metadata": {},
   "source": [
    "### using CLI:"
   ]
  },
  {
   "cell_type": "code",
   "execution_count": null,
   "metadata": {},
   "outputs": [],
   "source": [
    "!makeEBcache -t3 -force_caching testdata/PoN_list.txt testdata/testdata_cache"
   ]
  },
  {
   "cell_type": "markdown",
   "metadata": {},
   "source": [
    "## running EBscore in cache_mode on testdata"
   ]
  },
  {
   "cell_type": "code",
   "execution_count": null,
   "metadata": {},
   "outputs": [],
   "source": [
    "args = {}\n",
    "args['mut_file'] = 'testdata/input.anno'\n",
    "args['tumor_bam'] = 'testdata/tumor.bam'\n",
    "args['pon_list'] = 'testdata/PoN_list.txt'\n",
    "args['output_path'] = 'output/testdata_eb.csv'\n",
    "args['use_cache'] = 'testdata/testdata_cache'\n",
    "args['chromosome'] = 'chr11'\n",
    "args['generate_cache'] = False"
   ]
  },
  {
   "cell_type": "code",
   "execution_count": null,
   "metadata": {},
   "outputs": [],
   "source": [
    "config['threads'] = 20\n",
    "config['debug_mode'] = False\n",
    "run.main(args, config)\n",
    "!ls output"
   ]
  },
  {
   "cell_type": "markdown",
   "metadata": {},
   "source": [
    "### using CLI:"
   ]
  },
  {
   "cell_type": "code",
   "execution_count": null,
   "metadata": {},
   "outputs": [],
   "source": [
    "!EBscore -t 3 -use_cache testdata/testdata_cache testdata/input.anno testdata/tumor.bam testdata/PoN_list.txt output/testdata_EB.csv"
   ]
  },
  {
   "cell_type": "markdown",
   "metadata": {},
   "source": [
    "## Running EBfilter createCache on my data"
   ]
  },
  {
   "cell_type": "code",
   "execution_count": null,
   "metadata": {
    "ExecuteTime": {
     "end_time": "2019-04-09T19:17:19.038955Z",
     "start_time": "2019-04-09T19:17:19.035507Z"
    }
   },
   "outputs": [],
   "source": [
    "import os\n",
    "HOME = os.environ['HOME'] # set HOME to run on different Macs\n",
    "args = {}\n",
    "args['pon_list'] = f'{HOME}/Dropbox/Icke/Work/somVar/tools/EBFilter/mytestdata/aml_pon.list'\n",
    "args['cache_folder'] = f'{HOME}/Dropbox/Icke/Work/somVar/tools/EBFilter/mytestdata/aml_cache'\n",
    "args['force_caching'] = True\n",
    "args['bed_file'] = None\n",
    "args['generate_cache'] = True"
   ]
  },
  {
   "cell_type": "code",
   "execution_count": null,
   "metadata": {},
   "outputs": [],
   "source": [
    "config['threads'] = 3\n",
    "config['debug_mode'] = True"
   ]
  },
  {
   "cell_type": "markdown",
   "metadata": {},
   "source": [
    "### using CLI:"
   ]
  },
  {
   "cell_type": "code",
   "execution_count": null,
   "metadata": {},
   "outputs": [],
   "source": [
    "!makeEBcache -t3 -force_caching ~/Dropbox/Icke/Work/somVar/tools/EBFilter/mytestdata/aml_pon.list ~/Dropbox/Icke/Work/somVar/tools/EBFilter/mytestdata/aml_cache\n"
   ]
  },
  {
   "cell_type": "markdown",
   "metadata": {},
   "source": [
    "## Running EBscore in cache_mode on my data"
   ]
  },
  {
   "cell_type": "code",
   "execution_count": null,
   "metadata": {},
   "outputs": [],
   "source": [
    "import os\n",
    "HOME = os.environ['HOME'] # set HOME to run on different Macs\n",
    "args = {}\n",
    "args['mut_file'] = f'{Home}/Dropbox/Icke/Work/somVar/tools/EBFilter/mytestdata/anno/test_rel.csv'\n",
    "args['tumor_bam'] = f'{Home}/Dropbox/Icke/Work/somVar/tools/EBFilter/mytestdata/bam/test_Rel1.bam'\n",
    "args['pon_list'] = f'{HOME}/Dropbox/Icke/Work/somVar/tools/EBFilter/mytestdata/aml_pon.list'\n",
    "args['use_cache'] = f'{HOME}/Dropbox/Icke/Work/somVar/tools/EBFilter/mytestdata/aml_cache'\n",
    "args['output_path'] = f'{HOME}/Dropbox/Icke/Work/somVar/tools/EBFilter/mytestdata/output/test_eb.csv'\n",
    "args['chromosome'] = 'chr11'\n",
    "args['generate_cache'] = False"
   ]
  },
  {
   "cell_type": "code",
   "execution_count": null,
   "metadata": {},
   "outputs": [],
   "source": [
    "config['threads'] = 40\n",
    "config['debug_mode'] = True\n",
    "run.main(args, config)"
   ]
  },
  {
   "cell_type": "markdown",
   "metadata": {},
   "source": [
    "### using CLI:"
   ]
  },
  {
   "cell_type": "code",
   "execution_count": null,
   "metadata": {},
   "outputs": [],
   "source": [
    "!EBscore -t 3 -use_cache ~/Dropbox/Icke/Work/somVar/tools/EBFilter/mytestdata/aml_cache ~//Dropbox/Icke/Work/somVar/tools/EBFilter/mytestdata/anno/test_rel.csv ~/Dropbox/Icke/Work/somVar/tools/EBFilter/mytestdata/bam/test_Rel1.bam ~/Dropbox/Icke/Work/somVar/tools/EBFilter/mytestdata/aml_pon.list ~/Dropbox/Icke/Work/somVar/tools/EBFilter/mytestdata/output/test_eb.csv\n"
   ]
  },
  {
   "cell_type": "markdown",
   "metadata": {},
   "source": [
    "## Running EBfilter createCache in BIHCluster on real data"
   ]
  },
  {
   "cell_type": "code",
   "execution_count": null,
   "metadata": {},
   "outputs": [],
   "source": [
    "import os\n",
    "HOME = os.environ['HOME'] # set HOME to run on different Macs\n",
    "args = {}\n",
    "args['pon_list'] = f'{HOME}/work/static/ref/PoN/AML_Pon.txt'\n",
    "args['cache_folder'] = f'{HOME}/work/static/ref/PoN/AML_cache'\n",
    "args['force_caching'] = False\n",
    "args['chromosome'] = '22'\n",
    "args['bed_file'] = f'{HOME}/work/static/ref/bed_files/SureSelect/hg19/SS_HAEv6r2_hg19_Padded_nochr.bed'\n",
    "args['generate_cache'] = True\n"
   ]
  },
  {
   "cell_type": "code",
   "execution_count": null,
   "metadata": {},
   "outputs": [],
   "source": [
    "config['threads'] = 40\n",
    "config['debug_mode'] = True\n",
    "run.main(args, config)"
   ]
  },
  {
   "cell_type": "markdown",
   "metadata": {},
   "source": [
    "### using CLI:"
   ]
  },
  {
   "cell_type": "code",
   "execution_count": null,
   "metadata": {},
   "outputs": [],
   "source": [
    "!makeEBcache -t3 -bed_file ~/work/static/ref/bed_files/SureSelect/hg19/SS_HAEv6r2_hg19_Padded_nochr.bed ~/work/static/ref/PoN/AML_Pon.txt ~/work/static/ref/PoN/AML_cache\n"
   ]
  },
  {
   "cell_type": "markdown",
   "metadata": {},
   "source": [
    "## Running EBscore in cache_mode in BIHCluster on real data"
   ]
  },
  {
   "cell_type": "code",
   "execution_count": null,
   "metadata": {
    "ExecuteTime": {
     "end_time": "2019-04-10T18:10:43.733327Z",
     "start_time": "2019-04-10T18:10:43.626705Z"
    }
   },
   "outputs": [],
   "source": [
    "from codes import run\n",
    "\n",
    "# snakemake config\n",
    "config = {'EB':{'run': True}}\n",
    "params = {}\n",
    "params['map_quality'] = 20\n",
    "params['base_quality'] = 15\n",
    "params['filter_flags'] = 'UNMAP,SECONDARY,QCFAIL,DUP'\n",
    "params['fitting_penalty'] = .5\n",
    "params['caching'] = True\n",
    "# to simulate snakemake behavior\n",
    "config['EB']['threads'] = 1\n",
    "config['EB']['params'] = params\n",
    "config['EB']\n",
    "config['annovar'] = {'sep': '\\t'}\n",
    "config['EB']['log'] = 'output/logfile'\n",
    "\n",
    "\n",
    "params = config['EB']['params']\n",
    "threads = config['EB']['threads']\n",
    "log = config['EB']['log']\n",
    "sep = config['annovar']['sep']\n",
    "_q = str(params['map_quality'])  # mapping quality=20\n",
    "_Q = params['base_quality']      # base quality=15\n",
    "fit_pen = params['fitting_penalty']\n",
    "filter_quals = ''\n",
    "for qual in range( 33, 33 + _Q ): \n",
    "    filter_quals += chr( qual )  # qual asciis for filtering out\n",
    "_ff = params['filter_flags']     # 'UNMAP,SECONDARY,QCFAIL,DUP'\n",
    "config = {'q':_q, 'Q':_Q, 'filter_quals': filter_quals, 'log':log, 'fitting_penalty': fit_pen, 'ff':_ff, 'threads':threads, 'sep': sep}\n",
    "\n",
    "\n",
    "import os\n",
    "HOME = os.environ['HOME'] # set HOME to run on different Macs\n",
    "args = {}\n",
    "args['mut_file'] = 'testdata2/anno/test_D-CR1_bull.csv'\n",
    "args['sep'] = ','\n",
    "args['output_path'] = 'output/test_D_EB.csv'\n",
    "args['tumor_bam'] = 'testdata2/bam/test_D.bam'\n",
    "args['pon_list'] = f'{HOME}/work/static/ref/PoN/AML_Pon.txt'\n",
    "args['use_cache'] = f'{HOME}/work/static/ref/PoN/AML_cache'\n",
    "args['chromosome'] = '22'\n",
    "args['generate_cache'] = False\n",
    "\n",
    "\n",
    "config['threads'] = 40\n",
    "config['debug_mode'] = False\n",
    "run.main(args, config)"
   ]
  },
  {
   "cell_type": "code",
   "execution_count": null,
   "metadata": {},
   "outputs": [],
   "source": [
    "config['threads'] = 40\n",
    "config['debug_mode'] = False\n",
    "run.main(args, config)"
   ]
  },
  {
   "cell_type": "code",
   "execution_count": 61,
   "metadata": {},
   "outputs": [
    {
     "data": {
      "text/html": [
       "<div>\n",
       "<style scoped>\n",
       "    .dataframe tbody tr th:only-of-type {\n",
       "        vertical-align: middle;\n",
       "    }\n",
       "\n",
       "    .dataframe tbody tr th {\n",
       "        vertical-align: top;\n",
       "    }\n",
       "\n",
       "    .dataframe thead th {\n",
       "        text-align: right;\n",
       "    }\n",
       "</style>\n",
       "<table border=\"1\" class=\"dataframe\">\n",
       "  <thead>\n",
       "    <tr style=\"text-align: right;\">\n",
       "      <th></th>\n",
       "      <th>Chr</th>\n",
       "      <th>Start</th>\n",
       "      <th>End</th>\n",
       "      <th>Ref</th>\n",
       "      <th>Alt</th>\n",
       "      <th>mut_type</th>\n",
       "      <th>somatic_status</th>\n",
       "      <th>gene</th>\n",
       "      <th>detail</th>\n",
       "      <th>func</th>\n",
       "      <th>...</th>\n",
       "      <th>TR2+</th>\n",
       "      <th>TR2-</th>\n",
       "      <th>superDups</th>\n",
       "      <th>esp6500_all</th>\n",
       "      <th>1000g</th>\n",
       "      <th>snp138</th>\n",
       "      <th>cosmic70</th>\n",
       "      <th>ljb23_pp2hdiv</th>\n",
       "      <th>ljb23_sift</th>\n",
       "      <th>EB_score</th>\n",
       "    </tr>\n",
       "  </thead>\n",
       "  <tbody>\n",
       "    <tr>\n",
       "      <th>0</th>\n",
       "      <td>22</td>\n",
       "      <td>24087023</td>\n",
       "      <td>24087023</td>\n",
       "      <td>C</td>\n",
       "      <td>G</td>\n",
       "      <td>snp</td>\n",
       "      <td>Germline</td>\n",
       "      <td>ZNF70</td>\n",
       "      <td>NaN</td>\n",
       "      <td>exonic</td>\n",
       "      <td>...</td>\n",
       "      <td>2</td>\n",
       "      <td>5</td>\n",
       "      <td>NaN</td>\n",
       "      <td>NaN</td>\n",
       "      <td>0.000200</td>\n",
       "      <td>NaN</td>\n",
       "      <td>NaN</td>\n",
       "      <td>0.001,B</td>\n",
       "      <td>0.91,0.09,T</td>\n",
       "      <td>2.034</td>\n",
       "    </tr>\n",
       "    <tr>\n",
       "      <th>1</th>\n",
       "      <td>22</td>\n",
       "      <td>38119755</td>\n",
       "      <td>38119757</td>\n",
       "      <td>CAA</td>\n",
       "      <td>-</td>\n",
       "      <td>indel</td>\n",
       "      <td>Germline</td>\n",
       "      <td>TRIOBP</td>\n",
       "      <td>NaN</td>\n",
       "      <td>exonic</td>\n",
       "      <td>...</td>\n",
       "      <td>7</td>\n",
       "      <td>1</td>\n",
       "      <td>NaN</td>\n",
       "      <td>NaN</td>\n",
       "      <td>0.336262</td>\n",
       "      <td>NaN</td>\n",
       "      <td>NaN</td>\n",
       "      <td>NaN</td>\n",
       "      <td>NaN</td>\n",
       "      <td>0.470</td>\n",
       "    </tr>\n",
       "    <tr>\n",
       "      <th>2</th>\n",
       "      <td>22</td>\n",
       "      <td>38120176</td>\n",
       "      <td>38120178</td>\n",
       "      <td>CCT</td>\n",
       "      <td>-</td>\n",
       "      <td>indel</td>\n",
       "      <td>Germline</td>\n",
       "      <td>TRIOBP</td>\n",
       "      <td>NaN</td>\n",
       "      <td>exonic</td>\n",
       "      <td>...</td>\n",
       "      <td>6</td>\n",
       "      <td>3</td>\n",
       "      <td>NaN</td>\n",
       "      <td>NaN</td>\n",
       "      <td>0.250399</td>\n",
       "      <td>rs36219868</td>\n",
       "      <td>ID=COSM111672;OCCURENCE=1(ovary)</td>\n",
       "      <td>NaN</td>\n",
       "      <td>NaN</td>\n",
       "      <td>0.427</td>\n",
       "    </tr>\n",
       "    <tr>\n",
       "      <th>3</th>\n",
       "      <td>22</td>\n",
       "      <td>39777822</td>\n",
       "      <td>39777822</td>\n",
       "      <td>-</td>\n",
       "      <td>CAA</td>\n",
       "      <td>indel</td>\n",
       "      <td>Germline</td>\n",
       "      <td>SYNGR1</td>\n",
       "      <td>NaN</td>\n",
       "      <td>exonic</td>\n",
       "      <td>...</td>\n",
       "      <td>4</td>\n",
       "      <td>3</td>\n",
       "      <td>NaN</td>\n",
       "      <td>NaN</td>\n",
       "      <td>0.860823</td>\n",
       "      <td>rs149306472</td>\n",
       "      <td>ID=COSM1484245;OCCURENCE=2(breast)</td>\n",
       "      <td>NaN</td>\n",
       "      <td>NaN</td>\n",
       "      <td>0.000</td>\n",
       "    </tr>\n",
       "    <tr>\n",
       "      <th>4</th>\n",
       "      <td>22</td>\n",
       "      <td>44282293</td>\n",
       "      <td>44282293</td>\n",
       "      <td>G</td>\n",
       "      <td>C</td>\n",
       "      <td>snp</td>\n",
       "      <td>Germline</td>\n",
       "      <td>PNPLA5</td>\n",
       "      <td>NaN</td>\n",
       "      <td>exonic</td>\n",
       "      <td>...</td>\n",
       "      <td>3</td>\n",
       "      <td>2</td>\n",
       "      <td>NaN</td>\n",
       "      <td>NaN</td>\n",
       "      <td>0.000200</td>\n",
       "      <td>NaN</td>\n",
       "      <td>NaN</td>\n",
       "      <td>0.022,B</td>\n",
       "      <td>0.37,0.63,T</td>\n",
       "      <td>1.960</td>\n",
       "    </tr>\n",
       "  </tbody>\n",
       "</table>\n",
       "<p>5 rows × 36 columns</p>\n",
       "</div>"
      ],
      "text/plain": [
       "   Chr     Start       End  Ref  Alt mut_type somatic_status    gene  detail  \\\n",
       "0   22  24087023  24087023    C    G      snp       Germline   ZNF70     NaN   \n",
       "1   22  38119755  38119757  CAA    -    indel       Germline  TRIOBP     NaN   \n",
       "2   22  38120176  38120178  CCT    -    indel       Germline  TRIOBP     NaN   \n",
       "3   22  39777822  39777822    -  CAA    indel       Germline  SYNGR1     NaN   \n",
       "4   22  44282293  44282293    G    C      snp       Germline  PNPLA5     NaN   \n",
       "\n",
       "     func  ... TR2+ TR2-  superDups  esp6500_all     1000g       snp138  \\\n",
       "0  exonic  ...    2    5        NaN          NaN  0.000200          NaN   \n",
       "1  exonic  ...    7    1        NaN          NaN  0.336262          NaN   \n",
       "2  exonic  ...    6    3        NaN          NaN  0.250399   rs36219868   \n",
       "3  exonic  ...    4    3        NaN          NaN  0.860823  rs149306472   \n",
       "4  exonic  ...    3    2        NaN          NaN  0.000200          NaN   \n",
       "\n",
       "                             cosmic70  ljb23_pp2hdiv   ljb23_sift  EB_score  \n",
       "0                                 NaN        0.001,B  0.91,0.09,T     2.034  \n",
       "1                                 NaN            NaN          NaN     0.470  \n",
       "2    ID=COSM111672;OCCURENCE=1(ovary)            NaN          NaN     0.427  \n",
       "3  ID=COSM1484245;OCCURENCE=2(breast)            NaN          NaN     0.000  \n",
       "4                                 NaN        0.022,B  0.37,0.63,T     1.960  \n",
       "\n",
       "[5 rows x 36 columns]"
      ]
     },
     "execution_count": 61,
     "metadata": {},
     "output_type": "execute_result"
    }
   ],
   "source": [
    "import pandas as pd\n",
    "eb = pd.read_csv('output/test_D_EB.csv', sep='\\t')\n",
    "pon_list = ['22']\n",
    "eb = eb.loc[eb['Chr'] == 22]\n",
    "eb"
   ]
  },
  {
   "cell_type": "code",
   "execution_count": 2,
   "metadata": {},
   "outputs": [],
   "source": [
    "open('output/test', 'a').close()"
   ]
  },
  {
   "cell_type": "code",
   "execution_count": null,
   "metadata": {},
   "outputs": [],
   "source": []
  }
 ],
 "metadata": {
  "kernelspec": {
   "display_name": "Python 3",
   "language": "python",
   "name": "python3"
  },
  "language_info": {
   "codemirror_mode": {
    "name": "ipython",
    "version": 3
   },
   "file_extension": ".py",
   "mimetype": "text/x-python",
   "name": "python",
   "nbconvert_exporter": "python",
   "pygments_lexer": "ipython3",
   "version": "3.7.3"
  },
  "varInspector": {
   "cols": {
    "lenName": 16,
    "lenType": 16,
    "lenVar": 40
   },
   "kernels_config": {
    "python": {
     "delete_cmd_postfix": "",
     "delete_cmd_prefix": "del ",
     "library": "var_list.py",
     "varRefreshCmd": "print(var_dic_list())"
    },
    "r": {
     "delete_cmd_postfix": ") ",
     "delete_cmd_prefix": "rm(",
     "library": "var_list.r",
     "varRefreshCmd": "cat(var_dic_list()) "
    }
   },
   "types_to_exclude": [
    "module",
    "function",
    "builtin_function_or_method",
    "instance",
    "_Feature"
   ],
   "window_display": false
  }
 },
 "nbformat": 4,
 "nbformat_minor": 2
}
