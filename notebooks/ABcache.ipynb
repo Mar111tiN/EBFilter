{
 "cells": [
  {
   "cell_type": "markdown",
   "metadata": {},
   "source": [
    "# Idea: ABcache\n",
    "## getting a precomputed ABcache file containing the parameters for beta-binomial distribution from the PoN-list"
   ]
  },
  {
   "cell_type": "markdown",
   "metadata": {},
   "source": [
    "# Running EBfilter createCache on testdata"
   ]
  },
  {
   "cell_type": "markdown",
   "metadata": {},
   "source": [
    "## setting the config"
   ]
  },
  {
   "cell_type": "code",
   "execution_count": 1,
   "metadata": {},
   "outputs": [
    {
     "name": "stdout",
     "output_type": "stream",
     "text": [
      "/Users/martinscience/Sites/Python/EBFilter\n"
     ]
    }
   ],
   "source": [
    "cd .."
   ]
  },
  {
   "cell_type": "code",
   "execution_count": 2,
   "metadata": {
    "ExecuteTime": {
     "end_time": "2019-04-10T20:45:32.058959Z",
     "start_time": "2019-04-10T20:45:31.563559Z"
    }
   },
   "outputs": [],
   "source": [
    "from codes import run\n",
    "\n",
    "# snakemake config\n",
    "config = {'EB':{'run': True}}\n",
    "params = {}\n",
    "params['map_quality'] = 20\n",
    "params['base_quality'] = 15\n",
    "params['filter_flags'] = 'UNMAP,SECONDARY,QCFAIL,DUP'\n",
    "params['fitting_penalty'] = .5\n",
    "params['caching'] = True\n",
    "# to simulate snakemake behavior\n",
    "config['EB']['threads'] = 1\n",
    "config['EB']['params'] = params\n",
    "config['EB']\n",
    "config['annovar'] = {'sep': '\\t'}\n",
    "config['EB']['log'] = 'output/logfile'\n",
    "\n",
    "\n",
    "params = config['EB']['params']\n",
    "threads = config['EB']['threads']\n",
    "log = config['EB']['log']\n",
    "sep = config['annovar']['sep']\n",
    "_q = str(params['map_quality'])  # mapping quality=20\n",
    "_Q = params['base_quality']      # base quality=15\n",
    "fit_pen = params['fitting_penalty']\n",
    "filter_quals = ''\n",
    "for qual in range( 33, 33 + _Q ): \n",
    "    filter_quals += chr( qual )  # qual asciis for filtering out\n",
    "_ff = params['filter_flags']     # 'UNMAP,SECONDARY,QCFAIL,DUP'\n",
    "config = {'q':_q, 'Q':_Q, 'filter_quals': filter_quals, 'log':log, 'fitting_penalty': fit_pen, 'ff':_ff, 'threads':threads, 'sep': sep}\n"
   ]
  },
  {
   "cell_type": "markdown",
   "metadata": {},
   "source": [
    "## running makeEBcache on testdata"
   ]
  },
  {
   "cell_type": "code",
   "execution_count": 3,
   "metadata": {
    "ExecuteTime": {
     "end_time": "2019-04-09T19:17:19.038955Z",
     "start_time": "2019-04-09T19:17:19.035507Z"
    }
   },
   "outputs": [],
   "source": [
    "args = {}\n",
    "args['pon_list'] = 'testdata/PoN_list.txt'\n",
    "args['cache_folder'] = 'testdata/testdata_cache' # provide a folder for storing the data (snakemake config)\n",
    "args['force_caching'] = False                 # force cache generation although no bed_file is provided\n",
    "args['bed_file'] = 'testdata/input.bed'\n",
    "args['generate_cache'] = True"
   ]
  },
  {
   "cell_type": "code",
   "execution_count": 4,
   "metadata": {
    "ExecuteTime": {
     "end_time": "2019-04-10T20:45:40.515331Z",
     "start_time": "2019-04-10T20:45:32.899711Z"
    }
   },
   "outputs": [
    {
     "name": "stdout",
     "output_type": "stream",
     "text": [
      "Generating Cache...\n",
      "Generating  pileup for chromosome chr11..\n",
      "Splitting bam files for chromosome chr11..\n",
      "Splitting the 10 lines of chr11.pileup into 3 chunks for multithreaded computation..\n",
      "Process 32272: Computing ABs for Chr chr11 \t(lines 0\t to \t10)\n",
      "Process 32272: Computing ABs for chromosome chr11 \t(lines 0\t to \t10) finished.\n",
      "Writing ABcache for Chr chr11 to file testdata/testdata_cache/chr11.cache.\n",
      "Writing final ABcache for covered regions to file testdata/testdata_cache/all.cache.\n",
      "Generation of AB file finished.\n",
      "testdata_clean.csv                   testdata_eb_32209.control.merged.csv\n",
      "testdata_eb.csv                      testdata_eb_32209.control.pileup\n",
      "testdata_eb_32185.control.merged.csv testdata_eb_32209.region_list.bed\n",
      "testdata_eb_32185.control.pileup     testdata_eb_32209.target.pileup\n",
      "testdata_eb_32185.region_list.bed    testdata_eb_32210.control.merged.csv\n",
      "testdata_eb_32185.target.pileup      testdata_eb_32210.control.pileup\n",
      "testdata_eb_32186.control.merged.csv testdata_eb_32210.region_list.bed\n",
      "testdata_eb_32186.control.pileup     testdata_eb_32210.target.pileup\n",
      "testdata_eb_32186.region_list.bed    testdata_eb_32211.control.merged.csv\n",
      "testdata_eb_32186.target.pileup      testdata_eb_32211.control.pileup\n",
      "testdata_eb_32187.control.merged.csv testdata_eb_32211.region_list.bed\n",
      "testdata_eb_32187.control.pileup     testdata_eb_32211.target.pileup\n",
      "testdata_eb_32187.region_list.bed    testdata_eb_only.csv\n",
      "testdata_eb_32187.target.pileup\n"
     ]
    }
   ],
   "source": [
    "config['threads'] = 3\n",
    "config['debug_mode'] = False\n",
    "run.main(args, config)\n",
    "!ls output"
   ]
  },
  {
   "cell_type": "markdown",
   "metadata": {},
   "source": [
    "### running EBscore in cache_mode on testdata"
   ]
  },
  {
   "cell_type": "code",
   "execution_count": 11,
   "metadata": {},
   "outputs": [],
   "source": [
    "args = {}\n",
    "args['mut_file'] = 'testdata/input.anno'\n",
    "args['tumor_bam'] = 'testdata/tumor.bam'\n",
    "args['pon_list'] = 'testdata/PoN_list.txt'\n",
    "args['output_path'] = 'output/testdata_eb.csv'\n",
    "args['use_cache'] = 'testdata/testdata_cache'\n",
    "args['chromosome'] = 'chr11'\n",
    "args['generate_cache'] = False"
   ]
  },
  {
   "cell_type": "code",
   "execution_count": 12,
   "metadata": {},
   "outputs": [
    {
     "name": "stdout",
     "output_type": "stream",
     "text": [
      "Running EBscore in Cache mode...\n",
      "Loading annotation file testdata/input.anno into dataframe\n",
      "Adding header: Chr\tStart\tEnd\tRef\tAlt\tother1...\n",
      "Loading cache testdata/testdata_cache/chr11.cache..\n",
      "testdata_eb.csv\n"
     ]
    }
   ],
   "source": [
    "config['threads'] = 3\n",
    "config['debug_mode'] = False\n",
    "run.main(args, config)\n",
    "!ls output"
   ]
  },
  {
   "cell_type": "markdown",
   "metadata": {},
   "source": [
    "# Running EBfilter createCache on my data"
   ]
  },
  {
   "cell_type": "markdown",
   "metadata": {},
   "source": [
    "### Setting my testdata as arguments"
   ]
  },
  {
   "cell_type": "code",
   "execution_count": 13,
   "metadata": {
    "ExecuteTime": {
     "end_time": "2019-04-09T19:17:19.038955Z",
     "start_time": "2019-04-09T19:17:19.035507Z"
    }
   },
   "outputs": [],
   "source": [
    "import os\n",
    "HOME = os.environ['HOME'] # set HOME to run on different Macs\n",
    "args = {}\n",
    "args['pon_list'] = f'{HOME}/Dropbox/Icke/Work/somVar/tools/EBFilter/mytestdata/aml_pon.list'\n",
    "args['cache_folder'] = f'{HOME}/Dropbox/Icke/Work/somVar/tools/EBFilter/mytestdata/aml_cache'\n",
    "args['force_caching'] = True\n",
    "args['bed_file'] = None\n",
    "args['generate_cache'] = True"
   ]
  },
  {
   "cell_type": "code",
   "execution_count": null,
   "metadata": {},
   "outputs": [
    {
     "name": "stdout",
     "output_type": "stream",
     "text": [
      "Generating Cache...\n",
      "Generating  pileup for chromosome 8..\n",
      "Generating  pileup for chromosome 3..\n",
      "Generating  pileup for chromosome 7..\n",
      "Splitting bam files for chromosome 7..\n",
      "Splitting bam files for chromosome 3..\n",
      "Splitting bam files for chromosome 8..\n"
     ]
    }
   ],
   "source": [
    "config['threads'] = 3\n",
    "config['debug_mode'] = True\n",
    "run.main(args, config)\n",
    "!ls output"
   ]
  },
  {
   "cell_type": "markdown",
   "metadata": {},
   "source": [
    "# Running EBfilter in Cache mode on my data"
   ]
  },
  {
   "cell_type": "code",
   "execution_count": null,
   "metadata": {
    "ExecuteTime": {
     "end_time": "2019-04-10T18:10:43.733327Z",
     "start_time": "2019-04-10T18:10:43.626705Z"
    }
   },
   "outputs": [],
   "source": [
    "HOME = os.environ['HOME']\n",
    "args['pon_list'] = f'{HOME}/Dropbox/Icke/Work/somVar/tools/EBFilter/mytestdata/aml_pon.list'\n",
    "args['output_path'] = 'output/test_rel_eb.csv'\n",
    "args['region'] = ''\n",
    "log_file = f\"{os.path.splitext(args['output_path'])[0]}.log\"\n",
    "state['log'] = log_file                   "
   ]
  },
  {
   "cell_type": "markdown",
   "metadata": {},
   "source": [
    "### apply a column apply on several columns"
   ]
  },
  {
   "cell_type": "code",
   "execution_count": null,
   "metadata": {},
   "outputs": [],
   "source": [
    "import pandas as pd\n",
    "cols = ['Chr', 'Start', 'Alt']\n",
    "AB_df = pd.read_csv('testdata/testdata_cache/chr11.cache', sep=',').set_index(cols[:2])\n",
    "AB_columns = pd.MultiIndex.from_product([['A','C','T','G'],['+', '-'],['a','b']], names=['var', 'strand', 'param'])\n",
    "AB_df.columns = AB_columns\n",
    "AB_df = AB_df.stack('var')\n",
    "AB_df.columns = AB_df.columns.droplevel(0)\n",
    "AB_df = AB_df.reset_index()\n",
    "\n",
    "AB_df\n"
   ]
  },
  {
   "cell_type": "code",
   "execution_count": null,
   "metadata": {},
   "outputs": [],
   "source": [
    "cols + ['a+', 'b+', 'a-', 'b-']"
   ]
  },
  {
   "cell_type": "code",
   "execution_count": null,
   "metadata": {},
   "outputs": [],
   "source": []
  }
 ],
 "metadata": {
  "kernelspec": {
   "display_name": "Python 3",
   "language": "python",
   "name": "python3"
  },
  "language_info": {
   "codemirror_mode": {
    "name": "ipython",
    "version": 3
   },
   "file_extension": ".py",
   "mimetype": "text/x-python",
   "name": "python",
   "nbconvert_exporter": "python",
   "pygments_lexer": "ipython3",
   "version": "3.7.3"
  },
  "varInspector": {
   "cols": {
    "lenName": 16,
    "lenType": 16,
    "lenVar": 40
   },
   "kernels_config": {
    "python": {
     "delete_cmd_postfix": "",
     "delete_cmd_prefix": "del ",
     "library": "var_list.py",
     "varRefreshCmd": "print(var_dic_list())"
    },
    "r": {
     "delete_cmd_postfix": ") ",
     "delete_cmd_prefix": "rm(",
     "library": "var_list.r",
     "varRefreshCmd": "cat(var_dic_list()) "
    }
   },
   "types_to_exclude": [
    "module",
    "function",
    "builtin_function_or_method",
    "instance",
    "_Feature"
   ],
   "window_display": false
  }
 },
 "nbformat": 4,
 "nbformat_minor": 2
}
