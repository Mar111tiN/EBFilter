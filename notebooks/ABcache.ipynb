{
 "cells": [
  {
   "cell_type": "markdown",
   "metadata": {},
   "source": [
    "# Idea: ABcache\n",
    "## getting a precomputed ABcache file containing the parameters for beta-binomial distribution from the PoN-list"
   ]
  },
  {
   "cell_type": "markdown",
   "metadata": {},
   "source": [
    "# Running EBfilter createCache on testdata"
   ]
  },
  {
   "cell_type": "markdown",
   "metadata": {},
   "source": [
    "## setting the config"
   ]
  },
  {
   "cell_type": "code",
   "execution_count": 30,
   "metadata": {},
   "outputs": [
    {
     "name": "stdout",
     "output_type": "stream",
     "text": [
      "/Users/martinscience/Sites/Python/EBFilter\n"
     ]
    }
   ],
   "source": [
    "cd EBFilter/"
   ]
  },
  {
   "cell_type": "code",
   "execution_count": 2,
   "metadata": {
    "ExecuteTime": {
     "end_time": "2019-04-10T20:45:32.058959Z",
     "start_time": "2019-04-10T20:45:31.563559Z"
    }
   },
   "outputs": [
    {
     "ename": "ModuleNotFoundError",
     "evalue": "No module named 'vcf'",
     "output_type": "error",
     "traceback": [
      "\u001b[0;31m---------------------------------------------------------------------------\u001b[0m",
      "\u001b[0;31mModuleNotFoundError\u001b[0m                       Traceback (most recent call last)",
      "\u001b[0;32m<ipython-input-2-fff95e8fe426>\u001b[0m in \u001b[0;36m<module>\u001b[0;34m\u001b[0m\n\u001b[0;32m----> 1\u001b[0;31m \u001b[0;32mfrom\u001b[0m \u001b[0mcodes\u001b[0m \u001b[0;32mimport\u001b[0m \u001b[0mrun\u001b[0m\u001b[0;34m\u001b[0m\u001b[0;34m\u001b[0m\u001b[0m\n\u001b[0m\u001b[1;32m      2\u001b[0m \u001b[0;34m\u001b[0m\u001b[0m\n\u001b[1;32m      3\u001b[0m \u001b[0;31m# snakemake config\u001b[0m\u001b[0;34m\u001b[0m\u001b[0;34m\u001b[0m\u001b[0;34m\u001b[0m\u001b[0m\n\u001b[1;32m      4\u001b[0m \u001b[0mconfig\u001b[0m \u001b[0;34m=\u001b[0m \u001b[0;34m{\u001b[0m\u001b[0;34m'EB'\u001b[0m\u001b[0;34m:\u001b[0m\u001b[0;34m{\u001b[0m\u001b[0;34m'run'\u001b[0m\u001b[0;34m:\u001b[0m \u001b[0;32mTrue\u001b[0m\u001b[0;34m}\u001b[0m\u001b[0;34m}\u001b[0m\u001b[0;34m\u001b[0m\u001b[0;34m\u001b[0m\u001b[0m\n\u001b[1;32m      5\u001b[0m \u001b[0mparams\u001b[0m \u001b[0;34m=\u001b[0m \u001b[0;34m{\u001b[0m\u001b[0;34m}\u001b[0m\u001b[0;34m\u001b[0m\u001b[0;34m\u001b[0m\u001b[0m\n",
      "\u001b[0;32m~/Sites/Python/EBFilter/codes/run.py\u001b[0m in \u001b[0;36m<module>\u001b[0;34m\u001b[0m\n\u001b[1;32m     13\u001b[0m \u001b[0;32mfrom\u001b[0m \u001b[0;34m.\u001b[0m\u001b[0mutils\u001b[0m \u001b[0;32mimport\u001b[0m \u001b[0mvalidate\u001b[0m\u001b[0;34m,\u001b[0m \u001b[0mread_anno_csv\u001b[0m\u001b[0;34m,\u001b[0m \u001b[0mvalidate_bam\u001b[0m\u001b[0;34m,\u001b[0m \u001b[0mvalidate_pon\u001b[0m\u001b[0;34m,\u001b[0m \u001b[0mvalidate_cache\u001b[0m\u001b[0;34m\u001b[0m\u001b[0;34m\u001b[0m\u001b[0m\n\u001b[1;32m     14\u001b[0m \u001b[0;32mfrom\u001b[0m \u001b[0;34m.\u001b[0m \u001b[0;32mimport\u001b[0m \u001b[0manno\u001b[0m\u001b[0;34m\u001b[0m\u001b[0;34m\u001b[0m\u001b[0m\n\u001b[0;32m---> 15\u001b[0;31m \u001b[0;32mfrom\u001b[0m \u001b[0;34m.\u001b[0m \u001b[0;32mimport\u001b[0m \u001b[0mvcf\u001b[0m\u001b[0;34m\u001b[0m\u001b[0;34m\u001b[0m\u001b[0m\n\u001b[0m\u001b[1;32m     16\u001b[0m \u001b[0;32mfrom\u001b[0m \u001b[0;34m.\u001b[0m\u001b[0mcache\u001b[0m \u001b[0;32mimport\u001b[0m \u001b[0mgenerate_cache\u001b[0m\u001b[0;34m,\u001b[0m \u001b[0mget_EB_from_cache\u001b[0m\u001b[0;34m\u001b[0m\u001b[0;34m\u001b[0m\u001b[0m\n\u001b[1;32m     17\u001b[0m \u001b[0;34m\u001b[0m\u001b[0m\n",
      "\u001b[0;32m~/Sites/Python/EBFilter/codes/vcf.py\u001b[0m in \u001b[0;36m<module>\u001b[0;34m\u001b[0m\n\u001b[1;32m      1\u001b[0m \u001b[0;31m#! /usr/bin/env python\u001b[0m\u001b[0;34m\u001b[0m\u001b[0;34m\u001b[0m\u001b[0;34m\u001b[0m\u001b[0m\n\u001b[0;32m----> 2\u001b[0;31m \u001b[0;32mimport\u001b[0m \u001b[0mvcf\u001b[0m\u001b[0;34m\u001b[0m\u001b[0;34m\u001b[0m\u001b[0m\n\u001b[0m\u001b[1;32m      3\u001b[0m \u001b[0;32mimport\u001b[0m \u001b[0mos\u001b[0m\u001b[0;34m\u001b[0m\u001b[0;34m\u001b[0m\u001b[0m\n\u001b[1;32m      4\u001b[0m \u001b[0;32mimport\u001b[0m \u001b[0msubprocess\u001b[0m\u001b[0;34m\u001b[0m\u001b[0;34m\u001b[0m\u001b[0m\n\u001b[1;32m      5\u001b[0m \u001b[0;32mimport\u001b[0m \u001b[0mre\u001b[0m\u001b[0;34m\u001b[0m\u001b[0;34m\u001b[0m\u001b[0m\n",
      "\u001b[0;31mModuleNotFoundError\u001b[0m: No module named 'vcf'"
     ]
    }
   ],
   "source": [
    "from codes import run\n",
    "\n",
    "# snakemake config\n",
    "config = {'EB':{'run': True}}\n",
    "params = {}\n",
    "params['map_quality'] = 20\n",
    "params['base_quality'] = 15\n",
    "params['filter_flags'] = 'UNMAP,SECONDARY,QCFAIL,DUP'\n",
    "params['fitting_penalty'] = .5\n",
    "params['caching'] = True\n",
    "# to simulate snakemake behavior\n",
    "config['EB']['threads'] = 1\n",
    "config['EB']['params'] = params\n",
    "config['EB']\n",
    "config['annovar'] = {'sep': '\\t'}\n",
    "config['EB']['log'] = 'output/logfile'\n",
    "\n",
    "\n",
    "params = config['EB']['params']\n",
    "threads = config['EB']['threads']\n",
    "log = config['EB']['log']\n",
    "sep = config['annovar']['sep']\n",
    "_q = str(params['map_quality'])  # mapping quality=20\n",
    "_Q = params['base_quality']      # base quality=15\n",
    "fit_pen = params['fitting_penalty']\n",
    "filter_quals = ''\n",
    "for qual in range( 33, 33 + _Q ): \n",
    "    filter_quals += chr( qual )  # qual asciis for filtering out\n",
    "_ff = params['filter_flags']     # 'UNMAP,SECONDARY,QCFAIL,DUP'\n",
    "config = {'q':_q, 'Q':_Q, 'filter_quals': filter_quals, 'log':log, 'fitting_penalty': fit_pen, 'ff':_ff, 'threads':threads, 'sep': sep}\n"
   ]
  },
  {
   "cell_type": "markdown",
   "metadata": {},
   "source": [
    "## running makeEBcache on testdata"
   ]
  },
  {
   "cell_type": "code",
   "execution_count": 3,
   "metadata": {
    "ExecuteTime": {
     "end_time": "2019-04-09T19:17:19.038955Z",
     "start_time": "2019-04-09T19:17:19.035507Z"
    }
   },
   "outputs": [],
   "source": [
    "args = {}\n",
    "args['pon_list'] = 'testdata/PoN_list.txt'\n",
    "args['cache_folder'] = 'testdata/testdata_cache' # provide a folder for storing the data (snakemake config)\n",
    "args['force_caching'] = True                 # force cache generation although no bed_file is provided\n",
    "args['bed_file'] = None # 'testdata/input.bed'\n",
    "args['generate_cache'] = True"
   ]
  },
  {
   "cell_type": "code",
   "execution_count": null,
   "metadata": {
    "ExecuteTime": {
     "end_time": "2019-04-10T20:45:40.515331Z",
     "start_time": "2019-04-10T20:45:32.899711Z"
    }
   },
   "outputs": [
    {
     "name": "stdout",
     "output_type": "stream",
     "text": [
      "Generating Cache...\n",
      "Generating  pileup for chromosome chr11..\n",
      "Splitting bam files for chromosome chr11..\n",
      "Writing pileup of Chr chr11 to file testdata/testdata_cache/cache_pileups/cache_chr11.pileup\n",
      "Reading pileup testdata/testdata_cache/cache_pileups/cache_chr11.pileup for AB computation\n",
      "Splitting the 457702 lines of chr11.pileup into 3 chunks for multithreaded computation..\n",
      "Process 7973: Computing ABs for Chr chr11 \t(lines 0\t to \t152568)\n",
      "Process 7974: Computing ABs for Chr chr11 \t(lines 152568\t to \t305135)\n",
      "Process 7975: Computing ABs for Chr chr11 \t(lines 305135\t to \t457702)\n"
     ]
    }
   ],
   "source": [
    "config['threads'] = 3\n",
    "config['debug_mode'] = False\n",
    "run.main(args, config)\n",
    "!ls output"
   ]
  },
  {
   "cell_type": "code",
   "execution_count": 16,
   "metadata": {},
   "outputs": [],
   "source": [
    "import pandas as pd\n",
    "import sys\n",
    "import os\n",
    "def bed2chr_list(bed_file):\n",
    "    '''\n",
    "    generates a chromosome list from a bed file\n",
    "    '''\n",
    "\n",
    "    bed_df = pd.read_csv(bed_file, sep='\\t', dtype={0:str}, header=None, skiprows=10)\n",
    "    # return the list of unique values from the first row (Chr row)\n",
    "    return bed_df.iloc[:,0].unique()\n",
    "\n",
    "chr_list = bed2chr_list('testdata/input.anno')\n",
    "\n"
   ]
  },
  {
   "cell_type": "code",
   "execution_count": 15,
   "metadata": {},
   "outputs": [
    {
     "data": {
      "text/plain": [
       "array(['chr11'], dtype=object)"
      ]
     },
     "execution_count": 15,
     "metadata": {},
     "output_type": "execute_result"
    }
   ],
   "source": [
    "chr_list"
   ]
  },
  {
   "cell_type": "markdown",
   "metadata": {},
   "source": [
    "### using CLI:"
   ]
  },
  {
   "cell_type": "code",
   "execution_count": null,
   "metadata": {},
   "outputs": [],
   "source": [
    "!makeEBcache -t3 -force_caching testdata/PoN_list.txt testdata/testdata_cache"
   ]
  },
  {
   "cell_type": "markdown",
   "metadata": {},
   "source": [
    "## running EBscore in cache_mode on testdata"
   ]
  },
  {
   "cell_type": "code",
   "execution_count": null,
   "metadata": {},
   "outputs": [],
   "source": [
    "args = {}\n",
    "args['mut_file'] = 'testdata/input.anno'\n",
    "args['tumor_bam'] = 'testdata/tumor.bam'\n",
    "args['pon_list'] = 'testdata/PoN_list.txt'\n",
    "args['output_path'] = 'output/testdata_eb.csv'\n",
    "args['use_cache'] = 'testdata/testdata_cache'\n",
    "args['chromosome'] = 'chr11'\n",
    "args['generate_cache'] = False"
   ]
  },
  {
   "cell_type": "code",
   "execution_count": null,
   "metadata": {},
   "outputs": [],
   "source": [
    "config['threads'] = 20\n",
    "config['debug_mode'] = False\n",
    "run.main(args, config)\n",
    "!ls output"
   ]
  },
  {
   "cell_type": "markdown",
   "metadata": {},
   "source": [
    "### using CLI:"
   ]
  },
  {
   "cell_type": "code",
   "execution_count": null,
   "metadata": {},
   "outputs": [],
   "source": [
    "!EBscore -t 3 -use_cache testdata/testdata_cache testdata/input.anno testdata/tumor.bam testdata/PoN_list.txt output/testdata_EB.csv"
   ]
  },
  {
   "cell_type": "markdown",
   "metadata": {},
   "source": [
    "## Running EBfilter createCache on my data"
   ]
  },
  {
   "cell_type": "code",
   "execution_count": null,
   "metadata": {
    "ExecuteTime": {
     "end_time": "2019-04-09T19:17:19.038955Z",
     "start_time": "2019-04-09T19:17:19.035507Z"
    }
   },
   "outputs": [],
   "source": [
    "import os\n",
    "HOME = os.environ['HOME'] # set HOME to run on different Macs\n",
    "args = {}\n",
    "args['pon_list'] = f'{HOME}/Dropbox/Icke/Work/somVar/tools/EBFilter/mytestdata/aml_pon.list'\n",
    "args['cache_folder'] = f'{HOME}/Dropbox/Icke/Work/somVar/tools/EBFilter/mytestdata/aml_cache'\n",
    "args['force_caching'] = True\n",
    "args['bed_file'] = None\n",
    "args['generate_cache'] = True"
   ]
  },
  {
   "cell_type": "code",
   "execution_count": null,
   "metadata": {},
   "outputs": [],
   "source": [
    "config['threads'] = 3\n",
    "config['debug_mode'] = True"
   ]
  },
  {
   "cell_type": "markdown",
   "metadata": {},
   "source": [
    "### using CLI:"
   ]
  },
  {
   "cell_type": "code",
   "execution_count": null,
   "metadata": {},
   "outputs": [],
   "source": [
    "!makeEBcache -t3 -force_caching ~/Dropbox/Icke/Work/somVar/tools/EBFilter/mytestdata/aml_pon.list ~/Dropbox/Icke/Work/somVar/tools/EBFilter/mytestdata/aml_cache\n"
   ]
  },
  {
   "cell_type": "markdown",
   "metadata": {},
   "source": [
    "## Running EBscore in cache_mode on my data"
   ]
  },
  {
   "cell_type": "code",
   "execution_count": null,
   "metadata": {},
   "outputs": [],
   "source": [
    "import os\n",
    "HOME = os.environ['HOME'] # set HOME to run on different Macs\n",
    "args = {}\n",
    "args['mut_file'] = f'{HOME}/Dropbox/Icke/Work/somVar/tools/EBFilter/mytestdata/anno/test_rel.csv'\n",
    "args['tumor_bam'] = f'{HOME}/Dropbox/Icke/Work/somVar/tools/EBFilter/mytestdata/bam/test_Rel1.bam'\n",
    "args['pon_list'] = f'{HOME}/Dropbox/Icke/Work/somVar/tools/EBFilter/mytestdata/aml_pon.list'\n",
    "args['use_cache'] = f'{HOME}/Dropbox/Icke/Work/somVar/tools/EBFilter/mytestdata/aml_cache'\n",
    "args['output_path'] = f'{HOME}/Dropbox/Icke/Work/somVar/tools/EBFilter/mytestdata/output/test_eb.csv'\n",
    "args['chromosome'] = 'chr11'\n",
    "args['generate_cache'] = False"
   ]
  },
  {
   "cell_type": "code",
   "execution_count": null,
   "metadata": {},
   "outputs": [],
   "source": [
    "config['threads'] = 40\n",
    "config['debug_mode'] = True\n",
    "run.main(args, config)"
   ]
  },
  {
   "cell_type": "markdown",
   "metadata": {},
   "source": [
    "### using CLI:"
   ]
  },
  {
   "cell_type": "code",
   "execution_count": null,
   "metadata": {},
   "outputs": [],
   "source": [
    "!EBscore -t 3 -use_cache ~/Dropbox/Icke/Work/somVar/tools/EBFilter/mytestdata/aml_cache ~//Dropbox/Icke/Work/somVar/tools/EBFilter/mytestdata/anno/test_rel.csv ~/Dropbox/Icke/Work/somVar/tools/EBFilter/mytestdata/bam/test_Rel1.bam ~/Dropbox/Icke/Work/somVar/tools/EBFilter/mytestdata/aml_pon.list ~/Dropbox/Icke/Work/somVar/tools/EBFilter/mytestdata/output/test_eb.csv\n"
   ]
  },
  {
   "cell_type": "markdown",
   "metadata": {},
   "source": [
    "## Running EBfilter createCache in BIHCluster on real data"
   ]
  },
  {
   "cell_type": "code",
   "execution_count": null,
   "metadata": {},
   "outputs": [],
   "source": [
    "import os\n",
    "HOME = os.environ['HOME'] # set HOME to run on different Macs\n",
    "args = {}\n",
    "args['pon_list'] = f'{HOME}/work/static/ref/PoN/AML_Pon.txt'\n",
    "args['cache_folder'] = f'{HOME}/work/static/ref/PoN/AML_cache'\n",
    "args['force_caching'] = False\n",
    "args['chromosome'] = '22'\n",
    "args['bed_file'] = f'{HOME}/work/static/ref/bed_files/SureSelect/hg19/SS_HAEv6r2_hg19_Padded_nochr.bed'\n",
    "args['generate_cache'] = True\n"
   ]
  },
  {
   "cell_type": "code",
   "execution_count": null,
   "metadata": {},
   "outputs": [],
   "source": [
    "config['threads'] = 40\n",
    "config['debug_mode'] = True\n",
    "run.main(args, config)"
   ]
  },
  {
   "cell_type": "markdown",
   "metadata": {},
   "source": [
    "### using CLI:"
   ]
  },
  {
   "cell_type": "code",
   "execution_count": null,
   "metadata": {},
   "outputs": [],
   "source": [
    "!makeEBcache -t3 -bed_file ~/work/static/ref/bed_files/SureSelect/hg19/SS_HAEv6r2_hg19_Padded_nochr.bed ~/work/static/ref/PoN/AML_Pon.txt ~/work/static/ref/PoN/AML_cache\n"
   ]
  },
  {
   "cell_type": "markdown",
   "metadata": {},
   "source": [
    "## Running EBscore in cache_mode in BIHCluster on real data"
   ]
  },
  {
   "cell_type": "code",
   "execution_count": null,
   "metadata": {
    "ExecuteTime": {
     "end_time": "2019-04-10T18:10:43.733327Z",
     "start_time": "2019-04-10T18:10:43.626705Z"
    }
   },
   "outputs": [],
   "source": [
    "from codes import run\n",
    "\n",
    "# snakemake config\n",
    "config = {'EB':{'run': True}}\n",
    "params = {}\n",
    "params['map_quality'] = 20\n",
    "params['base_quality'] = 15\n",
    "params['filter_flags'] = 'UNMAP,SECONDARY,QCFAIL,DUP'\n",
    "params['fitting_penalty'] = .5\n",
    "params['caching'] = True\n",
    "# to simulate snakemake behavior\n",
    "config['EB']['threads'] = 1\n",
    "config['EB']['params'] = params\n",
    "config['EB']\n",
    "config['annovar'] = {'sep': '\\t'}\n",
    "config['EB']['log'] = 'output/logfile'\n",
    "\n",
    "\n",
    "params = config['EB']['params']\n",
    "threads = config['EB']['threads']\n",
    "log = config['EB']['log']\n",
    "sep = config['annovar']['sep']\n",
    "_q = str(params['map_quality'])  # mapping quality=20\n",
    "_Q = params['base_quality']      # base quality=15\n",
    "fit_pen = params['fitting_penalty']\n",
    "filter_quals = ''\n",
    "for qual in range( 33, 33 + _Q ): \n",
    "    filter_quals += chr( qual )  # qual asciis for filtering out\n",
    "_ff = params['filter_flags']     # 'UNMAP,SECONDARY,QCFAIL,DUP'\n",
    "config = {'q':_q, 'Q':_Q, 'filter_quals': filter_quals, 'log':log, 'fitting_penalty': fit_pen, 'ff':_ff, 'threads':threads, 'sep': sep}\n",
    "\n",
    "\n",
    "import os\n",
    "HOME = os.environ['HOME'] # set HOME to run on different Macs\n",
    "args = {}\n",
    "args['mut_file'] = 'testdata2/anno/test_D-CR1_bull.csv'\n",
    "args['sep'] = ','\n",
    "args['output_path'] = 'output/test_D_EB.csv'\n",
    "args['tumor_bam'] = 'testdata2/bam/test_D.bam'\n",
    "args['pon_list'] = f'{HOME}/work/static/ref/PoN/AML_Pon.txt'\n",
    "args['use_cache'] = f'{HOME}/work/static/ref/PoN/AML_cache'\n",
    "args['chromosome'] = '22'\n",
    "args['generate_cache'] = False\n",
    "\n",
    "\n",
    "config['threads'] = 40\n",
    "config['debug_mode'] = False\n",
    "run.main(args, config)"
   ]
  },
  {
   "cell_type": "code",
   "execution_count": null,
   "metadata": {},
   "outputs": [],
   "source": [
    "config['threads'] = 40\n",
    "config['debug_mode'] = False\n",
    "run.main(args, config)"
   ]
  },
  {
   "cell_type": "code",
   "execution_count": 39,
   "metadata": {},
   "outputs": [
    {
     "data": {
      "text/html": [
       "<div>\n",
       "<style scoped>\n",
       "    .dataframe tbody tr th:only-of-type {\n",
       "        vertical-align: middle;\n",
       "    }\n",
       "\n",
       "    .dataframe tbody tr th {\n",
       "        vertical-align: top;\n",
       "    }\n",
       "\n",
       "    .dataframe thead th {\n",
       "        text-align: right;\n",
       "    }\n",
       "</style>\n",
       "<table border=\"1\" class=\"dataframe\">\n",
       "  <thead>\n",
       "    <tr style=\"text-align: right;\">\n",
       "      <th></th>\n",
       "      <th>Chrom</th>\n",
       "      <th>Star</th>\n",
       "      <th>End</th>\n",
       "      <th>Ref</th>\n",
       "      <th>Alt</th>\n",
       "      <th>mut_type</th>\n",
       "      <th>somatic_status</th>\n",
       "    </tr>\n",
       "  </thead>\n",
       "  <tbody>\n",
       "    <tr>\n",
       "      <th>2</th>\n",
       "      <td>11</td>\n",
       "      <td>1016627</td>\n",
       "      <td>1016627</td>\n",
       "      <td>G</td>\n",
       "      <td>T</td>\n",
       "      <td>snp</td>\n",
       "      <td>Germline</td>\n",
       "    </tr>\n",
       "    <tr>\n",
       "      <th>4</th>\n",
       "      <td>11</td>\n",
       "      <td>1016733</td>\n",
       "      <td>1016733</td>\n",
       "      <td>G</td>\n",
       "      <td>T</td>\n",
       "      <td>snp</td>\n",
       "      <td>Germline</td>\n",
       "    </tr>\n",
       "    <tr>\n",
       "      <th>6</th>\n",
       "      <td>11</td>\n",
       "      <td>1016777</td>\n",
       "      <td>1016777</td>\n",
       "      <td>G</td>\n",
       "      <td>A</td>\n",
       "      <td>snp</td>\n",
       "      <td>Germline</td>\n",
       "    </tr>\n",
       "    <tr>\n",
       "      <th>7</th>\n",
       "      <td>11</td>\n",
       "      <td>1016801</td>\n",
       "      <td>1016801</td>\n",
       "      <td>G</td>\n",
       "      <td>C</td>\n",
       "      <td>snp</td>\n",
       "      <td>Germline</td>\n",
       "    </tr>\n",
       "    <tr>\n",
       "      <th>11</th>\n",
       "      <td>11</td>\n",
       "      <td>1016853</td>\n",
       "      <td>1016853</td>\n",
       "      <td>G</td>\n",
       "      <td>C</td>\n",
       "      <td>snp</td>\n",
       "      <td>Germline</td>\n",
       "    </tr>\n",
       "    <tr>\n",
       "      <th>13</th>\n",
       "      <td>11</td>\n",
       "      <td>1016887</td>\n",
       "      <td>1016887</td>\n",
       "      <td>G</td>\n",
       "      <td>A</td>\n",
       "      <td>snp</td>\n",
       "      <td>Germline</td>\n",
       "    </tr>\n",
       "    <tr>\n",
       "      <th>16</th>\n",
       "      <td>11</td>\n",
       "      <td>1016934</td>\n",
       "      <td>1016934</td>\n",
       "      <td>G</td>\n",
       "      <td>A</td>\n",
       "      <td>snp</td>\n",
       "      <td>Germline</td>\n",
       "    </tr>\n",
       "    <tr>\n",
       "      <th>17</th>\n",
       "      <td>11</td>\n",
       "      <td>1016944</td>\n",
       "      <td>1016944</td>\n",
       "      <td>G</td>\n",
       "      <td>C</td>\n",
       "      <td>snp</td>\n",
       "      <td>Germline</td>\n",
       "    </tr>\n",
       "    <tr>\n",
       "      <th>18</th>\n",
       "      <td>11</td>\n",
       "      <td>1016954</td>\n",
       "      <td>1016954</td>\n",
       "      <td>G</td>\n",
       "      <td>C</td>\n",
       "      <td>snp</td>\n",
       "      <td>Germline</td>\n",
       "    </tr>\n",
       "    <tr>\n",
       "      <th>19</th>\n",
       "      <td>11</td>\n",
       "      <td>1016967</td>\n",
       "      <td>1016967</td>\n",
       "      <td>G</td>\n",
       "      <td>C</td>\n",
       "      <td>snp</td>\n",
       "      <td>Germline</td>\n",
       "    </tr>\n",
       "    <tr>\n",
       "      <th>20</th>\n",
       "      <td>11</td>\n",
       "      <td>1016972</td>\n",
       "      <td>1016972</td>\n",
       "      <td>G</td>\n",
       "      <td>A</td>\n",
       "      <td>snp</td>\n",
       "      <td>Germline</td>\n",
       "    </tr>\n",
       "    <tr>\n",
       "      <th>21</th>\n",
       "      <td>11</td>\n",
       "      <td>1016987</td>\n",
       "      <td>1016987</td>\n",
       "      <td>G</td>\n",
       "      <td>A</td>\n",
       "      <td>snp</td>\n",
       "      <td>Germline</td>\n",
       "    </tr>\n",
       "    <tr>\n",
       "      <th>23</th>\n",
       "      <td>11</td>\n",
       "      <td>1017092</td>\n",
       "      <td>1017092</td>\n",
       "      <td>G</td>\n",
       "      <td>C</td>\n",
       "      <td>snp</td>\n",
       "      <td>Germline</td>\n",
       "    </tr>\n",
       "    <tr>\n",
       "      <th>24</th>\n",
       "      <td>11</td>\n",
       "      <td>1017162</td>\n",
       "      <td>1017162</td>\n",
       "      <td>G</td>\n",
       "      <td>A</td>\n",
       "      <td>snp</td>\n",
       "      <td>Germline</td>\n",
       "    </tr>\n",
       "    <tr>\n",
       "      <th>25</th>\n",
       "      <td>11</td>\n",
       "      <td>1017451</td>\n",
       "      <td>1017451</td>\n",
       "      <td>G</td>\n",
       "      <td>C</td>\n",
       "      <td>snp</td>\n",
       "      <td>Germline</td>\n",
       "    </tr>\n",
       "    <tr>\n",
       "      <th>27</th>\n",
       "      <td>11</td>\n",
       "      <td>1017536</td>\n",
       "      <td>1017536</td>\n",
       "      <td>G</td>\n",
       "      <td>T</td>\n",
       "      <td>snp</td>\n",
       "      <td>Germline</td>\n",
       "    </tr>\n",
       "    <tr>\n",
       "      <th>30</th>\n",
       "      <td>11</td>\n",
       "      <td>1017639</td>\n",
       "      <td>1017639</td>\n",
       "      <td>G</td>\n",
       "      <td>A</td>\n",
       "      <td>snp</td>\n",
       "      <td>Germline</td>\n",
       "    </tr>\n",
       "    <tr>\n",
       "      <th>31</th>\n",
       "      <td>11</td>\n",
       "      <td>1017669</td>\n",
       "      <td>1017669</td>\n",
       "      <td>G</td>\n",
       "      <td>A</td>\n",
       "      <td>snp</td>\n",
       "      <td>Germline</td>\n",
       "    </tr>\n",
       "    <tr>\n",
       "      <th>35</th>\n",
       "      <td>11</td>\n",
       "      <td>1017891</td>\n",
       "      <td>1017891</td>\n",
       "      <td>G</td>\n",
       "      <td>T</td>\n",
       "      <td>snp</td>\n",
       "      <td>Germline</td>\n",
       "    </tr>\n",
       "    <tr>\n",
       "      <th>37</th>\n",
       "      <td>11</td>\n",
       "      <td>1017956</td>\n",
       "      <td>1017956</td>\n",
       "      <td>G</td>\n",
       "      <td>A</td>\n",
       "      <td>snp</td>\n",
       "      <td>Germline</td>\n",
       "    </tr>\n",
       "    <tr>\n",
       "      <th>57</th>\n",
       "      <td>12</td>\n",
       "      <td>40880337</td>\n",
       "      <td>40880337</td>\n",
       "      <td>G</td>\n",
       "      <td>C</td>\n",
       "      <td>snp</td>\n",
       "      <td>Germline</td>\n",
       "    </tr>\n",
       "    <tr>\n",
       "      <th>58</th>\n",
       "      <td>12</td>\n",
       "      <td>40881985</td>\n",
       "      <td>40881985</td>\n",
       "      <td>G</td>\n",
       "      <td>A</td>\n",
       "      <td>snp</td>\n",
       "      <td>Germline</td>\n",
       "    </tr>\n",
       "    <tr>\n",
       "      <th>60</th>\n",
       "      <td>12</td>\n",
       "      <td>48578046</td>\n",
       "      <td>48578046</td>\n",
       "      <td>G</td>\n",
       "      <td>T</td>\n",
       "      <td>snp</td>\n",
       "      <td>Germline</td>\n",
       "    </tr>\n",
       "    <tr>\n",
       "      <th>61</th>\n",
       "      <td>12</td>\n",
       "      <td>49444545</td>\n",
       "      <td>49444545</td>\n",
       "      <td>G</td>\n",
       "      <td>A</td>\n",
       "      <td>snp</td>\n",
       "      <td>Germline</td>\n",
       "    </tr>\n",
       "    <tr>\n",
       "      <th>65</th>\n",
       "      <td>14</td>\n",
       "      <td>24846862</td>\n",
       "      <td>24846862</td>\n",
       "      <td>G</td>\n",
       "      <td>A</td>\n",
       "      <td>snp</td>\n",
       "      <td>Germline</td>\n",
       "    </tr>\n",
       "    <tr>\n",
       "      <th>68</th>\n",
       "      <td>16</td>\n",
       "      <td>88871206</td>\n",
       "      <td>88871206</td>\n",
       "      <td>G</td>\n",
       "      <td>T</td>\n",
       "      <td>snp</td>\n",
       "      <td>Germline</td>\n",
       "    </tr>\n",
       "    <tr>\n",
       "      <th>70</th>\n",
       "      <td>17</td>\n",
       "      <td>41245466</td>\n",
       "      <td>41245466</td>\n",
       "      <td>G</td>\n",
       "      <td>A</td>\n",
       "      <td>snp</td>\n",
       "      <td>Germline</td>\n",
       "    </tr>\n",
       "    <tr>\n",
       "      <th>72</th>\n",
       "      <td>18</td>\n",
       "      <td>77917828</td>\n",
       "      <td>77917828</td>\n",
       "      <td>G</td>\n",
       "      <td>C</td>\n",
       "      <td>snp</td>\n",
       "      <td>Germline</td>\n",
       "    </tr>\n",
       "    <tr>\n",
       "      <th>74</th>\n",
       "      <td>19</td>\n",
       "      <td>8999498</td>\n",
       "      <td>8999498</td>\n",
       "      <td>G</td>\n",
       "      <td>T</td>\n",
       "      <td>snp</td>\n",
       "      <td>Germline</td>\n",
       "    </tr>\n",
       "    <tr>\n",
       "      <th>78</th>\n",
       "      <td>2</td>\n",
       "      <td>29416366</td>\n",
       "      <td>29416366</td>\n",
       "      <td>G</td>\n",
       "      <td>C</td>\n",
       "      <td>snp</td>\n",
       "      <td>Germline</td>\n",
       "    </tr>\n",
       "    <tr>\n",
       "      <th>79</th>\n",
       "      <td>2</td>\n",
       "      <td>85097574</td>\n",
       "      <td>85097574</td>\n",
       "      <td>G</td>\n",
       "      <td>A</td>\n",
       "      <td>snp</td>\n",
       "      <td>Germline</td>\n",
       "    </tr>\n",
       "    <tr>\n",
       "      <th>80</th>\n",
       "      <td>2</td>\n",
       "      <td>210685100</td>\n",
       "      <td>210685100</td>\n",
       "      <td>G</td>\n",
       "      <td>A</td>\n",
       "      <td>snp</td>\n",
       "      <td>Germline</td>\n",
       "    </tr>\n",
       "    <tr>\n",
       "      <th>84</th>\n",
       "      <td>22</td>\n",
       "      <td>43606215</td>\n",
       "      <td>43606215</td>\n",
       "      <td>G</td>\n",
       "      <td>A</td>\n",
       "      <td>snp</td>\n",
       "      <td>Germline</td>\n",
       "    </tr>\n",
       "    <tr>\n",
       "      <th>111</th>\n",
       "      <td>9</td>\n",
       "      <td>34372783</td>\n",
       "      <td>34372783</td>\n",
       "      <td>G</td>\n",
       "      <td>C</td>\n",
       "      <td>snp</td>\n",
       "      <td>Germline</td>\n",
       "    </tr>\n",
       "    <tr>\n",
       "      <th>120</th>\n",
       "      <td>9</td>\n",
       "      <td>131397479</td>\n",
       "      <td>131397479</td>\n",
       "      <td>G</td>\n",
       "      <td>A</td>\n",
       "      <td>snp</td>\n",
       "      <td>Germline</td>\n",
       "    </tr>\n",
       "    <tr>\n",
       "      <th>121</th>\n",
       "      <td>9</td>\n",
       "      <td>131860901</td>\n",
       "      <td>131860901</td>\n",
       "      <td>G</td>\n",
       "      <td>T</td>\n",
       "      <td>snp</td>\n",
       "      <td>Germline</td>\n",
       "    </tr>\n",
       "    <tr>\n",
       "      <th>123</th>\n",
       "      <td>9</td>\n",
       "      <td>133963008</td>\n",
       "      <td>133963008</td>\n",
       "      <td>G</td>\n",
       "      <td>A</td>\n",
       "      <td>snp</td>\n",
       "      <td>Germline</td>\n",
       "    </tr>\n",
       "    <tr>\n",
       "      <th>125</th>\n",
       "      <td>9</td>\n",
       "      <td>137623485</td>\n",
       "      <td>137623485</td>\n",
       "      <td>G</td>\n",
       "      <td>A</td>\n",
       "      <td>snp</td>\n",
       "      <td>Germline</td>\n",
       "    </tr>\n",
       "    <tr>\n",
       "      <th>129</th>\n",
       "      <td>9</td>\n",
       "      <td>140006202</td>\n",
       "      <td>140006202</td>\n",
       "      <td>G</td>\n",
       "      <td>A</td>\n",
       "      <td>snp</td>\n",
       "      <td>Germline</td>\n",
       "    </tr>\n",
       "  </tbody>\n",
       "</table>\n",
       "</div>"
      ],
      "text/plain": [
       "     Chrom       Star        End Ref Alt mut_type somatic_status\n",
       "2       11    1016627    1016627   G   T      snp       Germline\n",
       "4       11    1016733    1016733   G   T      snp       Germline\n",
       "6       11    1016777    1016777   G   A      snp       Germline\n",
       "7       11    1016801    1016801   G   C      snp       Germline\n",
       "11      11    1016853    1016853   G   C      snp       Germline\n",
       "13      11    1016887    1016887   G   A      snp       Germline\n",
       "16      11    1016934    1016934   G   A      snp       Germline\n",
       "17      11    1016944    1016944   G   C      snp       Germline\n",
       "18      11    1016954    1016954   G   C      snp       Germline\n",
       "19      11    1016967    1016967   G   C      snp       Germline\n",
       "20      11    1016972    1016972   G   A      snp       Germline\n",
       "21      11    1016987    1016987   G   A      snp       Germline\n",
       "23      11    1017092    1017092   G   C      snp       Germline\n",
       "24      11    1017162    1017162   G   A      snp       Germline\n",
       "25      11    1017451    1017451   G   C      snp       Germline\n",
       "27      11    1017536    1017536   G   T      snp       Germline\n",
       "30      11    1017639    1017639   G   A      snp       Germline\n",
       "31      11    1017669    1017669   G   A      snp       Germline\n",
       "35      11    1017891    1017891   G   T      snp       Germline\n",
       "37      11    1017956    1017956   G   A      snp       Germline\n",
       "57      12   40880337   40880337   G   C      snp       Germline\n",
       "58      12   40881985   40881985   G   A      snp       Germline\n",
       "60      12   48578046   48578046   G   T      snp       Germline\n",
       "61      12   49444545   49444545   G   A      snp       Germline\n",
       "65      14   24846862   24846862   G   A      snp       Germline\n",
       "68      16   88871206   88871206   G   T      snp       Germline\n",
       "70      17   41245466   41245466   G   A      snp       Germline\n",
       "72      18   77917828   77917828   G   C      snp       Germline\n",
       "74      19    8999498    8999498   G   T      snp       Germline\n",
       "78       2   29416366   29416366   G   C      snp       Germline\n",
       "79       2   85097574   85097574   G   A      snp       Germline\n",
       "80       2  210685100  210685100   G   A      snp       Germline\n",
       "84      22   43606215   43606215   G   A      snp       Germline\n",
       "111      9   34372783   34372783   G   C      snp       Germline\n",
       "120      9  131397479  131397479   G   A      snp       Germline\n",
       "121      9  131860901  131860901   G   T      snp       Germline\n",
       "123      9  133963008  133963008   G   A      snp       Germline\n",
       "125      9  137623485  137623485   G   A      snp       Germline\n",
       "129      9  140006202  140006202   G   A      snp       Germline"
      ]
     },
     "execution_count": 39,
     "metadata": {},
     "output_type": "execute_result"
    }
   ],
   "source": [
    "import os\n",
    "HOME = os.environ['HOME'] # set HOME to run on different Macs\n",
    "import pandas as pd\n",
    "eb = pd.read_csv(f'{HOME}/Dropbox/Icke/Work/somVar/tools/EBFilter/mytestdata/anno/test_rel.csv', sep='\\t')\n",
    "pon_list = ['1', '7']\n",
    "eb.query(f'Chrom not in {pon_list} and (Star == 1016777 or Ref == \"G\")')"
   ]
  },
  {
   "cell_type": "code",
   "execution_count": 2,
   "metadata": {},
   "outputs": [],
   "source": []
  },
  {
   "cell_type": "code",
   "execution_count": 26,
   "metadata": {},
   "outputs": [
    {
     "data": {
      "text/plain": [
       "True"
      ]
     },
     "execution_count": 26,
     "metadata": {},
     "output_type": "execute_result"
    }
   ],
   "source": [
    "pon = set([1,2,6])\n",
    "set([1,2,6]).issubset(pon)"
   ]
  },
  {
   "cell_type": "code",
   "execution_count": 41,
   "metadata": {},
   "outputs": [
    {
     "name": "stdout",
     "output_type": "stream",
     "text": [
      "Hello\n"
     ]
    }
   ],
   "source": [
    "if 'd':\n",
    "    print('Hello')"
   ]
  },
  {
   "cell_type": "code",
   "execution_count": 49,
   "metadata": {},
   "outputs": [],
   "source": [
    "region = '11:234234'"
   ]
  },
  {
   "cell_type": "code",
   "execution_count": 50,
   "metadata": {},
   "outputs": [
    {
     "data": {
      "text/plain": [
       "'11'"
      ]
     },
     "execution_count": 50,
     "metadata": {},
     "output_type": "execute_result"
    }
   ],
   "source": [
    "region.split(':')[0]"
   ]
  },
  {
   "cell_type": "code",
   "execution_count": 51,
   "metadata": {},
   "outputs": [
    {
     "data": {
      "text/plain": [
       "[1]"
      ]
     },
     "execution_count": 51,
     "metadata": {},
     "output_type": "execute_result"
    }
   ],
   "source": [
    "[] + [1]"
   ]
  },
  {
   "cell_type": "code",
   "execution_count": 52,
   "metadata": {},
   "outputs": [
    {
     "data": {
      "text/plain": [
       "\"['hello']\""
      ]
     },
     "execution_count": 52,
     "metadata": {},
     "output_type": "execute_result"
    }
   ],
   "source": [
    "str(['hello'])"
   ]
  },
  {
   "cell_type": "code",
   "execution_count": null,
   "metadata": {},
   "outputs": [],
   "source": []
  }
 ],
 "metadata": {
  "kernelspec": {
   "display_name": "Python 3",
   "language": "python",
   "name": "python3"
  },
  "language_info": {
   "codemirror_mode": {
    "name": "ipython",
    "version": 3
   },
   "file_extension": ".py",
   "mimetype": "text/x-python",
   "name": "python",
   "nbconvert_exporter": "python",
   "pygments_lexer": "ipython3",
   "version": "3.7.1"
  },
  "varInspector": {
   "cols": {
    "lenName": 16,
    "lenType": 16,
    "lenVar": 40
   },
   "kernels_config": {
    "python": {
     "delete_cmd_postfix": "",
     "delete_cmd_prefix": "del ",
     "library": "var_list.py",
     "varRefreshCmd": "print(var_dic_list())"
    },
    "r": {
     "delete_cmd_postfix": ") ",
     "delete_cmd_prefix": "rm(",
     "library": "var_list.r",
     "varRefreshCmd": "cat(var_dic_list()) "
    }
   },
   "types_to_exclude": [
    "module",
    "function",
    "builtin_function_or_method",
    "instance",
    "_Feature"
   ],
   "window_display": false
  }
 },
 "nbformat": 4,
 "nbformat_minor": 2
}
