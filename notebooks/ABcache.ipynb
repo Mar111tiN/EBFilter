{
 "cells": [
  {
   "cell_type": "markdown",
   "metadata": {},
   "source": [
    "# ABcache\n",
    "## getting a precomputed ABcache file containing the parameters for beta-binomial distribution from the PoN-list"
   ]
  },
  {
   "cell_type": "markdown",
   "metadata": {},
   "source": [
    "# Running EBfilter createCache on testdata"
   ]
  },
  {
   "cell_type": "markdown",
   "metadata": {},
   "source": [
    "## setting the config"
   ]
  },
  {
   "cell_type": "code",
   "execution_count": 1,
   "metadata": {
    "ExecuteTime": {
     "end_time": "2019-05-23T12:19:40.468041Z",
     "start_time": "2019-05-23T12:19:40.450439Z"
    }
   },
   "outputs": [
    {
     "name": "stdout",
     "output_type": "stream",
     "text": [
      "/Users/martinscience/mount/work/utils/EBFilter\n"
     ]
    }
   ],
   "source": [
    "cd .."
   ]
  },
  {
   "cell_type": "code",
   "execution_count": null,
   "metadata": {
    "ExecuteTime": {
     "end_time": "2019-04-10T20:45:32.058959Z",
     "start_time": "2019-04-10T20:45:31.563559Z"
    }
   },
   "outputs": [],
   "source": [
    "from codes import run\n",
    "import os\n",
    "HOME = os.environ['HOME'] \n",
    "# HOME = f\"{HOME}/mount\" # set HOME to run on different Macs\n",
    "# get configs\n",
    "log = 'output/logfile'\n",
    "sep = 'tab'\n",
    "_q = 20  # mapping quality=20\n",
    "_Q = 15 # base quality=15\n",
    "fit_pen = 0.5\n",
    "filter_quals = ''\n",
    "for qual in range( 33, 33 + _Q ): \n",
    "    filter_quals += chr( qual )  # qual asciis for filtering out\n",
    "_ff = 'UNMAP,SECONDARY,QCFAIL,DUP'     # default\n",
    "config = {'q':_q, 'Q':_Q, 'filter_quals': filter_quals, 'log':log, 'fitting_penalty': fit_pen, 'ff':_ff, 'sep': sep}\n",
    "args = {}"
   ]
  },
  {
   "cell_type": "markdown",
   "metadata": {},
   "source": [
    "## running makeEBcache on testdata (takes ~2h on 3 cores)\n",
    "* is not necessary for testing the cache mode\n",
    "* a precomputed EBcache is stored in testdata/precom_testcache"
   ]
  },
  {
   "cell_type": "code",
   "execution_count": null,
   "metadata": {
    "ExecuteTime": {
     "end_time": "2019-04-09T19:17:19.038955Z",
     "start_time": "2019-04-09T19:17:19.035507Z"
    }
   },
   "outputs": [],
   "source": [
    "args['pon_list'] = 'testdata/PoN_list.txt'\n",
    "args['cache_folder'] = 'testdata/testdata_cache' # provide a folder for storing the data (snakemake config)\n",
    "args['force_caching'] = True               # force cache generation although no bed_file is provided\n",
    "args['bed_file'] = None # 'testdata/input.bed'\n",
    "args['generate_cache'] = True"
   ]
  },
  {
   "cell_type": "code",
   "execution_count": null,
   "metadata": {
    "ExecuteTime": {
     "end_time": "2019-04-10T20:45:40.515331Z",
     "start_time": "2019-04-10T20:45:32.899711Z"
    }
   },
   "outputs": [],
   "source": [
    "config['threads'] = 4\n",
    "config['debug_mode'] = False\n",
    "run.main(args, config)\n",
    "!ls output"
   ]
  },
  {
   "cell_type": "markdown",
   "metadata": {},
   "source": [
    "### using CLI:"
   ]
  },
  {
   "cell_type": "code",
   "execution_count": null,
   "metadata": {},
   "outputs": [],
   "source": [
    "!./makeEBcache -t 3 -force_caching testdata/PoN_list.txt testdata/testdata_cache"
   ]
  },
  {
   "cell_type": "markdown",
   "metadata": {},
   "source": [
    "## running EBscore in cache_mode on testdata\n",
    "* you can use the cache file generated in the last step or the precomputed one\n",
    "* for using precomputed file, just change the args['use_cache'] value"
   ]
  },
  {
   "cell_type": "code",
   "execution_count": null,
   "metadata": {},
   "outputs": [],
   "source": [
    "args['mut_file'] = 'testdata/input.anno'\n",
    "args['tumor_bam'] = 'testdata/tumor.bam'\n",
    "args['pon_list'] = 'testdata/PoN_list.txt'\n",
    "args['output_path'] = 'output/testdata_eb.csv'\n",
    "# toggle outcomment in the next two lines for use of precomputed cache file\n",
    "args['use_cache'] = 'testdata/testdata_cache' \n",
    "# args['use_cache'] = 'testdata/precom_testcache'\n",
    "args['chromosome'] = 'chr11'\n",
    "args['generate_cache'] = False"
   ]
  },
  {
   "cell_type": "code",
   "execution_count": null,
   "metadata": {},
   "outputs": [],
   "source": [
    "config['threads'] = 3\n",
    "config['debug_mode'] = False\n",
    "run.main(args, config)\n",
    "!ls output"
   ]
  },
  {
   "cell_type": "markdown",
   "metadata": {},
   "source": [
    "### using CLI:"
   ]
  },
  {
   "cell_type": "code",
   "execution_count": null,
   "metadata": {},
   "outputs": [],
   "source": [
    "!EBscore -t 3 -use_cache testdata/testdata_cache testdata/input.anno testdata/tumor.bam testdata/PoN_list.txt output/testdata_EB.csv"
   ]
  },
  {
   "cell_type": "markdown",
   "metadata": {},
   "source": [
    "## Running EBfilter createCache on my data (takes ~5h on 3 cores)"
   ]
  },
  {
   "cell_type": "code",
   "execution_count": null,
   "metadata": {
    "ExecuteTime": {
     "end_time": "2019-04-09T19:17:19.038955Z",
     "start_time": "2019-04-09T19:17:19.035507Z"
    }
   },
   "outputs": [],
   "source": [
    "args = {}\n",
    "args['pon_list'] = f'{HOME}/Dropbox/Icke/Work/somVar/tools/EBFilter/mytestdata/aml_pon.list'\n",
    "args['cache_folder'] = f'{HOME}/Dropbox/Icke/Work/somVar/tools/EBFilter/mytestdata/aml_cache'\n",
    "args['force_caching'] = False\n",
    "args['bed_file'] = f'{HOME}/Dropbox/Icke/Work/somVar/tools/EBFilter/mytestdata/HAEv7.bed'\n",
    "args['chrom'] = '22'\n",
    "args['generate_cache'] = True"
   ]
  },
  {
   "cell_type": "code",
   "execution_count": null,
   "metadata": {},
   "outputs": [],
   "source": [
    "config['threads'] = 3\n",
    "config['debug_mode'] = False\n",
    "run.main(args, config)\n",
    "!ls output"
   ]
  },
  {
   "cell_type": "markdown",
   "metadata": {},
   "source": [
    "### using CLI:"
   ]
  },
  {
   "cell_type": "code",
   "execution_count": null,
   "metadata": {},
   "outputs": [],
   "source": [
    "!makeEBcache -t3 -force_caching ~/Dropbox/Icke/Work/somVar/tools/EBFilter/mytestdata/aml_pon.list ~/Dropbox/Icke/Work/somVar/tools/EBFilter/mytestdata/aml_cache"
   ]
  },
  {
   "cell_type": "markdown",
   "metadata": {},
   "source": [
    "## Running EBscore in cache_mode on my data"
   ]
  },
  {
   "cell_type": "code",
   "execution_count": null,
   "metadata": {},
   "outputs": [],
   "source": [
    "args['mut_file'] = f'{HOME}/Dropbox/Icke/Work/somVar/tools/EBFilter/mytestdata/anno/test_rel.csv'\n",
    "args['tumor_bam'] = f'{HOME}/Dropbox/Icke/Work/somVar/tools/EBFilter/mytestdata/bam/test_Rel1.bam'\n",
    "args['pon_list'] = f'{HOME}/Dropbox/Icke/Work/somVar/tools/EBFilter/mytestdata/aml_pon.list'\n",
    "args['use_cache'] = f'{HOME}/Dropbox/Icke/Work/somVar/tools/EBFilter/mytestdata/aml_cache'\n",
    "args['output_path'] = f'{HOME}/Dropbox/Icke/Work/somVar/tools/EBFilter/mytestdata/output/test_eb.csv'\n",
    "args['chromosome'] = 'chr11'\n",
    "args['generate_cache'] = False"
   ]
  },
  {
   "cell_type": "code",
   "execution_count": null,
   "metadata": {},
   "outputs": [],
   "source": [
    "config['threads'] = 40\n",
    "config['debug_mode'] = True\n",
    "run.main(args, config)"
   ]
  },
  {
   "cell_type": "markdown",
   "metadata": {},
   "source": [
    "### using CLI:"
   ]
  },
  {
   "cell_type": "code",
   "execution_count": null,
   "metadata": {},
   "outputs": [],
   "source": [
    "!EBscore -t 3 -use_cache ~/Dropbox/Icke/Work/somVar/tools/EBFilter/mytestdata/aml_cache ~//Dropbox/Icke/Work/somVar/tools/EBFilter/mytestdata/anno/test_rel.csv ~/Dropbox/Icke/Work/somVar/tools/EBFilter/mytestdata/bam/test_Rel1.bam ~/Dropbox/Icke/Work/somVar/tools/EBFilter/mytestdata/aml_pon.list ~/Dropbox/Icke/Work/somVar/tools/EBFilter/mytestdata/output/test_eb.csv\n"
   ]
  },
  {
   "cell_type": "markdown",
   "metadata": {},
   "source": [
    "## Running EBfilter createCache in BIHCluster on real data"
   ]
  },
  {
   "cell_type": "code",
   "execution_count": null,
   "metadata": {
    "ExecuteTime": {
     "end_time": "2019-05-13T06:19:31.889740Z",
     "start_time": "2019-05-13T06:19:12.780585Z"
    }
   },
   "outputs": [],
   "source": [
    "from codes import run\n",
    "import os\n",
    "HOME = os.environ['HOME']\n",
    "# HOME = f\"{HOME}/mount\" # set HOME to run on different Macs\n",
    "STATIC = f'{HOME}/work/static'\n",
    "# STATIC = '/fast/groups/ag_damm/work/static'\n",
    "args = {'q':20, 'Q':15, 'fit_with': 0.5, 'ff':'UNMAP,SECONDARY,QCFAIL,DUP', 'sep': 'tab'}\n",
    "filter_quals = ''\n",
    "for qual in range( 33, 33 + args['Q'] ): \n",
    "    filter_quals += chr( qual )  # qual asciis for filtering out   \n",
    "args['filter_quals'] = filter_quals\n",
    "\n",
    "args['pon_list'] = f'{STATIC}/ref/PoN/AML_Pon.txt'\n",
    "args['cache_folder'] = f'{STATIC}/ref/PoN/AML_cache'\n",
    "args['force_caching'] = False\n",
    "args['chrom'] = 'Y'\n",
    "args['bed_file'] = f'{STATIC}/ref/bed_files/SureSelect/hg19/SS_HAEv6r2_hg19_Padded_nochr.bed'\n",
    "args['generate_cache'] = True\n",
    "\n",
    "args['t'] = 32\n",
    "args['debug'] = False\n",
    "run.main(args, make_cache=True)"
   ]
  },
  {
   "cell_type": "markdown",
   "metadata": {},
   "source": [
    "### using CLI:"
   ]
  },
  {
   "cell_type": "code",
   "execution_count": null,
   "metadata": {},
   "outputs": [],
   "source": [
    "!makeEBcache -t3 -bed_file ~/work/static/ref/bed_files/SureSelect/hg19/SS_HAEv6r2_hg19_Padded_nochr.bed ~/work/static/ref/PoN/AML_Pon.txt ~/work/static/ref/PoN/AML_cache\n"
   ]
  },
  {
   "cell_type": "markdown",
   "metadata": {},
   "source": [
    "## Running EBscore in cache_mode in BIHCluster on real data"
   ]
  },
  {
   "cell_type": "code",
   "execution_count": null,
   "metadata": {
    "ExecuteTime": {
     "end_time": "2019-05-14T04:55:54.768306Z",
     "start_time": "2019-05-14T04:55:53.957978Z"
    }
   },
   "outputs": [],
   "source": [
    "from codes import run\n",
    "import os\n",
    "HOME = os.environ['HOME']\n",
    "STATIC = f'{HOME}/work/static'\n",
    "# STATIC = '/fast/groups/ag_damm/work/static'\n",
    "# HOME = f\"{HOME}/mount\" # set HOME to run on different Macs\n",
    "args = {'q':20, 'Q':15, 'fit_with': 0.5, 'ff':'UNMAP,SECONDARY,QCFAIL,DUP', 'sep': 'tab'}\n",
    "filter_quals = ''\n",
    "for qual in range( 33, 33 + args['Q'] ): \n",
    "    filter_quals += chr( qual )  # qual asciis for filtering out   \n",
    "args['filter_quals'] = filter_quals\n",
    "args['mut_file'] = f'{HOME}/scratch/projects/somVar/annovar/test_D-CR1.csv'\n",
    "args['output_path'] = f'{HOME}/work/utils/EBFilter/output/test_D-EB.csv'\n",
    "args['tumor_bam'] = f'{HOME}/scratch/projects/somVar/recalib/test_D.bam'\n",
    "args['pon_list'] = f'{STATIC}/ref/PoN/AML_Pon.txt'\n",
    "args['use_cache'] = f'{STATIC}/ref/PoN/AML_cache'\n",
    "args['generate_cache'] = False\n",
    "args['region'] = ''\n",
    "\n",
    "args['t'] = 1\n",
    "args['debug'] = True\n",
    "run.main(args, make_cache=False)"
   ]
  },
  {
   "cell_type": "markdown",
   "metadata": {},
   "source": [
    "+ customized smaller version for debugging"
   ]
  },
  {
   "cell_type": "code",
   "execution_count": null,
   "metadata": {},
   "outputs": [],
   "source": [
    "from codes import run\n",
    "import os\n",
    "HOME = os.environ['HOME']\n",
    "STATIC = f'{HOME}/work/static'\n",
    "# STATIC = '/fast/groups/ag_damm/work/static'\n",
    "# HOME = f\"{HOME}/mount\" # set HOME to run on different Macs\n",
    "args = {'q':20, 'Q':15, 'fit_with': 0.5, 'ff':'UNMAP,SECONDARY,QCFAIL,DUP', 'sep': 'tab'}\n",
    "filter_quals = ''\n",
    "for qual in range( 33, 33 + args['Q'] ): \n",
    "    filter_quals += chr( qual )  # qual asciis for filtering out   \n",
    "args['filter_quals'] = filter_quals\n",
    "args['mut_file'] = f'{HOME}/work/utils/EBFilter/test_D-Indel.csv'\n",
    "args['output_path'] = f'{HOME}/work/utils/EBFilter/output/test_D-EB.csv'\n",
    "args['tumor_bam'] = f'{HOME}/scratch/projects/somVar/recalib/test_D.bam'\n",
    "args['pon_list'] = f'{STATIC}/ref/PoN/AML_Pon.txt'\n",
    "args['use_cache'] = f'{STATIC}/ref/PoN/AML_cache'\n",
    "args['generate_cache'] = False\n",
    "args['region'] = ''\n",
    "\n",
    "args['t'] = 1\n",
    "args['debug'] = True\n",
    "run.main(args, make_cache=False)"
   ]
  }
 ],
 "metadata": {
  "kernelspec": {
   "display_name": "Python 3",
   "language": "python",
   "name": "python3"
  },
  "language_info": {
   "codemirror_mode": {
    "name": "ipython",
    "version": 3
   },
   "file_extension": ".py",
   "mimetype": "text/x-python",
   "name": "python",
   "nbconvert_exporter": "python",
   "pygments_lexer": "ipython3",
   "version": "3.7.3"
  },
  "varInspector": {
   "cols": {
    "lenName": 16,
    "lenType": 16,
    "lenVar": 40
   },
   "kernels_config": {
    "python": {
     "delete_cmd_postfix": "",
     "delete_cmd_prefix": "del ",
     "library": "var_list.py",
     "varRefreshCmd": "print(var_dic_list())"
    },
    "r": {
     "delete_cmd_postfix": ") ",
     "delete_cmd_prefix": "rm(",
     "library": "var_list.r",
     "varRefreshCmd": "cat(var_dic_list()) "
    }
   },
   "types_to_exclude": [
    "module",
    "function",
    "builtin_function_or_method",
    "instance",
    "_Feature"
   ],
   "window_display": false
  }
 },
 "nbformat": 4,
 "nbformat_minor": 2
}
