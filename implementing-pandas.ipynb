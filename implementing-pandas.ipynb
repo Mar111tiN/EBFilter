{
 "cells": [
  {
   "cell_type": "markdown",
   "metadata": {},
   "source": [
    "# Implementation of the EBfilter by genomon"
   ]
  },
  {
   "cell_type": "markdown",
   "metadata": {},
   "source": [
    "* EBrun (originally EBFilter) is an argparse wrapper passing command line arguments to run.py (is not needed for internal use)\n",
    "* passed arguments:\n",
    "    * targetMutationFile: the .vcf or .anno containing the mutations\n",
    "    * targetBamPath: path to the tumor bam file (+.bai)\n",
    "    * controlBamPathList: text list of path to PoN bam files (+ .bai)\n",
    "    * outputPath\n",
    "    * -q option for quality threshold – not needed --> default _q config\n",
    "    * -Q option for base quality threshold - not needed --> default _Q from config\n",
    "    * --region option for restriction of regions on mpileup -l"
   ]
  },
  {
   "cell_type": "markdown",
   "metadata": {},
   "source": [
    "## Initiation"
   ]
  },
  {
   "cell_type": "markdown",
   "metadata": {},
   "source": [
    "### imports"
   ]
  },
  {
   "cell_type": "code",
   "execution_count": 1,
   "metadata": {
    "ExecuteTime": {
     "end_time": "2019-04-06T05:55:50.518282Z",
     "start_time": "2019-04-06T05:55:50.089720Z"
    }
   },
   "outputs": [],
   "source": [
    "import os\n",
    "from code import run"
   ]
  },
  {
   "cell_type": "markdown",
   "metadata": {},
   "source": [
    "### snakemake config"
   ]
  },
  {
   "cell_type": "code",
   "execution_count": 2,
   "metadata": {
    "ExecuteTime": {
     "end_time": "2019-04-06T05:55:51.085359Z",
     "start_time": "2019-04-06T05:55:51.080910Z"
    }
   },
   "outputs": [],
   "source": [
    "config = {'EB':{'run': True}}\n",
    "params = {}\n",
    "params['map_quality'] = 20\n",
    "params['base_quality'] = 15\n",
    "params['filter_flags'] = 'UNMAP,SECONDARY,QCFAIL,DUP'\n",
    "params['loption'] = True\n",
    "config['EB']['threads'] = 1\n",
    "config['EB']['params'] = params\n",
    "config['annovar'] = {'sep': '\\t'}"
   ]
  },
  {
   "cell_type": "markdown",
   "metadata": {},
   "source": [
    "### load the config and GLOBAL STATE into variable _"
   ]
  },
  {
   "cell_type": "code",
   "execution_count": 3,
   "metadata": {
    "ExecuteTime": {
     "end_time": "2019-04-06T05:55:51.374358Z",
     "start_time": "2019-04-06T05:55:51.369026Z"
    }
   },
   "outputs": [],
   "source": [
    "debug_mode = True\n",
    "args = {}\n",
    "params = config['EB']['params']\n",
    "threads = config['EB']['threads']\n",
    "sep = config['annovar']['sep']\n",
    "_q = str(params['map_quality'])  # mapping quality=20\n",
    "_Q = params['base_quality']      # base quality=15\n",
    "filter_quals = ''\n",
    "for qual in range( 33, 33 + _Q ): \n",
    "    filter_quals += chr( qual )  # qual asciis for filtering out\n",
    "_ff = params['filter_flags']     # 'UNMAP,SECONDARY,QCFAIL,DUP'\n",
    "is_loption = params['loption']   # True\n",
    "log_path = 'output/logs'         # log_file: 'output/logs/'\n",
    "\n"
   ]
  },
  {
   "cell_type": "markdown",
   "metadata": {},
   "source": [
    "### function args\n",
    "will be passed during the function call"
   ]
  },
  {
   "cell_type": "code",
   "execution_count": 4,
   "metadata": {
    "ExecuteTime": {
     "end_time": "2019-04-06T05:55:51.620632Z",
     "start_time": "2019-04-06T05:55:51.615457Z"
    }
   },
   "outputs": [],
   "source": [
    "HOME = '/Users/mahtin'\n",
    "args['mut_file'] = f'{HOME}/Dropbox/Icke/Work/somVar/tools/EBFilter/mytestdata/anno/test_rel.csv'\n",
    "args['tumor_bam'] = f'{HOME}/Dropbox/Icke/Work/somVar/tools/EBFilter/mytestdata/bam/test_Rel1.bam'\n",
    "args['pon_list'] = f'{HOME}/Dropbox/Icke/Work/somVar/tools/EBFilter/mytestdata/aml_pon.list'\n",
    "args['output_path'] = 'output/test_rel_eb.csv'\n",
    "args['region'] = ''\n",
    "log_file = os.path.join(log_path, f\"{os.path.splitext(os.path.basename(args['output_path']))[0]}.log\")\n",
    "filter_quals = '!\"#$%&\\'()*+,-./'\n",
    "# dump into _\n",
    "_ = {'q':_q, 'Q':_Q, 'filter_quals': filter_quals, 'ff':_ff, 'log':log_file, 'threads':threads, 'sep': sep, 'debug_mode':debug_mode}"
   ]
  },
  {
   "cell_type": "markdown",
   "metadata": {},
   "source": [
    "# Using dataframes"
   ]
  },
  {
   "cell_type": "code",
   "execution_count": 5,
   "metadata": {
    "ExecuteTime": {
     "end_time": "2019-04-06T05:56:03.871682Z",
     "start_time": "2019-04-06T05:55:52.481140Z"
    }
   },
   "outputs": [
    {
     "name": "stdout",
     "output_type": "stream",
     "text": [
      "index:  5 read:  tt-3nnnTTTtTTTT\n",
      "index:  5 read:  ttTTTtTTTT\n",
      "index:  8 read:  TtgtgT-3NNNTTTT\n",
      "index:  8 read:  TtgtgTTTTT\n"
     ]
    },
    {
     "ename": "NameError",
     "evalue": "name 'EB_score' is not defined",
     "output_type": "error",
     "traceback": [
      "\u001b[0;31m---------------------------------------------------------------------------\u001b[0m",
      "\u001b[0;31mNameError\u001b[0m                                 Traceback (most recent call last)",
      "\u001b[0;32m<ipython-input-5-b08e48a1e2ed>\u001b[0m in \u001b[0;36m<module>\u001b[0;34m\u001b[0m\n\u001b[1;32m      2\u001b[0m \u001b[0m_\u001b[0m\u001b[0;34m[\u001b[0m\u001b[0;34m'threads'\u001b[0m\u001b[0;34m]\u001b[0m \u001b[0;34m=\u001b[0m \u001b[0;36m1\u001b[0m\u001b[0;34m\u001b[0m\u001b[0;34m\u001b[0m\u001b[0m\n\u001b[1;32m      3\u001b[0m \u001b[0m_\u001b[0m\u001b[0;34m[\u001b[0m\u001b[0;34m'debug_mode'\u001b[0m\u001b[0;34m]\u001b[0m \u001b[0;34m=\u001b[0m \u001b[0;32mTrue\u001b[0m\u001b[0;34m\u001b[0m\u001b[0;34m\u001b[0m\u001b[0m\n\u001b[0;32m----> 4\u001b[0;31m \u001b[0mrun\u001b[0m\u001b[0;34m.\u001b[0m\u001b[0mmain\u001b[0m\u001b[0;34m(\u001b[0m\u001b[0margs\u001b[0m\u001b[0;34m,\u001b[0m\u001b[0m_\u001b[0m\u001b[0;34m)\u001b[0m\u001b[0;34m\u001b[0m\u001b[0;34m\u001b[0m\u001b[0m\n\u001b[0m\u001b[1;32m      5\u001b[0m \u001b[0mget_ipython\u001b[0m\u001b[0;34m(\u001b[0m\u001b[0;34m)\u001b[0m\u001b[0;34m.\u001b[0m\u001b[0msystem\u001b[0m\u001b[0;34m(\u001b[0m\u001b[0;34m'ls output'\u001b[0m\u001b[0;34m)\u001b[0m\u001b[0;34m\u001b[0m\u001b[0;34m\u001b[0m\u001b[0m\n",
      "\u001b[0;32m~/Sites/Python/EBFilter/code/run.py\u001b[0m in \u001b[0;36mmain\u001b[0;34m(args, state)\u001b[0m\n\u001b[1;32m     49\u001b[0m         \u001b[0;32mif\u001b[0m \u001b[0mthreads\u001b[0m \u001b[0;34m==\u001b[0m \u001b[0;36m1\u001b[0m\u001b[0;34m:\u001b[0m\u001b[0;34m\u001b[0m\u001b[0;34m\u001b[0m\u001b[0m\n\u001b[1;32m     50\u001b[0m         \u001b[0;31m# non multi-threading mode\u001b[0m\u001b[0;34m\u001b[0m\u001b[0;34m\u001b[0m\u001b[0;34m\u001b[0m\u001b[0m\n\u001b[0;32m---> 51\u001b[0;31m             \u001b[0mout_df\u001b[0m \u001b[0;34m=\u001b[0m \u001b[0manno\u001b[0m\u001b[0;34m.\u001b[0m\u001b[0mworker\u001b[0m\u001b[0;34m(\u001b[0m\u001b[0mtumor_bam\u001b[0m\u001b[0;34m,\u001b[0m \u001b[0mpon_list\u001b[0m\u001b[0;34m,\u001b[0m \u001b[0moutput_path\u001b[0m\u001b[0;34m,\u001b[0m \u001b[0mregion\u001b[0m\u001b[0;34m,\u001b[0m \u001b[0mstate\u001b[0m\u001b[0;34m,\u001b[0m \u001b[0mmut_df\u001b[0m\u001b[0;34m)\u001b[0m \u001b[0;31m# -1 means single-threaded\u001b[0m\u001b[0;34m\u001b[0m\u001b[0;34m\u001b[0m\u001b[0m\n\u001b[0m\u001b[1;32m     52\u001b[0m \u001b[0;34m\u001b[0m\u001b[0m\n\u001b[1;32m     53\u001b[0m         \u001b[0;32melse\u001b[0m\u001b[0;34m:\u001b[0m \u001b[0;31m# multi-threading mode\u001b[0m\u001b[0;34m\u001b[0m\u001b[0;34m\u001b[0m\u001b[0m\n",
      "\u001b[0;32m~/Sites/Python/EBFilter/code/anno.py\u001b[0m in \u001b[0;36mworker\u001b[0;34m(tumor_bam, pon_list, output_path, region, state, mut_df)\u001b[0m\n\u001b[1;32m     29\u001b[0m \u001b[0;34m\u001b[0m\u001b[0m\n\u001b[1;32m     30\u001b[0m     \u001b[0;31m########### EB score ############\u001b[0m\u001b[0;34m\u001b[0m\u001b[0;34m\u001b[0m\u001b[0;34m\u001b[0m\u001b[0m\n\u001b[0;32m---> 31\u001b[0;31m     \u001b[0mmut_df\u001b[0m\u001b[0;34m[\u001b[0m\u001b[0;34m'EB_score'\u001b[0m\u001b[0;34m]\u001b[0m \u001b[0;34m=\u001b[0m \u001b[0mmut_df\u001b[0m\u001b[0;34m.\u001b[0m\u001b[0mapply\u001b[0m\u001b[0;34m(\u001b[0m\u001b[0mpartial\u001b[0m\u001b[0;34m(\u001b[0m\u001b[0mEB_score\u001b[0m\u001b[0;34m,\u001b[0m \u001b[0mpon_count\u001b[0m\u001b[0;34m)\u001b[0m\u001b[0;34m,\u001b[0m \u001b[0maxis\u001b[0m\u001b[0;34m=\u001b[0m\u001b[0;36m1\u001b[0m\u001b[0;34m)\u001b[0m\u001b[0;34m\u001b[0m\u001b[0;34m\u001b[0m\u001b[0m\n\u001b[0m\u001b[1;32m     32\u001b[0m \u001b[0;34m\u001b[0m\u001b[0m\n\u001b[1;32m     33\u001b[0m     \u001b[0;32mreturn\u001b[0m \u001b[0mmut_df\u001b[0m\u001b[0;34m[\u001b[0m\u001b[0mmut_df\u001b[0m\u001b[0;34m.\u001b[0m\u001b[0mcolumns\u001b[0m\u001b[0;34m[\u001b[0m\u001b[0;34m:\u001b[0m\u001b[0;36m5\u001b[0m\u001b[0;34m]\u001b[0m\u001b[0;34m,\u001b[0m \u001b[0mmut_df\u001b[0m\u001b[0;34m[\u001b[0m\u001b[0;34m'EB_score'\u001b[0m\u001b[0;34m]\u001b[0m\u001b[0;34m]\u001b[0m\u001b[0;34m\u001b[0m\u001b[0;34m\u001b[0m\u001b[0m\n",
      "\u001b[0;31mNameError\u001b[0m: name 'EB_score' is not defined"
     ]
    }
   ],
   "source": [
    "##### RUNNIT\n",
    "_['threads'] = 1\n",
    "_['debug_mode'] = True\n",
    "run.main(args,_)\n",
    "!ls output"
   ]
  },
  {
   "cell_type": "markdown",
   "metadata": {},
   "source": [
    "## transforming for EB_score"
   ]
  },
  {
   "cell_type": "markdown",
   "metadata": {},
   "source": [
    "## getting the count matrix from a df row"
   ]
  },
  {
   "cell_type": "code",
   "execution_count": 34,
   "metadata": {
    "ExecuteTime": {
     "end_time": "2019-04-06T06:20:06.612901Z",
     "start_time": "2019-04-06T06:20:06.595100Z"
    }
   },
   "outputs": [
    {
     "data": {
      "text/plain": [
       "[read0     44\n",
       " read1     10\n",
       " read2      8\n",
       " read3     10\n",
       " read4      8\n",
       " read5     13\n",
       " read6     14\n",
       " read7      9\n",
       " read8     11\n",
       " read9     17\n",
       " read10    17\n",
       " Name: 15, dtype: int64]"
      ]
     },
     "execution_count": 34,
     "metadata": {},
     "output_type": "execute_result"
    }
   ],
   "source": [
    "import pandas as pd\n",
    "from functools import partial\n",
    "\n",
    "mut_df = pd.read_csv('output/test_rel_clean.csv', sep='\\t')\n",
    "# for snps\n",
    "row = mut_df.iloc[15]\n",
    "\n",
    "def get_count(var, read):\n",
    "    values = [read.count(r'[ACTG]')]\n",
    "    values.append(read.count(f'{var.upper()}'))\n",
    "    values.append(read.count(r'[acgt]'))\n",
    "    values.append(read.count(f'{var.lower()}'))\n",
    "    count_matrix = pd.Series(values, index=['depth_p', 'mismatch_p', 'depth_n', 'mismatch_n'])\n",
    "    return count_matrix\n",
    "var = row['Alt']\n",
    "values = [row.iloc[6::3].str.count(r'[ACTG]')]\n",
    "values"
   ]
  },
  {
   "cell_type": "code",
   "execution_count": null,
   "metadata": {},
   "outputs": [],
   "source": []
  },
  {
   "cell_type": "markdown",
   "metadata": {},
   "source": []
  },
  {
   "cell_type": "markdown",
   "metadata": {},
   "source": [
    "### adjusting for bad quality calls"
   ]
  },
  {
   "cell_type": "code",
   "execution_count": null,
   "metadata": {},
   "outputs": [],
   "source": [
    "import re\n",
    "filters = '!\"#$%?&\\'()*+,-./'\n",
    "filter_string = r\"([\" + filters + \"])\"\n",
    "filter_re = re.compile(filter_string)\n",
    "read = 'AAAA*BBB'\n",
    "Q = 'AAAA*BBB'\n",
    "while filter_re.search(Q):\n",
    "    m = filter_re.search(Q)\n",
    "    print(Q,read, m.end(), m.group(0), m.group(1))\n",
    "    Q = filter_re.sub('', Q, count=1)\n",
    "    pos = max(m.start(),m.end()-1)\n",
    "    read = read[:pos] + read[pos+1:]\n",
    "print(read)\n"
   ]
  },
  {
   "cell_type": "code",
   "execution_count": null,
   "metadata": {},
   "outputs": [],
   "source": [
    "import pandas as pd\n",
    "import re\n",
    "from functools import partial\n",
    "\n",
    "filters = '!\"#$%?&\\'()*+,-./'\n",
    "filter_string = r\"([\" + filters + \"])\"\n",
    "filter_re = re.compile(filter_string)\n",
    "\n",
    "def remove_badQ(i,row):\n",
    "    Q = row[f\"Q{i}\"]\n",
    "    read = row[f\"read{i}\"]\n",
    "    while filter_re.search(Q):\n",
    "        print(read, Q)\n",
    "        m = filter_re.search(Q)\n",
    "        Q = filter_re.sub('', Q, count=1)\n",
    "        pos = max(m.start(),m.end()-1)\n",
    "        read = read[:pos] + read[pos+1:]\n",
    "    print(read,Q)\n",
    "    return row   \n",
    "mut_df = pd.read_csv('output/test_rel_clean.csv', sep='\\t')\n",
    "pon_count = 10\n",
    "\n",
    "is_snp = (mut_df['Ref'] != '-') & (mut_df['Alt'] != '-')\n",
    "# example for row 7\n",
    "has_badQ = mut_df['Q0'].str.contains(filter_re)\n",
    "bad_df = mut_df[is_snp & has_badQ]\n",
    "mut_df[is_snp & has_badQ] = bad_df.apply(partial(remove_badQ, 0), axis=1)\n"
   ]
  },
  {
   "cell_type": "code",
   "execution_count": null,
   "metadata": {},
   "outputs": [],
   "source": [
    "def remove_badQ(df, filters):\n",
    "    filter_string = r\"[\" + filters + \"]\"\n",
    "    filter_re = re.compile(filter_string)\n",
    "    is_snp = (df['Ref'] != '-') & (df['Alt'] != '-')\n",
    "    for i in range(pon_count + 1):\n",
    "        Q = f\"Q{i}\"\n",
    "        print(Q)\n",
    "        bad_rows = df[snp][df.str.contains(filter_re)]\n",
    "        print(bad_rows)\n"
   ]
  },
  {
   "cell_type": "code",
   "execution_count": null,
   "metadata": {},
   "outputs": [],
   "source": [
    "import re\n",
    "\n",
    "filter_string = r\"(^[\" + filters + \"].)|(.[\" + filters + \"])\"\n",
    "filter_re = re.compile(filter_string)\n",
    "test = \"s*d\"\n",
    "m = filter_re.search(test)\n",
    "m.group()"
   ]
  },
  {
   "cell_type": "code",
   "execution_count": null,
   "metadata": {},
   "outputs": [],
   "source": [
    "import pandas as pd\n",
    "mut_df = pd.read_csv('output/test_rel_clean.csv', sep='\\t')\n",
    "mut_df[:13]"
   ]
  },
  {
   "cell_type": "markdown",
   "metadata": {},
   "source": [
    "### letter count"
   ]
  },
  {
   "cell_type": "code",
   "execution_count": null,
   "metadata": {},
   "outputs": [],
   "source": [
    "import pandas as pd\n",
    "mut_df = pd.read_csv('output/test_rel_clean.csv', sep='\\t')\n",
    "mut_df\n",
    "# check length:\n",
    "for i in range(11):\n",
    "    read = f\"read{i}\"\n",
    "    Q = f\"Q{i}\"\n",
    "    test = mut_df[mut_df[read].str.len() != mut_df[Q].str.len()]\n",
    "    print(len(test.index))\n",
    "i = 7\n",
    "read = f\"read{i}\"\n",
    "Q = f\"Q{i}\"\n",
    "test = mut_df[mut_df[read].str.len() != mut_df[Q].str.len()]\n",
    "test"
   ]
  },
  {
   "cell_type": "markdown",
   "metadata": {},
   "source": [
    "### cleaning the data"
   ]
  },
  {
   "cell_type": "code",
   "execution_count": null,
   "metadata": {},
   "outputs": [],
   "source": [
    "import pandas as pd\n",
    "import re\n",
    "from functools import partial\n",
    "\n",
    "mut_df = pd.read_csv('output/test_rel_eb.csv', sep='\\t')\n",
    "\n",
    "# remove start_end signs in reads\n",
    "sign_re = re.compile(r'\\^.|\\$')\n",
    "indel_simple = re.compile(r'[\\+\\-]([0-9]+)')\n",
    "\n",
    "mut_df['read'] = mut_df['read'].str.replace(sign_re, '')\n",
    "for i in range(10):\n",
    "    read = f\"read{i}\"\n",
    "    mut_df[read] = mut_df[read].str.replace(sign_re, '')\n",
    "is_indel = (mut_df['Ref'] == '-') | (mut_df['Alt'] == '-')\n",
    "def clean_indels(i, row):\n",
    "    indel_length = indel_simple.search(row['read']).group(1)\n",
    "    re_string = r\"([ACGTNacgtn])([\\+\\-])([0-9]+)([ACGTNacgtn]{\" + str(indel_length) + \"})\"\n",
    "    indel_re = re.compile(re_string)\n",
    "    row['read'] = indel_re.sub(r'\\1', row['read'])\n",
    "    for i in range(i):\n",
    "        read = f\"read{i}\"\n",
    "        row[read] = indel_re.sub(r'\\1', row[read])\n",
    "    return row\n",
    "clean_indels_i = partial(clean_indels, 10)\n",
    "    \n",
    "mut_df[is_indel] = mut_df[is_indel].apply(clean_indels_i, axis=1)\n",
    "mut_df[is_indel]\n",
    "\n",
    "# mut_df['read'].replace(sign_re, '')\n",
    "\n",
    "\n"
   ]
  },
  {
   "cell_type": "markdown",
   "metadata": {
    "ExecuteTime": {
     "end_time": "2019-04-04T12:23:13.986579Z",
     "start_time": "2019-04-04T12:23:13.862541Z"
    }
   },
   "source": [
    "## importing pileup directly into dataframe"
   ]
  },
  {
   "cell_type": "code",
   "execution_count": null,
   "metadata": {
    "ExecuteTime": {
     "end_time": "2019-04-04T19:49:35.212398Z",
     "start_time": "2019-04-04T19:49:32.312597Z"
    }
   },
   "outputs": [],
   "source": [
    "import pandas as pd\n",
    "from io import StringIO\n",
    "import subprocess\n",
    "with open('output/testpile', 'w') as file_out:\n",
    "    bam = 'testdata/tumor.bam'\n",
    "    cmd = [\"samtools\", \"mpileup\", \"-B\", \"-d\", \"10000000\", bam]\n",
    "    pileup = subprocess.Popen(cmd, stdout=subprocess.PIPE)\n",
    "b = StringIO(pileup.communicate()[0].decode('utf-8'))\n",
    "pile_df = pd.read_csv(b, sep='\\t', header=None, names=['Chr', 'Start', 'Alt', 'depth', 'read', 'quality'])\n",
    "pile_df[:14]"
   ]
  },
  {
   "cell_type": "markdown",
   "metadata": {},
   "source": [
    "### using apply on the whole dataframe"
   ]
  },
  {
   "cell_type": "code",
   "execution_count": null,
   "metadata": {
    "ExecuteTime": {
     "end_time": "2019-04-04T19:34:16.242942Z",
     "start_time": "2019-04-04T19:34:09.580684Z"
    }
   },
   "outputs": [],
   "source": [
    "def useit(row):\n",
    "    return f\"{row['Alt']} and {row['read']}\"\n",
    "\n",
    "    \n",
    "pile_df.apply(useit, axis=1)[:13]"
   ]
  },
  {
   "cell_type": "code",
   "execution_count": null,
   "metadata": {
    "ExecuteTime": {
     "end_time": "2019-04-04T21:47:59.678932Z",
     "start_time": "2019-04-04T21:47:59.675232Z"
    }
   },
   "outputs": [],
   "source": [
    "import pandas as pd\n",
    "test = pd.DataFrame(['abc', 'aaaccd'],['aaccaa', 'aaatccca'])"
   ]
  },
  {
   "cell_type": "code",
   "execution_count": null,
   "metadata": {
    "ExecuteTime": {
     "end_time": "2019-04-04T21:48:55.570448Z",
     "start_time": "2019-04-04T21:48:55.545190Z"
    }
   },
   "outputs": [],
   "source": [
    "test[0,0].value_counts()"
   ]
  },
  {
   "cell_type": "code",
   "execution_count": null,
   "metadata": {},
   "outputs": [],
   "source": []
  },
  {
   "cell_type": "markdown",
   "metadata": {
    "ExecuteTime": {
     "end_time": "2019-04-04T13:15:18.440564Z",
     "start_time": "2019-04-04T13:15:18.414299Z"
    }
   },
   "source": [
    "## joining pileup and mut_df into one"
   ]
  },
  {
   "cell_type": "code",
   "execution_count": null,
   "metadata": {
    "ExecuteTime": {
     "end_time": "2019-04-04T21:18:42.036379Z",
     "start_time": "2019-04-04T21:18:41.937024Z"
    }
   },
   "outputs": [],
   "source": [
    "import pandas as pd\n",
    "mut_df = pd.read_csv('/Users/mahtin/Dropbox/Icke/Work/somVar/tools/EBFilter/mytestdata/anno/test_rel.csv', sep='\\t').sort_values(['Chr', 'Start'])\n",
    "mut_df['Start'] -= (mut_df['Alt'] == '-')\n",
    "pileup_df = pd.read_csv('output/test_rel_eb.target.pileup', header=None, sep='\\t', names=['Chr', 'Start', 'Ref', 'depth', 'read', 'Q'], dtype = {'Chr':int, 'Start':int, 'Ref':str, 'depth':int, 'read':str, 'Q':str}).drop(columns='Ref')\n",
    "pileup_df\n",
    "mut_df = pd.merge(left=mut_df, right=pileup_df, on=['Chr', 'Start'], how='outer', left_index=True)\n",
    "# control\n",
    "names = ['Chr', 'Start','Ref']\n",
    "for i in range(10):\n",
    "    names += [f\"depth{i}\", f\"read{i}\", f\"Q{i}\"]\n",
    "control_df = pd.read_csv('output/test_rel_eb.control.pileup', header=None, sep='\\t', names = names).drop(columns='Ref')\n",
    "mut_df = pd.merge(left=mut_df, right=control_df, on=['Chr', 'Start'], how='outer', left_index=True)\n",
    "mut_df\n",
    "# mut_df['Start'] += (mut_df['Alt'] == '-')"
   ]
  },
  {
   "cell_type": "code",
   "execution_count": null,
   "metadata": {
    "ExecuteTime": {
     "end_time": "2019-04-04T21:16:51.731241Z",
     "start_time": "2019-04-04T21:16:51.725852Z"
    }
   },
   "outputs": [],
   "source": [
    "names = ['Chr', 'Start','Ref']\n",
    "for i in range(10):\n",
    "    names += [f\"depth{i}\", f\"read{i}\", f\"Q{i}\"]\n",
    "names"
   ]
  },
  {
   "cell_type": "code",
   "execution_count": null,
   "metadata": {
    "ExecuteTime": {
     "end_time": "2019-04-04T20:56:07.660319Z",
     "start_time": "2019-04-04T20:56:07.620839Z"
    }
   },
   "outputs": [],
   "source": [
    "mut_df"
   ]
  },
  {
   "cell_type": "markdown",
   "metadata": {},
   "source": [
    "## Single threading"
   ]
  },
  {
   "cell_type": "code",
   "execution_count": null,
   "metadata": {
    "ExecuteTime": {
     "end_time": "2019-04-03T20:08:23.964246Z",
     "start_time": "2019-04-03T20:08:10.502554Z"
    }
   },
   "outputs": [],
   "source": [
    "##### RUNNIT\n",
    "_['threads'] = 1\n",
    "_['debug_mode'] = False\n",
    "main(args,_)\n",
    "!ls output"
   ]
  },
  {
   "cell_type": "markdown",
   "metadata": {},
   "source": [
    "## Multithreading"
   ]
  },
  {
   "cell_type": "code",
   "execution_count": null,
   "metadata": {
    "ExecuteTime": {
     "end_time": "2019-04-03T19:58:21.269365Z",
     "start_time": "2019-04-03T19:58:08.556720Z"
    }
   },
   "outputs": [],
   "source": [
    "_['threads'] = 3\n",
    "_['debug_mode'] = False\n",
    "run.main(args,_)\n",
    "!ls output/"
   ]
  },
  {
   "cell_type": "markdown",
   "metadata": {},
   "source": [
    "### trying with multiprocessing Pool"
   ]
  },
  {
   "cell_type": "code",
   "execution_count": null,
   "metadata": {
    "ExecuteTime": {
     "end_time": "2019-04-04T12:20:57.561634Z",
     "start_time": "2019-04-04T12:20:57.517081Z"
    }
   },
   "outputs": [],
   "source": [
    "from functools import partial\n",
    "from multiprocessing import Pool\n",
    "def show(a,b,c,d):\n",
    "    return a + b + c +d\n",
    "a = 'a'\n",
    "b = 'b'\n",
    "c = 'c'\n",
    "itera = ['d', 'e', 'f']\n",
    "show_part = partial(show, a, b, c)\n",
    "show_part('t')\n",
    "pool = Pool(3)\n",
    "result = pool.map(show_part, itera)\n",
    "pool.close()\n",
    "result\n"
   ]
  }
 ],
 "metadata": {
  "kernelspec": {
   "display_name": "Python 3",
   "language": "python",
   "name": "python3"
  },
  "language_info": {
   "codemirror_mode": {
    "name": "ipython",
    "version": 3
   },
   "file_extension": ".py",
   "mimetype": "text/x-python",
   "name": "python",
   "nbconvert_exporter": "python",
   "pygments_lexer": "ipython3",
   "version": "3.7.2"
  },
  "varInspector": {
   "cols": {
    "lenName": 16,
    "lenType": 16,
    "lenVar": 40
   },
   "kernels_config": {
    "python": {
     "delete_cmd_postfix": "",
     "delete_cmd_prefix": "del ",
     "library": "var_list.py",
     "varRefreshCmd": "print(var_dic_list())"
    },
    "r": {
     "delete_cmd_postfix": ") ",
     "delete_cmd_prefix": "rm(",
     "library": "var_list.r",
     "varRefreshCmd": "cat(var_dic_list()) "
    }
   },
   "types_to_exclude": [
    "module",
    "function",
    "builtin_function_or_method",
    "instance",
    "_Feature"
   ],
   "window_display": false
  }
 },
 "nbformat": 4,
 "nbformat_minor": 2
}
