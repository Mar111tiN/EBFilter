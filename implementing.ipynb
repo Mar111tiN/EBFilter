{
 "cells": [
  {
   "cell_type": "markdown",
   "metadata": {},
   "source": [
    "# Implementation of the EBfilter by genomon"
   ]
  },
  {
   "cell_type": "markdown",
   "metadata": {},
   "source": [
    "* EBrun (originally EBFilter) is an argparse wrapper passing command line arguments to run.py (is not needed for internal use)\n",
    "* passed arguments:\n",
    "    * targetMutationFile: the .vcf or .anno containing the mutations – needed --> mut_file\n",
    "    * targetBamPath: path to the tumor bam file (+.bai) – needed --> tumor_bam\n",
    "    * controlBamPathList: text list of path to PoN bam files (+ .bai) – needed --> pon_list\n",
    "    * outputPath: clear  – needed --> output_path\n",
    "    * -f option for anno or vcf – not needed --> will be inferred from .ext\n",
    "    * thread_num: –not needed --> taken from config\n",
    "    * -q option for quality threshold – not needed --> default _q config\n",
    "    * -Q option for base quality threshold - not needed --> default _Q from config\n",
    "    * --ff option for filter flags – not needed because of preprocessing??\n",
    "    * --loption for samtools mpileup -l option – must elaborate..\n",
    "    * --region option for restriction of regions on mpileup -l – must elaborate..\n",
    "    * --debug – not needed"
   ]
  },
  {
   "cell_type": "markdown",
   "metadata": {},
   "source": [
    "## Initiation"
   ]
  },
  {
   "cell_type": "markdown",
   "metadata": {},
   "source": [
    "### imports"
   ]
  },
  {
   "cell_type": "code",
   "execution_count": 9,
   "metadata": {
    "ExecuteTime": {
     "end_time": "2019-04-01T19:23:47.233491Z",
     "start_time": "2019-04-01T19:23:47.230884Z"
    }
   },
   "outputs": [],
   "source": [
    "import os\n",
    "from code import run"
   ]
  },
  {
   "cell_type": "markdown",
   "metadata": {},
   "source": [
    "### snakemake config"
   ]
  },
  {
   "cell_type": "code",
   "execution_count": 10,
   "metadata": {
    "ExecuteTime": {
     "end_time": "2019-04-01T19:23:48.294662Z",
     "start_time": "2019-04-01T19:23:48.290352Z"
    }
   },
   "outputs": [],
   "source": [
    "config = {'EB':{'run': True}}\n",
    "params = {}\n",
    "params['map_quality'] = 20\n",
    "params['base_quality'] = 15\n",
    "params['filter_flags'] = 'UNMAP,SECONDARY,QCFAIL,DUP'\n",
    "params['loption'] = True\n",
    "config['EB']['threads'] = 1\n",
    "config['EB']['params'] = params"
   ]
  },
  {
   "cell_type": "markdown",
   "metadata": {},
   "source": [
    "### function args\n",
    "will be passed during the function call"
   ]
  },
  {
   "cell_type": "code",
   "execution_count": 11,
   "metadata": {
    "ExecuteTime": {
     "end_time": "2019-04-01T19:23:48.937676Z",
     "start_time": "2019-04-01T19:23:48.934077Z"
    }
   },
   "outputs": [],
   "source": [
    "args = {}\n",
    "args['mut_file'] = 'testdata/input.anno'\n",
    "args['tumor_bam'] = 'testdata/tumor.bam'\n",
    "args['pon_list'] = 'testdata/list_normal_sample.txt'\n",
    "args['output_path'] = 'output/output.anno'\n",
    "args['region'] = ''"
   ]
  },
  {
   "cell_type": "markdown",
   "metadata": {},
   "source": [
    "### load the config and GLOBAL STATE into variable _"
   ]
  },
  {
   "cell_type": "code",
   "execution_count": 12,
   "metadata": {
    "ExecuteTime": {
     "end_time": "2019-04-01T19:23:49.468246Z",
     "start_time": "2019-04-01T19:23:49.461976Z"
    }
   },
   "outputs": [],
   "source": [
    "debug_mode = True\n",
    "params = config['EB']['params']\n",
    "threads = config['EB']['threads']\n",
    "_q = str(params['map_quality'])  # mapping quality=20\n",
    "_Q = params['base_quality']      # base quality=15\n",
    "filter_quals = ''\n",
    "for qual in range( 33, 33 + _Q ): \n",
    "    filter_quals += chr( qual )  # qual asciis for filtering out\n",
    "_ff = params['filter_flags']     # 'UNMAP,SECONDARY,QCFAIL,DUP'\n",
    "is_loption = params['loption']   # True\n",
    "log_path = 'output/logs'         # log_file: 'output/logs/'\n",
    "log_file = os.path.join(log_path, f\"{os.path.splitext(os.path.basename(args['output_path']))[0]}.log\")\n",
    "# dump into _\n",
    "_ = {'q':_q, 'Q':_Q, 'filter_quals': filter_quals, 'ff':_ff, 'log':log_file, 'threads':threads, 'debug_mode':debug_mode}"
   ]
  },
  {
   "cell_type": "markdown",
   "metadata": {},
   "source": [
    "## Single threading"
   ]
  },
  {
   "cell_type": "code",
   "execution_count": 13,
   "metadata": {
    "ExecuteTime": {
     "end_time": "2019-04-01T19:23:51.394676Z",
     "start_time": "2019-04-01T19:23:50.405985Z"
    }
   },
   "outputs": [
    {
     "name": "stdout",
     "output_type": "stream",
     "text": [
      "\u001b[34mlogs\u001b[m\u001b[m        output.anno\r\n"
     ]
    }
   ],
   "source": [
    "_['threads'] = 1\n",
    "_['debug_mode'] = False\n",
    "run.main(args,_)\n",
    "!ls output"
   ]
  },
  {
   "cell_type": "markdown",
   "metadata": {},
   "source": [
    "## Multithreading"
   ]
  },
  {
   "cell_type": "code",
   "execution_count": 14,
   "metadata": {
    "ExecuteTime": {
     "end_time": "2019-04-01T19:24:07.971429Z",
     "start_time": "2019-04-01T19:24:07.237056Z"
    }
   },
   "outputs": [],
   "source": [
    "_['threads'] = 3\n",
    "_['debug_mode'] = True\n",
    "run.main(args,_)"
   ]
  },
  {
   "cell_type": "code",
   "execution_count": 15,
   "metadata": {
    "ExecuteTime": {
     "end_time": "2019-04-01T19:24:10.454325Z",
     "start_time": "2019-04-01T19:24:10.331911Z"
    }
   },
   "outputs": [
    {
     "name": "stdout",
     "output_type": "stream",
     "text": [
      "\u001b[34mlogs\u001b[m\u001b[m/                             output.anno.sub.0.control.pileup\r\n",
      "output.anno                       output.anno.sub.0.target.pileup\r\n",
      "output.anno.0                     output.anno.sub.1\r\n",
      "output.anno.0.region_list.bed     output.anno.sub.1.control.pileup\r\n",
      "output.anno.1                     output.anno.sub.1.target.pileup\r\n",
      "output.anno.1.region_list.bed     output.anno.sub.2\r\n",
      "output.anno.2                     output.anno.sub.2.control.pileup\r\n",
      "output.anno.2.region_list.bed     output.anno.sub.2.target.pileup\r\n",
      "output.anno.sub.0\r\n"
     ]
    }
   ],
   "source": [
    "ls output/"
   ]
  },
  {
   "cell_type": "markdown",
   "metadata": {},
   "source": [
    "## using advanced dataframes for getting the pileup files "
   ]
  },
  {
   "cell_type": "markdown",
   "metadata": {},
   "source": [
    "### get anno and pileup as dataframes (too big?)"
   ]
  },
  {
   "cell_type": "code",
   "execution_count": null,
   "metadata": {},
   "outputs": [],
   "source": [
    "anno = pd.read_csv('testdata/input.anno', sep='\\t', header=None, names=['Chr','Start', 'End', 'ref', 'var'], dtype={'Chr': str, 'Start':int, 'End': int})\n",
    "tumorpileup = pd.read_csv('output/tumor.pileup', sep='\\t', header=None, names=['Chr', 'Start', 'ref', 'depth', 'reads', 'mapQ'], dtype={'Start':int, 'reads':str, 'mapQ': str})\n",
    "pd.merge(anno,tumorpileup, on=['Chr', 'Start'])\n"
   ]
  },
  {
   "cell_type": "code",
   "execution_count": null,
   "metadata": {},
   "outputs": [],
   "source": [
    "threads = 4\n",
    "split = round(len(tumorpileup.index) / threads)\n",
    "splits = np.array_split(tumorpileup, 4)"
   ]
  },
  {
   "cell_type": "code",
   "execution_count": null,
   "metadata": {},
   "outputs": [],
   "source": [
    "splits[0]"
   ]
  },
  {
   "cell_type": "code",
   "execution_count": 1,
   "metadata": {
    "ExecuteTime": {
     "end_time": "2019-04-01T19:42:38.558181Z",
     "start_time": "2019-04-01T19:42:38.429019Z"
    }
   },
   "outputs": [
    {
     "name": "stdout",
     "output_type": "stream",
     "text": [
      "clean.pileup           normalreference3.bam   normalreference9.bai\r\n",
      "input.anno             normalreference4.bai   normalreference9.bam\r\n",
      "input.vcf.gz           normalreference4.bam   output.golden.anno\r\n",
      "list_normal_sample.txt normalreference5.bai   output.golden.vcf\r\n",
      "normalreference1.bai   normalreference5.bam   region.txt\r\n",
      "normalreference1.bam   normalreference6.bai   testing.pileup\r\n",
      "normalreference10.bai  normalreference6.bam   tumor.bai\r\n",
      "normalreference10.bam  normalreference7.bai   tumor.bam\r\n",
      "normalreference2.bai   normalreference7.bam   tumor.pileup\r\n",
      "normalreference2.bam   normalreference8.bai   tumor_region.pileup\r\n",
      "normalreference3.bai   normalreference8.bam\r\n"
     ]
    }
   ],
   "source": [
    "import subprocess\n",
    "from subprocess import PIPE\n",
    "!ls testdata/"
   ]
  },
  {
   "cell_type": "code",
   "execution_count": 4,
   "metadata": {
    "ExecuteTime": {
     "end_time": "2019-04-01T19:45:18.325988Z",
     "start_time": "2019-04-01T19:45:18.249626Z"
    }
   },
   "outputs": [],
   "source": [
    "cmd1 = ['samtools', 'mpileup', '-l', 'testdata/region.txt', 'testdata/tumor.bam']\n",
    "cmd2 = ['sed', '-E', 's/\\^\\]|\\$//g']\n",
    "with open('testdata/testing.pileup','w') as fileout:\n",
    "    samtools = subprocess.Popen(cmd1, stdout=PIPE)\n",
    "    sed = subprocess.Popen(cmd2, stdin=samtools.stdout, stdout=fileout)\n",
    "    samtools.stdout.close()\n",
    "    success = sed.communicate()"
   ]
  },
  {
   "cell_type": "code",
   "execution_count": 26,
   "metadata": {
    "ExecuteTime": {
     "end_time": "2019-04-01T19:39:55.409030Z",
     "start_time": "2019-04-01T19:39:55.404240Z"
    }
   },
   "outputs": [
    {
     "data": {
      "text/plain": [
       "(b'chr11\\t193067\\tN\\t40\\tTTTTTTTTTTTTTTTTTTTTTTTTTtTTTtTtTTTTTtTT\\tqqqIIIIIIIIIIIIIIIIIIIIIIIIIIIIIIIIIIIII\\nchr11\\t193068\\tN\\t40\\tTTTTTTTTTTTTTTTTTTTTTTTTtTTTttTtTTTTTtTT\\tqqIIIIIIIIIIIIIIIIIIIIIIIIIIIIIIIIIIIIII\\n',\n",
       " None)"
      ]
     },
     "execution_count": 26,
     "metadata": {},
     "output_type": "execute_result"
    }
   ],
   "source": [
    "success"
   ]
  },
  {
   "cell_type": "code",
   "execution_count": null,
   "metadata": {},
   "outputs": [],
   "source": []
  }
 ],
 "metadata": {
  "kernelspec": {
   "display_name": "Python 3",
   "language": "python",
   "name": "python3"
  },
  "language_info": {
   "codemirror_mode": {
    "name": "ipython",
    "version": 3
   },
   "file_extension": ".py",
   "mimetype": "text/x-python",
   "name": "python",
   "nbconvert_exporter": "python",
   "pygments_lexer": "ipython3",
   "version": "3.7.2"
  },
  "varInspector": {
   "cols": {
    "lenName": 16,
    "lenType": 16,
    "lenVar": 40
   },
   "kernels_config": {
    "python": {
     "delete_cmd_postfix": "",
     "delete_cmd_prefix": "del ",
     "library": "var_list.py",
     "varRefreshCmd": "print(var_dic_list())"
    },
    "r": {
     "delete_cmd_postfix": ") ",
     "delete_cmd_prefix": "rm(",
     "library": "var_list.r",
     "varRefreshCmd": "cat(var_dic_list()) "
    }
   },
   "types_to_exclude": [
    "module",
    "function",
    "builtin_function_or_method",
    "instance",
    "_Feature"
   ],
   "window_display": false
  }
 },
 "nbformat": 4,
 "nbformat_minor": 2
}
