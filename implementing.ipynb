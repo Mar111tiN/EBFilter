{
 "cells": [
  {
   "cell_type": "markdown",
   "metadata": {},
   "source": [
    "# Implementation of the EBfilter by genomon"
   ]
  },
  {
   "cell_type": "markdown",
   "metadata": {},
   "source": [
    "* EBrun (originally EBFilter) is an argparse wrapper passing command line arguments to run.py (is not needed for internal use)\n",
    "* passed arguments:\n",
    "    * targetMutationFile: the .vcf or .anno containing the mutations – needed --> mut_file\n",
    "    * targetBamPath: path to the tumor bam file (+.bai) – needed --> tumor_bam\n",
    "    * controlBamPathList: text list of path to PoN bam files (+ .bai) – needed --> pon_list\n",
    "    * outputPath: clear  – needed --> output_path\n",
    "    * -f option for anno or vcf – not needed --> will be inferred from .ext\n",
    "    * thread_num: –not needed --> taken from config\n",
    "    * -q option for quality threshold – not needed --> default _q config\n",
    "    * -Q option for base quality threshold - not needed --> default _Q from config\n",
    "    * --ff option for filter flags – not needed because of preprocessing??\n",
    "    * --loption for samtools mpileup -l option – must elaborate..\n",
    "    * --region option for restriction of regions on mpileup -l – must elaborate..\n",
    "    * --debug – not needed"
   ]
  },
  {
   "cell_type": "markdown",
   "metadata": {},
   "source": [
    "## Initiation"
   ]
  },
  {
   "cell_type": "markdown",
   "metadata": {},
   "source": [
    "### imports"
   ]
  },
  {
   "cell_type": "code",
   "execution_count": 1,
   "metadata": {
    "ExecuteTime": {
     "end_time": "2019-04-03T19:56:05.126699Z",
     "start_time": "2019-04-03T19:56:04.649578Z"
    }
   },
   "outputs": [],
   "source": [
    "import os\n",
    "from code import run"
   ]
  },
  {
   "cell_type": "markdown",
   "metadata": {},
   "source": [
    "### snakemake config"
   ]
  },
  {
   "cell_type": "code",
   "execution_count": 2,
   "metadata": {
    "ExecuteTime": {
     "end_time": "2019-04-03T19:56:05.133016Z",
     "start_time": "2019-04-03T19:56:05.129170Z"
    }
   },
   "outputs": [],
   "source": [
    "config = {'EB':{'run': True}}\n",
    "params = {}\n",
    "params['map_quality'] = 20\n",
    "params['base_quality'] = 15\n",
    "params['filter_flags'] = 'UNMAP,SECONDARY,QCFAIL,DUP'\n",
    "params['loption'] = True\n",
    "config['EB']['threads'] = 1\n",
    "config['EB']['params'] = params\n",
    "config['annovar'] = {'sep': '\\t'}"
   ]
  },
  {
   "cell_type": "markdown",
   "metadata": {},
   "source": [
    "### load the config and GLOBAL STATE into variable _"
   ]
  },
  {
   "cell_type": "code",
   "execution_count": 3,
   "metadata": {
    "ExecuteTime": {
     "end_time": "2019-04-03T19:56:05.140931Z",
     "start_time": "2019-04-03T19:56:05.134953Z"
    }
   },
   "outputs": [],
   "source": [
    "debug_mode = True\n",
    "args = {}\n",
    "params = config['EB']['params']\n",
    "threads = config['EB']['threads']\n",
    "sep = config['annovar']['sep']\n",
    "_q = str(params['map_quality'])  # mapping quality=20\n",
    "_Q = params['base_quality']      # base quality=15\n",
    "filter_quals = ''\n",
    "for qual in range( 33, 33 + _Q ): \n",
    "    filter_quals += chr( qual )  # qual asciis for filtering out\n",
    "_ff = params['filter_flags']     # 'UNMAP,SECONDARY,QCFAIL,DUP'\n",
    "is_loption = params['loption']   # True\n",
    "log_path = 'output/logs'         # log_file: 'output/logs/'\n",
    "\n"
   ]
  },
  {
   "cell_type": "markdown",
   "metadata": {},
   "source": [
    "### function args\n",
    "will be passed during the function call"
   ]
  },
  {
   "cell_type": "code",
   "execution_count": 4,
   "metadata": {
    "ExecuteTime": {
     "end_time": "2019-04-03T19:56:05.146456Z",
     "start_time": "2019-04-03T19:56:05.142890Z"
    }
   },
   "outputs": [],
   "source": [
    "args['mut_file'] = '/Users/mahtin/Dropbox/Icke/Work/somVar/tools/EBFilter/mytestdata/anno/test_rel.csv'\n",
    "args['tumor_bam'] = '/Users/mahtin/Dropbox/Icke/Work/somVar/tools/EBFilter/mytestdata/bam/test_Rel1.bam'\n",
    "args['pon_list'] = '/Users/mahtin/Dropbox/Icke/Work/somVar/tools/EBFilter/mytestdata/aml_pon.list'\n",
    "args['output_path'] = 'output/test_rel_eb.csv'\n",
    "args['region'] = ''\n",
    "log_file = os.path.join(log_path, f\"{os.path.splitext(os.path.basename(args['output_path']))[0]}.log\")\n",
    "# dump into _\n",
    "_ = {'q':_q, 'Q':_Q, 'filter_quals': filter_quals, 'ff':_ff, 'log':log_file, 'threads':threads, 'sep': sep, 'debug_mode':debug_mode}"
   ]
  },
  {
   "cell_type": "markdown",
   "metadata": {},
   "source": [
    "## Single threading"
   ]
  },
  {
   "cell_type": "code",
   "execution_count": 11,
   "metadata": {
    "ExecuteTime": {
     "end_time": "2019-04-03T20:01:23.564830Z",
     "start_time": "2019-04-03T20:01:10.182879Z"
    }
   },
   "outputs": [
    {
     "name": "stdout",
     "output_type": "stream",
     "text": [
      "AML033_rel_eb.csv                \u001b[34mlogs\u001b[m\u001b[m\r\n",
      "AML033_rel_eb.csv.control.pileup test_rel_eb.csv\r\n",
      "AML033_rel_eb.csv.target.pileup\r\n"
     ]
    }
   ],
   "source": [
    "##### RUNNIT\n",
    "_['threads'] = 1\n",
    "_['debug_mode'] = False\n",
    "run.main(args,_)\n",
    "!ls output"
   ]
  },
  {
   "cell_type": "markdown",
   "metadata": {},
   "source": [
    "## Multithreading"
   ]
  },
  {
   "cell_type": "code",
   "execution_count": 9,
   "metadata": {
    "ExecuteTime": {
     "end_time": "2019-04-03T19:58:21.269365Z",
     "start_time": "2019-04-03T19:58:08.556720Z"
    }
   },
   "outputs": [
    {
     "name": "stdout",
     "output_type": "stream",
     "text": [
      "AML033_rel_eb.csv                \u001b[34mlogs\u001b[m\u001b[m\r\n",
      "AML033_rel_eb.csv.control.pileup test_rel_eb.csv\r\n",
      "AML033_rel_eb.csv.target.pileup\r\n"
     ]
    }
   ],
   "source": [
    "_['threads'] = 3\n",
    "_['debug_mode'] = False\n",
    "run.main(args,_)\n",
    "!ls output/"
   ]
  },
  {
   "cell_type": "markdown",
   "metadata": {},
   "source": [
    "## using advanced dataframes for getting the pileup files "
   ]
  },
  {
   "cell_type": "markdown",
   "metadata": {},
   "source": [
    "### get anno and pileup as dataframes (too big?)"
   ]
  },
  {
   "cell_type": "code",
   "execution_count": null,
   "metadata": {
    "ExecuteTime": {
     "end_time": "2019-04-03T19:56:18.830304Z",
     "start_time": "2019-04-03T19:56:04.662Z"
    }
   },
   "outputs": [],
   "source": [
    "anno = pd.read_csv('testdata/input.anno', sep='\\t', header=None, names=['Chr','Start', 'End', 'ref', 'var'], dtype={'Chr': str, 'Start':int, 'End': int})\n",
    "tumorpileup = pd.read_csv('output/tumor.pileup', sep='\\t', header=None, names=['Chr', 'Start', 'ref', 'depth', 'reads', 'mapQ'], dtype={'Start':int, 'reads':str, 'mapQ': str})\n",
    "pd.merge(anno,tumorpileup, on=['Chr', 'Start'])\n"
   ]
  },
  {
   "cell_type": "code",
   "execution_count": null,
   "metadata": {
    "ExecuteTime": {
     "end_time": "2019-04-03T19:56:18.833449Z",
     "start_time": "2019-04-03T19:56:04.663Z"
    }
   },
   "outputs": [],
   "source": [
    "threads = 4\n",
    "split = round(len(tumorpileup.index) / threads)\n",
    "splits = np.array_split(tumorpileup, 4)"
   ]
  },
  {
   "cell_type": "code",
   "execution_count": null,
   "metadata": {
    "ExecuteTime": {
     "end_time": "2019-04-03T19:56:18.834880Z",
     "start_time": "2019-04-03T19:56:04.664Z"
    }
   },
   "outputs": [],
   "source": [
    "import pandas as pd\n",
    "anno = pd.read_csv('testdata/input.anno', sep='\\t', header=None)\n",
    "anno"
   ]
  },
  {
   "cell_type": "code",
   "execution_count": null,
   "metadata": {
    "ExecuteTime": {
     "end_time": "2019-04-03T19:56:18.836091Z",
     "start_time": "2019-04-03T19:56:04.665Z"
    }
   },
   "outputs": [],
   "source": [
    "anno[1] = anno[1] - 1 - (anno[3] == '-')\n",
    "anno[2] = anno[2] - (anno[3] == '-')\n",
    "anno"
   ]
  },
  {
   "cell_type": "code",
   "execution_count": null,
   "metadata": {
    "ExecuteTime": {
     "end_time": "2019-04-03T19:56:18.838200Z",
     "start_time": "2019-04-03T19:56:04.666Z"
    }
   },
   "outputs": [],
   "source": [
    "anno"
   ]
  },
  {
   "cell_type": "code",
   "execution_count": null,
   "metadata": {},
   "outputs": [],
   "source": []
  }
 ],
 "metadata": {
  "kernelspec": {
   "display_name": "Python 3",
   "language": "python",
   "name": "python3"
  },
  "language_info": {
   "codemirror_mode": {
    "name": "ipython",
    "version": 3
   },
   "file_extension": ".py",
   "mimetype": "text/x-python",
   "name": "python",
   "nbconvert_exporter": "python",
   "pygments_lexer": "ipython3",
   "version": "3.7.2"
  },
  "varInspector": {
   "cols": {
    "lenName": 16,
    "lenType": 16,
    "lenVar": 40
   },
   "kernels_config": {
    "python": {
     "delete_cmd_postfix": "",
     "delete_cmd_prefix": "del ",
     "library": "var_list.py",
     "varRefreshCmd": "print(var_dic_list())"
    },
    "r": {
     "delete_cmd_postfix": ") ",
     "delete_cmd_prefix": "rm(",
     "library": "var_list.r",
     "varRefreshCmd": "cat(var_dic_list()) "
    }
   },
   "types_to_exclude": [
    "module",
    "function",
    "builtin_function_or_method",
    "instance",
    "_Feature"
   ],
   "window_display": false
  }
 },
 "nbformat": 4,
 "nbformat_minor": 2
}
