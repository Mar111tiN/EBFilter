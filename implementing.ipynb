{
 "cells": [
  {
   "cell_type": "markdown",
   "metadata": {},
   "source": [
    "# Implementation of the EBfilter by genomon"
   ]
  },
  {
   "cell_type": "markdown",
   "metadata": {},
   "source": [
    "* EBrun (originally EBFilter) is an argparse wrapper passing command line arguments to run.py (is not needed for internal use)\n",
    "* passed arguments:\n",
    "    * targetMutationFile: the .vcf or .anno containing the mutations – needed --> mut_file\n",
    "    * targetBamPath: path to the tumor bam file (+.bai) – needed --> tumor_bam\n",
    "    * controlBamPathList: text list of path to PoN bam files (+ .bai) – needed --> pon_list\n",
    "    * outputPath: clear  – needed --> output_path\n",
    "    * -f option for anno or vcf – not needed --> will be inferred from .ext\n",
    "    * thread_num: –not needed --> taken from config\n",
    "    * -q option for quality threshold – not needed --> default _q config\n",
    "    * -Q option for base quality threshold - not needed --> default _Q from config\n",
    "    * --ff option for filter flags – not needed because of preprocessing??\n",
    "    * --loption for samtools mpileup -l option – must elaborate..\n",
    "    * --region option for restriction of regions on mpileup -l – must elaborate..\n",
    "    * --debug – not needed"
   ]
  },
  {
   "cell_type": "markdown",
   "metadata": {},
   "source": [
    "## Initiation"
   ]
  },
  {
   "cell_type": "markdown",
   "metadata": {},
   "source": [
    "### imports"
   ]
  },
  {
   "cell_type": "code",
   "execution_count": 5,
   "metadata": {
    "ExecuteTime": {
     "end_time": "2019-04-01T19:51:19.228445Z",
     "start_time": "2019-04-01T19:51:18.441339Z"
    }
   },
   "outputs": [],
   "source": [
    "import os\n",
    "from code import run"
   ]
  },
  {
   "cell_type": "markdown",
   "metadata": {},
   "source": [
    "### snakemake config"
   ]
  },
  {
   "cell_type": "code",
   "execution_count": 6,
   "metadata": {
    "ExecuteTime": {
     "end_time": "2019-04-01T19:51:19.922033Z",
     "start_time": "2019-04-01T19:51:19.918554Z"
    }
   },
   "outputs": [],
   "source": [
    "config = {'EB':{'run': True}}\n",
    "params = {}\n",
    "params['map_quality'] = 20\n",
    "params['base_quality'] = 15\n",
    "params['filter_flags'] = 'UNMAP,SECONDARY,QCFAIL,DUP'\n",
    "params['loption'] = True\n",
    "config['EB']['threads'] = 1\n",
    "config['EB']['params'] = params"
   ]
  },
  {
   "cell_type": "markdown",
   "metadata": {},
   "source": [
    "### function args\n",
    "will be passed during the function call"
   ]
  },
  {
   "cell_type": "code",
   "execution_count": 7,
   "metadata": {
    "ExecuteTime": {
     "end_time": "2019-04-01T19:51:20.792410Z",
     "start_time": "2019-04-01T19:51:20.789021Z"
    }
   },
   "outputs": [],
   "source": [
    "args = {}\n",
    "args['mut_file'] = 'testdata/input.anno'\n",
    "args['tumor_bam'] = 'testdata/tumor.bam'\n",
    "args['pon_list'] = 'testdata/list_normal_sample.txt'\n",
    "args['output_path'] = 'output/output.anno'\n",
    "args['region'] = ''"
   ]
  },
  {
   "cell_type": "markdown",
   "metadata": {},
   "source": [
    "### load the config and GLOBAL STATE into variable _"
   ]
  },
  {
   "cell_type": "code",
   "execution_count": 8,
   "metadata": {
    "ExecuteTime": {
     "end_time": "2019-04-01T19:51:21.545044Z",
     "start_time": "2019-04-01T19:51:21.539330Z"
    }
   },
   "outputs": [],
   "source": [
    "debug_mode = True\n",
    "params = config['EB']['params']\n",
    "threads = config['EB']['threads']\n",
    "_q = str(params['map_quality'])  # mapping quality=20\n",
    "_Q = params['base_quality']      # base quality=15\n",
    "filter_quals = ''\n",
    "for qual in range( 33, 33 + _Q ): \n",
    "    filter_quals += chr( qual )  # qual asciis for filtering out\n",
    "_ff = params['filter_flags']     # 'UNMAP,SECONDARY,QCFAIL,DUP'\n",
    "is_loption = params['loption']   # True\n",
    "log_path = 'output/logs'         # log_file: 'output/logs/'\n",
    "log_file = os.path.join(log_path, f\"{os.path.splitext(os.path.basename(args['output_path']))[0]}.log\")\n",
    "# dump into _\n",
    "_ = {'q':_q, 'Q':_Q, 'filter_quals': filter_quals, 'ff':_ff, 'log':log_file, 'threads':threads, 'debug_mode':debug_mode}"
   ]
  },
  {
   "cell_type": "markdown",
   "metadata": {},
   "source": [
    "## Single threading"
   ]
  },
  {
   "cell_type": "code",
   "execution_count": 19,
   "metadata": {
    "ExecuteTime": {
     "end_time": "2019-04-01T19:57:42.444005Z",
     "start_time": "2019-04-01T19:57:41.801852Z"
    }
   },
   "outputs": [
    {
     "ename": "TypeError",
     "evalue": "unsupported operand type(s) for -=: 'str' and 'int'",
     "output_type": "error",
     "traceback": [
      "\u001b[0;31m---------------------------------------------------------------------------\u001b[0m",
      "\u001b[0;31mTypeError\u001b[0m                                 Traceback (most recent call last)",
      "\u001b[0;32m<ipython-input-19-cf85f87cbef2>\u001b[0m in \u001b[0;36m<module>\u001b[0;34m\u001b[0m\n\u001b[1;32m      1\u001b[0m \u001b[0m_\u001b[0m\u001b[0;34m[\u001b[0m\u001b[0;34m'threads'\u001b[0m\u001b[0;34m]\u001b[0m \u001b[0;34m=\u001b[0m \u001b[0;36m1\u001b[0m\u001b[0;34m\u001b[0m\u001b[0;34m\u001b[0m\u001b[0m\n\u001b[1;32m      2\u001b[0m \u001b[0m_\u001b[0m\u001b[0;34m[\u001b[0m\u001b[0;34m'debug_mode'\u001b[0m\u001b[0;34m]\u001b[0m \u001b[0;34m=\u001b[0m \u001b[0;32mFalse\u001b[0m\u001b[0;34m\u001b[0m\u001b[0;34m\u001b[0m\u001b[0m\n\u001b[0;32m----> 3\u001b[0;31m \u001b[0mrun\u001b[0m\u001b[0;34m.\u001b[0m\u001b[0mmain\u001b[0m\u001b[0;34m(\u001b[0m\u001b[0margs\u001b[0m\u001b[0;34m,\u001b[0m\u001b[0m_\u001b[0m\u001b[0;34m)\u001b[0m\u001b[0;34m\u001b[0m\u001b[0;34m\u001b[0m\u001b[0m\n\u001b[0m\u001b[1;32m      4\u001b[0m \u001b[0mget_ipython\u001b[0m\u001b[0;34m(\u001b[0m\u001b[0;34m)\u001b[0m\u001b[0;34m.\u001b[0m\u001b[0msystem\u001b[0m\u001b[0;34m(\u001b[0m\u001b[0;34m'ls output'\u001b[0m\u001b[0;34m)\u001b[0m\u001b[0;34m\u001b[0m\u001b[0;34m\u001b[0m\u001b[0m\n",
      "\u001b[0;32m~/Dropbox/Icke/Work/somVar/tools/EBFilter/code/run.py\u001b[0m in \u001b[0;36mmain\u001b[0;34m(args, state)\u001b[0m\n\u001b[1;32m     39\u001b[0m         \u001b[0;31m# non multi-threading mode\u001b[0m\u001b[0;34m\u001b[0m\u001b[0;34m\u001b[0m\u001b[0;34m\u001b[0m\u001b[0m\n\u001b[1;32m     40\u001b[0m         \u001b[0;32mif\u001b[0m \u001b[0mis_anno\u001b[0m\u001b[0;34m:\u001b[0m\u001b[0;34m\u001b[0m\u001b[0;34m\u001b[0m\u001b[0m\n\u001b[0;32m---> 41\u001b[0;31m             \u001b[0manno\u001b[0m\u001b[0;34m.\u001b[0m\u001b[0mworker\u001b[0m\u001b[0;34m(\u001b[0m\u001b[0mmut_file\u001b[0m\u001b[0;34m,\u001b[0m \u001b[0mtumor_bam\u001b[0m\u001b[0;34m,\u001b[0m \u001b[0mpon_list\u001b[0m\u001b[0;34m,\u001b[0m \u001b[0moutput_path\u001b[0m\u001b[0;34m,\u001b[0m \u001b[0mregion\u001b[0m\u001b[0;34m,\u001b[0m\u001b[0mstate\u001b[0m\u001b[0;34m)\u001b[0m\u001b[0;34m\u001b[0m\u001b[0;34m\u001b[0m\u001b[0m\n\u001b[0m\u001b[1;32m     42\u001b[0m         \u001b[0;32melse\u001b[0m\u001b[0;34m:\u001b[0m\u001b[0;34m\u001b[0m\u001b[0;34m\u001b[0m\u001b[0m\n\u001b[1;32m     43\u001b[0m             \u001b[0mvcf\u001b[0m\u001b[0;34m.\u001b[0m\u001b[0mworker\u001b[0m\u001b[0;34m(\u001b[0m\u001b[0mmut_file\u001b[0m\u001b[0;34m,\u001b[0m \u001b[0mtumor_bam\u001b[0m\u001b[0;34m,\u001b[0m \u001b[0mpon_list\u001b[0m\u001b[0;34m,\u001b[0m \u001b[0moutput_path\u001b[0m\u001b[0;34m,\u001b[0m \u001b[0mregion\u001b[0m\u001b[0;34m,\u001b[0m\u001b[0mstate\u001b[0m\u001b[0;34m)\u001b[0m\u001b[0;34m\u001b[0m\u001b[0;34m\u001b[0m\u001b[0m\n",
      "\u001b[0;32m~/Dropbox/Icke/Work/somVar/tools/EBFilter/code/anno.py\u001b[0m in \u001b[0;36mworker\u001b[0;34m(mut_file, tumor_bam, pon_list, output_path, region, state)\u001b[0m\n\u001b[1;32m     45\u001b[0m                 \u001b[0;31m# adjust pos for deletion\u001b[0m\u001b[0;34m\u001b[0m\u001b[0;34m\u001b[0m\u001b[0;34m\u001b[0m\u001b[0m\n\u001b[1;32m     46\u001b[0m                 \u001b[0;32mif\u001b[0m \u001b[0malt\u001b[0m \u001b[0;34m==\u001b[0m \u001b[0;34m\"-\"\u001b[0m\u001b[0;34m:\u001b[0m\u001b[0;34m\u001b[0m\u001b[0;34m\u001b[0m\u001b[0m\n\u001b[0;32m---> 47\u001b[0;31m                     \u001b[0mpos\u001b[0m \u001b[0;34m-=\u001b[0m \u001b[0;36m1\u001b[0m\u001b[0;34m\u001b[0m\u001b[0;34m\u001b[0m\u001b[0m\n\u001b[0m\u001b[1;32m     48\u001b[0m                 \u001b[0;32mif\u001b[0m \u001b[0mregion\u001b[0m\u001b[0;34m:\u001b[0m\u001b[0;34m\u001b[0m\u001b[0;34m\u001b[0m\u001b[0m\n\u001b[1;32m     49\u001b[0m                     \u001b[0;32mif\u001b[0m \u001b[0mreg_chr\u001b[0m \u001b[0;34m!=\u001b[0m \u001b[0mchr\u001b[0m\u001b[0;34m:\u001b[0m\u001b[0;34m\u001b[0m\u001b[0;34m\u001b[0m\u001b[0m\n",
      "\u001b[0;31mTypeError\u001b[0m: unsupported operand type(s) for -=: 'str' and 'int'"
     ]
    }
   ],
   "source": [
    "_['threads'] = 1\n",
    "_['debug_mode'] = False\n",
    "run.main(args,_)\n",
    "!ls output"
   ]
  },
  {
   "cell_type": "markdown",
   "metadata": {},
   "source": [
    "## Multithreading"
   ]
  },
  {
   "cell_type": "code",
   "execution_count": 17,
   "metadata": {
    "ExecuteTime": {
     "end_time": "2019-04-01T19:55:31.996150Z",
     "start_time": "2019-04-01T19:55:31.159390Z"
    }
   },
   "outputs": [
    {
     "name": "stdout",
     "output_type": "stream",
     "text": [
      "\u001b[34mlogs\u001b[m\u001b[m                             output.anno.sub.0.control.pileup\r\n",
      "output.anno                      output.anno.sub.0.target.pileup\r\n",
      "output.anno.0                    output.anno.sub.1\r\n",
      "output.anno.0.region_list.bed    output.anno.sub.1.control.pileup\r\n",
      "output.anno.1                    output.anno.sub.1.target.pileup\r\n",
      "output.anno.1.region_list.bed    output.anno.sub.2\r\n",
      "output.anno.2                    output.anno.sub.2.control.pileup\r\n",
      "output.anno.2.region_list.bed    output.anno.sub.2.target.pileup\r\n",
      "output.anno.sub.0\r\n"
     ]
    }
   ],
   "source": [
    "_['threads'] = 3\n",
    "_['debug_mode'] = True\n",
    "run.main(args,_)\n",
    "!ls output/"
   ]
  },
  {
   "cell_type": "code",
   "execution_count": 15,
   "metadata": {
    "ExecuteTime": {
     "end_time": "2019-04-01T19:55:07.636103Z",
     "start_time": "2019-04-01T19:55:07.507532Z"
    }
   },
   "outputs": [
    {
     "name": "stdout",
     "output_type": "stream",
     "text": [
      "\u001b[34mlogs\u001b[m\u001b[m/                             output.anno.sub.0.control.pileup\r\n",
      "output.anno                       output.anno.sub.0.target.pileup\r\n",
      "output.anno.0                     output.anno.sub.1\r\n",
      "output.anno.0.region_list.bed     output.anno.sub.1.control.pileup\r\n",
      "output.anno.1                     output.anno.sub.1.target.pileup\r\n",
      "output.anno.1.region_list.bed     output.anno.sub.2\r\n",
      "output.anno.2                     output.anno.sub.2.control.pileup\r\n",
      "output.anno.2.region_list.bed     output.anno.sub.2.target.pileup\r\n",
      "output.anno.sub.0\r\n"
     ]
    }
   ],
   "source": [
    "ls output/"
   ]
  },
  {
   "cell_type": "markdown",
   "metadata": {},
   "source": [
    "## using advanced dataframes for getting the pileup files "
   ]
  },
  {
   "cell_type": "markdown",
   "metadata": {},
   "source": [
    "### get anno and pileup as dataframes (too big?)"
   ]
  },
  {
   "cell_type": "code",
   "execution_count": null,
   "metadata": {},
   "outputs": [],
   "source": [
    "anno = pd.read_csv('testdata/input.anno', sep='\\t', header=None, names=['Chr','Start', 'End', 'ref', 'var'], dtype={'Chr': str, 'Start':int, 'End': int})\n",
    "tumorpileup = pd.read_csv('output/tumor.pileup', sep='\\t', header=None, names=['Chr', 'Start', 'ref', 'depth', 'reads', 'mapQ'], dtype={'Start':int, 'reads':str, 'mapQ': str})\n",
    "pd.merge(anno,tumorpileup, on=['Chr', 'Start'])\n"
   ]
  },
  {
   "cell_type": "code",
   "execution_count": null,
   "metadata": {},
   "outputs": [],
   "source": [
    "threads = 4\n",
    "split = round(len(tumorpileup.index) / threads)\n",
    "splits = np.array_split(tumorpileup, 4)"
   ]
  },
  {
   "cell_type": "code",
   "execution_count": 33,
   "metadata": {
    "ExecuteTime": {
     "end_time": "2019-04-01T20:08:06.586019Z",
     "start_time": "2019-04-01T20:08:06.571362Z"
    }
   },
   "outputs": [
    {
     "data": {
      "text/html": [
       "<div>\n",
       "<style scoped>\n",
       "    .dataframe tbody tr th:only-of-type {\n",
       "        vertical-align: middle;\n",
       "    }\n",
       "\n",
       "    .dataframe tbody tr th {\n",
       "        vertical-align: top;\n",
       "    }\n",
       "\n",
       "    .dataframe thead th {\n",
       "        text-align: right;\n",
       "    }\n",
       "</style>\n",
       "<table border=\"1\" class=\"dataframe\">\n",
       "  <thead>\n",
       "    <tr style=\"text-align: right;\">\n",
       "      <th></th>\n",
       "      <th>0</th>\n",
       "      <th>1</th>\n",
       "      <th>2</th>\n",
       "      <th>3</th>\n",
       "      <th>4</th>\n",
       "    </tr>\n",
       "  </thead>\n",
       "  <tbody>\n",
       "    <tr>\n",
       "      <th>0</th>\n",
       "      <td>chr11</td>\n",
       "      <td>397665</td>\n",
       "      <td>397665</td>\n",
       "      <td>G</td>\n",
       "      <td>C</td>\n",
       "    </tr>\n",
       "    <tr>\n",
       "      <th>1</th>\n",
       "      <td>chr11</td>\n",
       "      <td>562012</td>\n",
       "      <td>562012</td>\n",
       "      <td>C</td>\n",
       "      <td>T</td>\n",
       "    </tr>\n",
       "    <tr>\n",
       "      <th>2</th>\n",
       "      <td>chr11</td>\n",
       "      <td>824202</td>\n",
       "      <td>824202</td>\n",
       "      <td>C</td>\n",
       "      <td>A</td>\n",
       "    </tr>\n",
       "    <tr>\n",
       "      <th>3</th>\n",
       "      <td>chr11</td>\n",
       "      <td>1013896</td>\n",
       "      <td>1013896</td>\n",
       "      <td>C</td>\n",
       "      <td>-</td>\n",
       "    </tr>\n",
       "    <tr>\n",
       "      <th>4</th>\n",
       "      <td>chr11</td>\n",
       "      <td>1081746</td>\n",
       "      <td>1081746</td>\n",
       "      <td>G</td>\n",
       "      <td>C</td>\n",
       "    </tr>\n",
       "    <tr>\n",
       "      <th>5</th>\n",
       "      <td>chr11</td>\n",
       "      <td>1277322</td>\n",
       "      <td>1277322</td>\n",
       "      <td>G</td>\n",
       "      <td>T</td>\n",
       "    </tr>\n",
       "    <tr>\n",
       "      <th>6</th>\n",
       "      <td>chr11</td>\n",
       "      <td>2418116</td>\n",
       "      <td>2418116</td>\n",
       "      <td>-</td>\n",
       "      <td>A</td>\n",
       "    </tr>\n",
       "    <tr>\n",
       "      <th>7</th>\n",
       "      <td>chr11</td>\n",
       "      <td>3680752</td>\n",
       "      <td>3680752</td>\n",
       "      <td>G</td>\n",
       "      <td>A</td>\n",
       "    </tr>\n",
       "    <tr>\n",
       "      <th>8</th>\n",
       "      <td>chr11</td>\n",
       "      <td>5012707</td>\n",
       "      <td>5012707</td>\n",
       "      <td>C</td>\n",
       "      <td>G</td>\n",
       "    </tr>\n",
       "    <tr>\n",
       "      <th>9</th>\n",
       "      <td>chr11</td>\n",
       "      <td>5221726</td>\n",
       "      <td>5221726</td>\n",
       "      <td>A</td>\n",
       "      <td>G</td>\n",
       "    </tr>\n",
       "  </tbody>\n",
       "</table>\n",
       "</div>"
      ],
      "text/plain": [
       "       0        1        2  3  4\n",
       "0  chr11   397665   397665  G  C\n",
       "1  chr11   562012   562012  C  T\n",
       "2  chr11   824202   824202  C  A\n",
       "3  chr11  1013896  1013896  C  -\n",
       "4  chr11  1081746  1081746  G  C\n",
       "5  chr11  1277322  1277322  G  T\n",
       "6  chr11  2418116  2418116  -  A\n",
       "7  chr11  3680752  3680752  G  A\n",
       "8  chr11  5012707  5012707  C  G\n",
       "9  chr11  5221726  5221726  A  G"
      ]
     },
     "execution_count": 33,
     "metadata": {},
     "output_type": "execute_result"
    }
   ],
   "source": [
    "import pandas as pd\n",
    "anno = pd.read_csv('testdata/input.anno', sep='\\t', header=None)\n",
    "anno"
   ]
  },
  {
   "cell_type": "code",
   "execution_count": 34,
   "metadata": {
    "ExecuteTime": {
     "end_time": "2019-04-01T20:08:09.263050Z",
     "start_time": "2019-04-01T20:08:09.250127Z"
    }
   },
   "outputs": [
    {
     "data": {
      "text/html": [
       "<div>\n",
       "<style scoped>\n",
       "    .dataframe tbody tr th:only-of-type {\n",
       "        vertical-align: middle;\n",
       "    }\n",
       "\n",
       "    .dataframe tbody tr th {\n",
       "        vertical-align: top;\n",
       "    }\n",
       "\n",
       "    .dataframe thead th {\n",
       "        text-align: right;\n",
       "    }\n",
       "</style>\n",
       "<table border=\"1\" class=\"dataframe\">\n",
       "  <thead>\n",
       "    <tr style=\"text-align: right;\">\n",
       "      <th></th>\n",
       "      <th>0</th>\n",
       "      <th>1</th>\n",
       "      <th>2</th>\n",
       "      <th>3</th>\n",
       "      <th>4</th>\n",
       "    </tr>\n",
       "  </thead>\n",
       "  <tbody>\n",
       "    <tr>\n",
       "      <th>0</th>\n",
       "      <td>chr11</td>\n",
       "      <td>397664</td>\n",
       "      <td>397665</td>\n",
       "      <td>G</td>\n",
       "      <td>C</td>\n",
       "    </tr>\n",
       "    <tr>\n",
       "      <th>1</th>\n",
       "      <td>chr11</td>\n",
       "      <td>562011</td>\n",
       "      <td>562012</td>\n",
       "      <td>C</td>\n",
       "      <td>T</td>\n",
       "    </tr>\n",
       "    <tr>\n",
       "      <th>2</th>\n",
       "      <td>chr11</td>\n",
       "      <td>824201</td>\n",
       "      <td>824202</td>\n",
       "      <td>C</td>\n",
       "      <td>A</td>\n",
       "    </tr>\n",
       "    <tr>\n",
       "      <th>3</th>\n",
       "      <td>chr11</td>\n",
       "      <td>1013895</td>\n",
       "      <td>1013896</td>\n",
       "      <td>C</td>\n",
       "      <td>-</td>\n",
       "    </tr>\n",
       "    <tr>\n",
       "      <th>4</th>\n",
       "      <td>chr11</td>\n",
       "      <td>1081745</td>\n",
       "      <td>1081746</td>\n",
       "      <td>G</td>\n",
       "      <td>C</td>\n",
       "    </tr>\n",
       "    <tr>\n",
       "      <th>5</th>\n",
       "      <td>chr11</td>\n",
       "      <td>1277321</td>\n",
       "      <td>1277322</td>\n",
       "      <td>G</td>\n",
       "      <td>T</td>\n",
       "    </tr>\n",
       "    <tr>\n",
       "      <th>6</th>\n",
       "      <td>chr11</td>\n",
       "      <td>2418114</td>\n",
       "      <td>2418115</td>\n",
       "      <td>-</td>\n",
       "      <td>A</td>\n",
       "    </tr>\n",
       "    <tr>\n",
       "      <th>7</th>\n",
       "      <td>chr11</td>\n",
       "      <td>3680751</td>\n",
       "      <td>3680752</td>\n",
       "      <td>G</td>\n",
       "      <td>A</td>\n",
       "    </tr>\n",
       "    <tr>\n",
       "      <th>8</th>\n",
       "      <td>chr11</td>\n",
       "      <td>5012706</td>\n",
       "      <td>5012707</td>\n",
       "      <td>C</td>\n",
       "      <td>G</td>\n",
       "    </tr>\n",
       "    <tr>\n",
       "      <th>9</th>\n",
       "      <td>chr11</td>\n",
       "      <td>5221725</td>\n",
       "      <td>5221726</td>\n",
       "      <td>A</td>\n",
       "      <td>G</td>\n",
       "    </tr>\n",
       "  </tbody>\n",
       "</table>\n",
       "</div>"
      ],
      "text/plain": [
       "       0        1        2  3  4\n",
       "0  chr11   397664   397665  G  C\n",
       "1  chr11   562011   562012  C  T\n",
       "2  chr11   824201   824202  C  A\n",
       "3  chr11  1013895  1013896  C  -\n",
       "4  chr11  1081745  1081746  G  C\n",
       "5  chr11  1277321  1277322  G  T\n",
       "6  chr11  2418114  2418115  -  A\n",
       "7  chr11  3680751  3680752  G  A\n",
       "8  chr11  5012706  5012707  C  G\n",
       "9  chr11  5221725  5221726  A  G"
      ]
     },
     "execution_count": 34,
     "metadata": {},
     "output_type": "execute_result"
    }
   ],
   "source": [
    "anno[1] = anno[1] - 1 - (anno[3] == '-')\n",
    "anno[2] = anno[2] - (anno[3] == '-')\n",
    "anno"
   ]
  },
  {
   "cell_type": "code",
   "execution_count": 30,
   "metadata": {
    "ExecuteTime": {
     "end_time": "2019-04-01T20:06:07.041679Z",
     "start_time": "2019-04-01T20:06:07.031823Z"
    }
   },
   "outputs": [
    {
     "data": {
      "text/html": [
       "<div>\n",
       "<style scoped>\n",
       "    .dataframe tbody tr th:only-of-type {\n",
       "        vertical-align: middle;\n",
       "    }\n",
       "\n",
       "    .dataframe tbody tr th {\n",
       "        vertical-align: top;\n",
       "    }\n",
       "\n",
       "    .dataframe thead th {\n",
       "        text-align: right;\n",
       "    }\n",
       "</style>\n",
       "<table border=\"1\" class=\"dataframe\">\n",
       "  <thead>\n",
       "    <tr style=\"text-align: right;\">\n",
       "      <th></th>\n",
       "      <th>0</th>\n",
       "      <th>1</th>\n",
       "      <th>2</th>\n",
       "      <th>3</th>\n",
       "      <th>4</th>\n",
       "    </tr>\n",
       "  </thead>\n",
       "  <tbody>\n",
       "    <tr>\n",
       "      <th>0</th>\n",
       "      <td>chr11</td>\n",
       "      <td>397665</td>\n",
       "      <td>397665</td>\n",
       "      <td>G</td>\n",
       "      <td>C</td>\n",
       "    </tr>\n",
       "    <tr>\n",
       "      <th>1</th>\n",
       "      <td>chr11</td>\n",
       "      <td>562012</td>\n",
       "      <td>562012</td>\n",
       "      <td>C</td>\n",
       "      <td>T</td>\n",
       "    </tr>\n",
       "    <tr>\n",
       "      <th>2</th>\n",
       "      <td>chr11</td>\n",
       "      <td>824202</td>\n",
       "      <td>824202</td>\n",
       "      <td>C</td>\n",
       "      <td>A</td>\n",
       "    </tr>\n",
       "    <tr>\n",
       "      <th>3</th>\n",
       "      <td>chr11</td>\n",
       "      <td>1013896</td>\n",
       "      <td>1013896</td>\n",
       "      <td>C</td>\n",
       "      <td>-</td>\n",
       "    </tr>\n",
       "    <tr>\n",
       "      <th>4</th>\n",
       "      <td>chr11</td>\n",
       "      <td>1081746</td>\n",
       "      <td>1081746</td>\n",
       "      <td>G</td>\n",
       "      <td>C</td>\n",
       "    </tr>\n",
       "    <tr>\n",
       "      <th>5</th>\n",
       "      <td>chr11</td>\n",
       "      <td>1277322</td>\n",
       "      <td>1277322</td>\n",
       "      <td>G</td>\n",
       "      <td>T</td>\n",
       "    </tr>\n",
       "    <tr>\n",
       "      <th>6</th>\n",
       "      <td>chr11</td>\n",
       "      <td>2418115</td>\n",
       "      <td>2418116</td>\n",
       "      <td>-</td>\n",
       "      <td>A</td>\n",
       "    </tr>\n",
       "    <tr>\n",
       "      <th>7</th>\n",
       "      <td>chr11</td>\n",
       "      <td>3680752</td>\n",
       "      <td>3680752</td>\n",
       "      <td>G</td>\n",
       "      <td>A</td>\n",
       "    </tr>\n",
       "    <tr>\n",
       "      <th>8</th>\n",
       "      <td>chr11</td>\n",
       "      <td>5012707</td>\n",
       "      <td>5012707</td>\n",
       "      <td>C</td>\n",
       "      <td>G</td>\n",
       "    </tr>\n",
       "    <tr>\n",
       "      <th>9</th>\n",
       "      <td>chr11</td>\n",
       "      <td>5221726</td>\n",
       "      <td>5221726</td>\n",
       "      <td>A</td>\n",
       "      <td>G</td>\n",
       "    </tr>\n",
       "  </tbody>\n",
       "</table>\n",
       "</div>"
      ],
      "text/plain": [
       "       0        1        2  3  4\n",
       "0  chr11   397665   397665  G  C\n",
       "1  chr11   562012   562012  C  T\n",
       "2  chr11   824202   824202  C  A\n",
       "3  chr11  1013896  1013896  C  -\n",
       "4  chr11  1081746  1081746  G  C\n",
       "5  chr11  1277322  1277322  G  T\n",
       "6  chr11  2418115  2418116  -  A\n",
       "7  chr11  3680752  3680752  G  A\n",
       "8  chr11  5012707  5012707  C  G\n",
       "9  chr11  5221726  5221726  A  G"
      ]
     },
     "execution_count": 30,
     "metadata": {},
     "output_type": "execute_result"
    }
   ],
   "source": [
    "anno"
   ]
  },
  {
   "cell_type": "code",
   "execution_count": null,
   "metadata": {},
   "outputs": [],
   "source": []
  }
 ],
 "metadata": {
  "kernelspec": {
   "display_name": "Python 3",
   "language": "python",
   "name": "python3"
  },
  "language_info": {
   "codemirror_mode": {
    "name": "ipython",
    "version": 3
   },
   "file_extension": ".py",
   "mimetype": "text/x-python",
   "name": "python",
   "nbconvert_exporter": "python",
   "pygments_lexer": "ipython3",
   "version": "3.7.2"
  },
  "varInspector": {
   "cols": {
    "lenName": 16,
    "lenType": 16,
    "lenVar": 40
   },
   "kernels_config": {
    "python": {
     "delete_cmd_postfix": "",
     "delete_cmd_prefix": "del ",
     "library": "var_list.py",
     "varRefreshCmd": "print(var_dic_list())"
    },
    "r": {
     "delete_cmd_postfix": ") ",
     "delete_cmd_prefix": "rm(",
     "library": "var_list.r",
     "varRefreshCmd": "cat(var_dic_list()) "
    }
   },
   "types_to_exclude": [
    "module",
    "function",
    "builtin_function_or_method",
    "instance",
    "_Feature"
   ],
   "window_display": false
  }
 },
 "nbformat": 4,
 "nbformat_minor": 2
}
